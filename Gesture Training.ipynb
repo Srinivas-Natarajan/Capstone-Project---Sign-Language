{
 "cells": [
  {
   "cell_type": "code",
   "execution_count": 1,
   "metadata": {},
   "outputs": [],
   "source": [
    "import os\n",
    "import mediapipe as mp \n",
    "import numpy as np\n",
    "import cv2"
   ]
  },
  {
   "cell_type": "markdown",
   "metadata": {},
   "source": [
    "## **1. Gesture Collection**"
   ]
  },
  {
   "cell_type": "code",
   "execution_count": null,
   "metadata": {},
   "outputs": [],
   "source": [
    "# mp_holistic = mp.solutions.holistic # Holistic model\n",
    "# mp_drawing = mp.solutions.drawing_utils # Drawing utilities\n",
    "\n",
    "# mpHands = mp.solutions.hands\n",
    "# hands = mpHands.Hands(max_num_hands=2, min_detection_confidence=0.7)\n",
    "\n",
    "mp_holistic = mp.solutions.holistic\n",
    "holistic = mp_holistic.Holistic(min_detection_confidence=0.7, min_tracking_confidence=0.7)\n",
    "mpDraw = mp.solutions.drawing_utils"
   ]
  },
  {
   "cell_type": "code",
   "execution_count": 2,
   "metadata": {},
   "outputs": [],
   "source": [
    "# Path for exported data, numpy arrays\n",
    "DATA_PATH = os.path.join('MP_Data') \n",
    "\n",
    "# Actions that we try to detect\n",
    "actions = np.array(['Hello', 'Love You', 'Understand', 'Thanks', 'Some', 'Home', 'name', 'my', 'how'])\n",
    "# actions = np.array(['name'])\n",
    "\n",
    "# Thirty videos worth of data\n",
    "no_sequences =  25\n",
    "\n",
    "# Videos are going to be 30 frames in length\n",
    "sequence_length = 30\n",
    "\n",
    "# Folder start\n",
    "start_folder = 0"
   ]
  },
  {
   "cell_type": "code",
   "execution_count": 4,
   "metadata": {},
   "outputs": [],
   "source": [
    "import pickle\n",
    "\n",
    "with open(\"gestures.pkl\", 'wb') as f:\n",
    "    pickle.dump(actions, f)"
   ]
  },
  {
   "cell_type": "code",
   "execution_count": null,
   "metadata": {},
   "outputs": [],
   "source": [
    "for action in actions: \n",
    "    for sequence in range(no_sequences):\n",
    "        try: \n",
    "            os.makedirs(os.path.join(DATA_PATH, action, str(sequence)))\n",
    "        except:\n",
    "            pass"
   ]
  },
  {
   "cell_type": "code",
   "execution_count": null,
   "metadata": {},
   "outputs": [],
   "source": [
    "cap = cv2.VideoCapture(0)\n",
    "    \n",
    "# NEW LOOP\n",
    "# Loop through actions\n",
    "for action in actions:\n",
    "    # Loop through sequences aka videos\n",
    "    for sequence in range(start_folder, start_folder+no_sequences):\n",
    "        # Loop through video length aka sequence length\n",
    "        for frame_num in range(sequence_length):\n",
    "\n",
    "            _, frame = cap.read()\n",
    "\n",
    "            x, y, c = frame.shape\n",
    "\n",
    "            # Flip the frame vertically\n",
    "            frame = cv2.flip(frame, 1)\n",
    "            framergb = cv2.cvtColor(frame, cv2.COLOR_BGR2RGB)\n",
    "\n",
    "            # Get hand landmark prediction\n",
    "            result = holistic.process(framergb)  \n",
    "            className = ''\n",
    "            \n",
    "            # post process the result\n",
    "            if result.left_hand_landmarks or result.right_hand_landmarks:\n",
    "                landmarks = []\n",
    "\n",
    "                lh = [[res.x, res.y] for res in result.left_hand_landmarks.landmark] if result.left_hand_landmarks else np.zeros(21*2).reshape(-1,2).tolist()\n",
    "                rh = [[res.x, res.y] for res in result.right_hand_landmarks.landmark] if result.right_hand_landmarks else np.zeros(21*2).reshape(-1,2).tolist()\n",
    "                \n",
    "                print(\"Initial: \", np.array(lh).shape, np.array(rh).shape)\n",
    "                for i in range(len(lh)):\n",
    "                    landmarks.append(np.append(lh[i], rh[i]).tolist())\n",
    "                \n",
    "                # Drawing landmarks on frames\n",
    "                mpDraw.draw_landmarks(frame, result.left_hand_landmarks, mp_holistic.HAND_CONNECTIONS) # Draw left hand connections\n",
    "                mpDraw.draw_landmarks(frame, result.right_hand_landmarks, mp_holistic.HAND_CONNECTIONS) # Draw right hand connections\n",
    "\n",
    "\n",
    "                # NEW Apply wait logic\n",
    "                if frame_num == 0: \n",
    "                    cv2.putText(frame, 'STARTING COLLECTION', (120,200), \n",
    "                            cv2.FONT_HERSHEY_SIMPLEX, 1, (0,255, 0), 4, cv2.LINE_AA)\n",
    "                    cv2.putText(frame, 'Frames for {} Video Number {}'.format(action, sequence), (15,15), \n",
    "                            cv2.FONT_HERSHEY_SIMPLEX, 0.7, (255, 0, 0), 1, cv2.LINE_AA)\n",
    "                    # Show to screen\n",
    "                    cv2.imshow('OpenCV Feed', frame)\n",
    "                    cv2.waitKey(1000)\n",
    "                else: \n",
    "                    cv2.putText(frame, 'Frames for {} Video Number {}'.format(action, sequence), (15,12), \n",
    "                            -cv2.FONT_HERSHEY_SIMPLEX, 0.7, (0, 0, 255), 1, cv2.LINE_AA)\n",
    "                    # Show to screen\n",
    "                    cv2.imshow('OpenCV Feed', frame)\n",
    "                \n",
    "                \n",
    "                npy_path = os.path.join(DATA_PATH, action, str(sequence), str(frame_num))\n",
    "                # npy_path = \"./MP_Data/\" + action + \"_\" + str(sequence) + \"_\" + str(frame_num)\n",
    "                np.save(npy_path, landmarks)\n",
    "\n",
    "                # Break gracefully\n",
    "                if cv2.waitKey(10) & 0xFF == ord('q'):\n",
    "                    break\n",
    "                \n",
    "cap.release()\n",
    "cv2.destroyAllWindows()"
   ]
  },
  {
   "cell_type": "code",
   "execution_count": null,
   "metadata": {},
   "outputs": [],
   "source": [
    "cap.release()\n",
    "cv2.destroyAllWindows()"
   ]
  },
  {
   "cell_type": "markdown",
   "metadata": {},
   "source": [
    "## **2. Alphabet Collection**"
   ]
  },
  {
   "cell_type": "code",
   "execution_count": 2,
   "metadata": {},
   "outputs": [],
   "source": [
    "mpHands = mp.solutions.hands\n",
    "hands = mpHands.Hands(max_num_hands=1, min_detection_confidence=0.7)\n",
    "mpDraw = mp.solutions.drawing_utils"
   ]
  },
  {
   "cell_type": "code",
   "execution_count": 6,
   "metadata": {},
   "outputs": [
    {
     "name": "stdout",
     "output_type": "stream",
     "text": [
      "['O' 'P' 'Q' 'R' 'S']\n"
     ]
    }
   ],
   "source": [
    "DATA_PATH = os.path.join('MP_Data_Char') \n",
    "\n",
    "actions = np.array( [ chr(i) for i in range(ord('O'), ord('S')+1) ] )\n",
    "# actions = np.array(['E'])\n",
    "print(actions)\n",
    "\n",
    "no_sequences =  25\n",
    "sequence_length = 30\n",
    "start_folder = 0"
   ]
  },
  {
   "cell_type": "code",
   "execution_count": 7,
   "metadata": {},
   "outputs": [],
   "source": [
    "for action in actions: \n",
    "    for sequence in range(no_sequences):\n",
    "        try: \n",
    "            os.makedirs(os.path.join(DATA_PATH, action, str(sequence)))\n",
    "        except:\n",
    "            pass"
   ]
  },
  {
   "cell_type": "code",
   "execution_count": 8,
   "metadata": {},
   "outputs": [],
   "source": [
    "cap = cv2.VideoCapture(0)\n",
    "    \n",
    "# NEW LOOP\n",
    "# Loop through actions\n",
    "for action in actions:\n",
    "    # Loop through sequences aka videos\n",
    "    for sequence in range(start_folder, start_folder+no_sequences):\n",
    "        # Loop through video length aka sequence length\n",
    "        for frame_num in range(sequence_length):\n",
    "\n",
    "            _, frame = cap.read()\n",
    "\n",
    "            x, y, c = frame.shape\n",
    "\n",
    "            # Flip the frame vertically\n",
    "            frame = cv2.flip(frame, 1)\n",
    "            framergb = cv2.cvtColor(frame, cv2.COLOR_BGR2RGB)\n",
    "\n",
    "            # Get hand landmark prediction\n",
    "            result = hands.process(framergb)  \n",
    "            className = ''\n",
    "            \n",
    "            # post process the result\n",
    "            if result.multi_hand_landmarks:\n",
    "                landmarks = []\n",
    "                for handslms in result.multi_hand_landmarks:\n",
    "                    for lm in handslms.landmark:\n",
    "                        # print(id, lm)\n",
    "                        lmx = int(lm.x * x)\n",
    "                        lmy = int(lm.y * y)\n",
    "\n",
    "                        landmarks.append([lmx, lmy])\n",
    "\n",
    "                    # Drawing landmarks on frames\n",
    "                    mpDraw.draw_landmarks(frame, handslms, mpHands.HAND_CONNECTIONS)\n",
    "\n",
    "\n",
    "                # NEW Apply wait logic\n",
    "                if frame_num == 0: \n",
    "                    cv2.putText(frame, 'STARTING COLLECTION', (120,200), \n",
    "                            cv2.FONT_HERSHEY_SIMPLEX, 1, (0,255, 0), 4, cv2.LINE_AA)\n",
    "                    cv2.putText(frame, 'Frames for {} Video Number {}'.format(action, sequence), (15,15), \n",
    "                            cv2.FONT_HERSHEY_SIMPLEX, 0.7, (255, 0, 0), 1, cv2.LINE_AA)\n",
    "                    # Show to screen\n",
    "                    cv2.imshow('OpenCV Feed', frame)\n",
    "                    cv2.waitKey(1000)\n",
    "                else: \n",
    "                    cv2.putText(frame, 'Frames for {} Video Number {}'.format(action, sequence), (15,12), \n",
    "                            -cv2.FONT_HERSHEY_SIMPLEX, 0.7, (0, 0, 255), 1, cv2.LINE_AA)\n",
    "                    # Show to screen\n",
    "                    cv2.imshow('OpenCV Feed', frame)\n",
    "                \n",
    "                \n",
    "                npy_path = os.path.join(DATA_PATH, action, str(sequence), str(frame_num))\n",
    "                # npy_path = \"./MP_Data/\" + action + \"_\" + str(sequence) + \"_\" + str(frame_num)\n",
    "                np.save(npy_path, landmarks)\n",
    "\n",
    "                # Break gracefully\n",
    "                if cv2.waitKey(10) & 0xFF == ord('q'):\n",
    "                    break\n",
    "                \n",
    "cap.release()\n",
    "cv2.destroyAllWindows()"
   ]
  },
  {
   "cell_type": "code",
   "execution_count": 37,
   "metadata": {},
   "outputs": [],
   "source": [
    "cap.release()\n",
    "cv2.destroyAllWindows()"
   ]
  },
  {
   "cell_type": "markdown",
   "metadata": {},
   "source": [
    "## **3. Pre-processing Code**"
   ]
  },
  {
   "cell_type": "code",
   "execution_count": 9,
   "metadata": {},
   "outputs": [
    {
     "name": "stdout",
     "output_type": "stream",
     "text": [
      "MP_Data_Char \n",
      " 0\n",
      "MP_Data_Char\\A \n",
      " 0\n",
      "MP_Data_Char\\A\\11 \n",
      " 29\n",
      "MP_Data_Char\\A\\14 \n",
      " 29\n",
      "MP_Data_Char\\A\\16 \n",
      " 29\n",
      "MP_Data_Char\\A\\18 \n",
      " 26\n",
      "MP_Data_Char\\A\\19 \n",
      " 29\n",
      "MP_Data_Char\\A\\4 \n",
      " 29\n",
      "MP_Data_Char\\A\\6 \n",
      " 29\n",
      "MP_Data_Char\\A\\7 \n",
      " 29\n",
      "MP_Data_Char\\B \n",
      " 0\n",
      "MP_Data_Char\\B\\1 \n",
      " 29\n",
      "MP_Data_Char\\B\\15 \n",
      " 29\n",
      "MP_Data_Char\\B\\16 \n",
      " 29\n",
      "MP_Data_Char\\B\\22 \n",
      " 29\n",
      "MP_Data_Char\\B\\8 \n",
      " 28\n",
      "MP_Data_Char\\C \n",
      " 0\n",
      "MP_Data_Char\\C\\0 \n",
      " 29\n",
      "MP_Data_Char\\C\\19 \n",
      " 26\n",
      "MP_Data_Char\\C\\22 \n",
      " 19\n",
      "MP_Data_Char\\C\\3 \n",
      " 29\n",
      "MP_Data_Char\\D \n",
      " 0\n",
      "MP_Data_Char\\D\\19 \n",
      " 28\n",
      "MP_Data_Char\\D\\22 \n",
      " 29\n",
      "MP_Data_Char\\D\\8 \n",
      " 29\n",
      "MP_Data_Char\\E \n",
      " 0\n",
      "MP_Data_Char\\E\\16 \n",
      " 29\n",
      "MP_Data_Char\\F \n",
      " 0\n",
      "MP_Data_Char\\F\\15 \n",
      " 29\n",
      "MP_Data_Char\\G \n",
      " 0\n",
      "MP_Data_Char\\G\\0 \n",
      " 29\n",
      "MP_Data_Char\\G\\12 \n",
      " 29\n",
      "MP_Data_Char\\G\\14 \n",
      " 29\n",
      "MP_Data_Char\\G\\17 \n",
      " 28\n",
      "MP_Data_Char\\G\\20 \n",
      " 29\n",
      "MP_Data_Char\\G\\6 \n",
      " 29\n",
      "MP_Data_Char\\G\\7 \n",
      " 29\n",
      "MP_Data_Char\\H \n",
      " 0\n",
      "MP_Data_Char\\H\\12 \n",
      " 29\n",
      "MP_Data_Char\\H\\15 \n",
      " 29\n",
      "MP_Data_Char\\H\\16 \n",
      " 29\n",
      "MP_Data_Char\\H\\24 \n",
      " 29\n",
      "MP_Data_Char\\H\\4 \n",
      " 27\n",
      "MP_Data_Char\\I \n",
      " 0\n",
      "MP_Data_Char\\I\\10 \n",
      " 29\n",
      "MP_Data_Char\\I\\11 \n",
      " 29\n",
      "MP_Data_Char\\I\\16 \n",
      " 29\n",
      "MP_Data_Char\\I\\17 \n",
      " 29\n",
      "MP_Data_Char\\I\\19 \n",
      " 27\n",
      "MP_Data_Char\\I\\22 \n",
      " 29\n",
      "MP_Data_Char\\I\\24 \n",
      " 28\n",
      "MP_Data_Char\\J \n",
      " 0\n",
      "MP_Data_Char\\J\\13 \n",
      " 29\n",
      "MP_Data_Char\\J\\14 \n",
      " 29\n",
      "MP_Data_Char\\J\\15 \n",
      " 29\n",
      "MP_Data_Char\\J\\16 \n",
      " 29\n",
      "MP_Data_Char\\J\\17 \n",
      " 27\n",
      "MP_Data_Char\\J\\19 \n",
      " 29\n",
      "MP_Data_Char\\J\\20 \n",
      " 29\n",
      "MP_Data_Char\\J\\21 \n",
      " 29\n",
      "MP_Data_Char\\J\\4 \n",
      " 29\n",
      "MP_Data_Char\\J\\6 \n",
      " 29\n",
      "MP_Data_Char\\J\\7 \n",
      " 29\n",
      "MP_Data_Char\\K \n",
      " 0\n",
      "MP_Data_Char\\K\\0 \n",
      " 29\n",
      "MP_Data_Char\\K\\13 \n",
      " 29\n",
      "MP_Data_Char\\K\\15 \n",
      " 29\n",
      "MP_Data_Char\\L \n",
      " 0\n",
      "MP_Data_Char\\L\\0 \n",
      " 29\n",
      "MP_Data_Char\\L\\13 \n",
      " 29\n",
      "MP_Data_Char\\O \n",
      " 0\n",
      "MP_Data_Char\\O\\0 \n",
      " 29\n",
      "MP_Data_Char\\O\\17 \n",
      " 29\n",
      "MP_Data_Char\\P \n",
      " 0\n",
      "MP_Data_Char\\P\\0 \n",
      " 29\n",
      "MP_Data_Char\\P\\17 \n",
      " 29\n",
      "MP_Data_Char\\Q \n",
      " 0\n",
      "MP_Data_Char\\Q\\0 \n",
      " 24\n",
      "MP_Data_Char\\Q\\10 \n",
      " 29\n",
      "MP_Data_Char\\Q\\14 \n",
      " 24\n",
      "MP_Data_Char\\Q\\15 \n",
      " 6\n",
      "MP_Data_Char\\Q\\16 \n",
      " 0\n",
      "MP_Data_Char\\Q\\17 \n",
      " 1\n",
      "MP_Data_Char\\Q\\18 \n",
      " 2\n",
      "MP_Data_Char\\Q\\19 \n",
      " 0\n",
      "MP_Data_Char\\Q\\2 \n",
      " 11\n",
      "MP_Data_Char\\Q\\20 \n",
      " 2\n",
      "MP_Data_Char\\Q\\21 \n",
      " 13\n",
      "MP_Data_Char\\Q\\22 \n",
      " 8\n",
      "MP_Data_Char\\Q\\23 \n",
      " 13\n",
      "MP_Data_Char\\Q\\24 \n",
      " 25\n",
      "MP_Data_Char\\Q\\3 \n",
      " 19\n",
      "MP_Data_Char\\Q\\5 \n",
      " 29\n",
      "MP_Data_Char\\Q\\6 \n",
      " 22\n",
      "MP_Data_Char\\Q\\7 \n",
      " 5\n",
      "MP_Data_Char\\Q\\8 \n",
      " 0\n",
      "MP_Data_Char\\Q\\9 \n",
      " 0\n",
      "MP_Data_Char\\R \n",
      " 0\n",
      "MP_Data_Char\\R\\0 \n",
      " 29\n",
      "MP_Data_Char\\R\\15 \n",
      " 29\n",
      "MP_Data_Char\\S \n",
      " 0\n",
      "MP_Data_Char\\S\\0 \n",
      " 29\n",
      "MP_Data_Char\\S\\16 \n",
      " 29\n"
     ]
    }
   ],
   "source": [
    "list_of_files = {}\n",
    "# MP_Data for gestures, MP_Data_Char for Alphabets\n",
    "for (dirpath, dirnames, filenames) in os.walk(\"MP_Data_Char\"):\n",
    "    # print(dirpath, \"\\n\", dirnames, \"\\n\", len(filenames))\n",
    "    if(len(filenames)!=30):\n",
    "         print(dirpath, \"\\n\", len(filenames))"
   ]
  },
  {
   "cell_type": "code",
   "execution_count": 14,
   "metadata": {},
   "outputs": [],
   "source": [
    "actions = np.array( [ chr(i) for i in range(ord('A'), ord('S')+1) if i!=ord('M') and i!=ord('N')] )"
   ]
  },
  {
   "cell_type": "code",
   "execution_count": 15,
   "metadata": {},
   "outputs": [
    {
     "name": "stdout",
     "output_type": "stream",
     "text": [
      "{'A': 0, 'B': 1, 'C': 2, 'D': 3, 'E': 4, 'F': 5, 'G': 6, 'H': 7, 'I': 8, 'J': 9, 'K': 10, 'L': 11, 'O': 12, 'P': 13, 'Q': 14, 'R': 15, 'S': 16}\n"
     ]
    }
   ],
   "source": [
    "label_map = {label:num for num, label in enumerate(actions)}\n",
    "print(label_map)"
   ]
  },
  {
   "cell_type": "code",
   "execution_count": 16,
   "metadata": {},
   "outputs": [
    {
     "name": "stdout",
     "output_type": "stream",
     "text": [
      "(12292, 21, 2)\n",
      "(12292,)\n"
     ]
    }
   ],
   "source": [
    "data = []\n",
    "labels = []\n",
    "\n",
    "for action in actions:\n",
    "    for (dirpath, dirnames, filenames) in os.walk(os.path.join(\"MP_Data_Char\", action)):\n",
    "        if(len(dirnames)==0):\n",
    "            for filename in filenames:\n",
    "                data.append(np.load( os.path.join(dirpath, filename) ))\n",
    "                labels.append(label_map[action])\n",
    "\n",
    "data = np.array(data)\n",
    "labels = np.array(labels)\n",
    "print(data.shape)\n",
    "print(labels.shape)"
   ]
  },
  {
   "cell_type": "code",
   "execution_count": 17,
   "metadata": {},
   "outputs": [
    {
     "name": "stdout",
     "output_type": "stream",
     "text": [
      "{0: 739, 1: 744, 2: 733, 3: 746, 4: 749, 5: 749, 6: 742, 7: 743, 8: 740, 9: 737, 10: 747, 11: 748, 12: 748, 13: 748, 14: 383, 15: 748, 16: 748}\n"
     ]
    }
   ],
   "source": [
    "unique, counts = np.unique(labels, return_counts=True)\n",
    "print(dict(zip(unique, counts)))"
   ]
  },
  {
   "cell_type": "code",
   "execution_count": 18,
   "metadata": {},
   "outputs": [
    {
     "name": "stdout",
     "output_type": "stream",
     "text": [
      "(12292, 17)\n"
     ]
    }
   ],
   "source": [
    "# from tensorflow.keras.utils.np_utils import to_categorical\n",
    "import tensorflow as tf\n",
    "\n",
    "lab = tf.keras.utils.to_categorical(labels)\n",
    "print(lab.shape)"
   ]
  },
  {
   "cell_type": "code",
   "execution_count": 19,
   "metadata": {},
   "outputs": [
    {
     "name": "stdout",
     "output_type": "stream",
     "text": [
      "{0: 584, 1: 591, 2: 587, 3: 594, 4: 587, 5: 610, 6: 605, 7: 599, 8: 602, 9: 581, 10: 600, 11: 587, 12: 606, 13: 597, 14: 293, 15: 601, 16: 609}\n",
      "{0: 155, 1: 153, 2: 146, 3: 152, 4: 162, 5: 139, 6: 137, 7: 144, 8: 138, 9: 156, 10: 147, 11: 161, 12: 142, 13: 151, 14: 90, 15: 147, 16: 139}\n"
     ]
    }
   ],
   "source": [
    "from sklearn.model_selection import train_test_split\n",
    "\n",
    "X_train, X_test, y_train, y_test = train_test_split(data, lab, test_size=0.2, random_state=42)\n",
    "\n",
    "unique, counts = np.unique(np.argmax(y_train, axis=1), return_counts=True)\n",
    "print(dict(zip(unique, counts)))\n",
    "\n",
    "unique, counts = np.unique(np.argmax(y_test, axis=1), return_counts=True)\n",
    "print(dict(zip(unique, counts)))"
   ]
  },
  {
   "cell_type": "code",
   "execution_count": 20,
   "metadata": {},
   "outputs": [
    {
     "name": "stdout",
     "output_type": "stream",
     "text": [
      "Training:  (9833, 21, 2) (9833, 17)\n",
      "Test:  (2459, 21, 2) (2459, 17)\n"
     ]
    }
   ],
   "source": [
    "print(\"Training: \", X_train.shape, y_train.shape)\n",
    "print(\"Test: \", X_test.shape, y_test.shape)"
   ]
  },
  {
   "cell_type": "markdown",
   "metadata": {},
   "source": [
    "## **4. Model Training**"
   ]
  },
  {
   "cell_type": "code",
   "execution_count": 22,
   "metadata": {},
   "outputs": [],
   "source": [
    "import tensorflow as tf\n",
    "from tensorflow.keras.models import Sequential\n",
    "from tensorflow.keras.layers import Dense, Flatten\n",
    "\n",
    "from tensorflow.keras.callbacks import ModelCheckpoint, EarlyStopping"
   ]
  },
  {
   "cell_type": "code",
   "execution_count": 23,
   "metadata": {},
   "outputs": [
    {
     "name": "stdout",
     "output_type": "stream",
     "text": [
      "Model: \"sequential\"\n",
      "_________________________________________________________________\n",
      "Layer (type)                 Output Shape              Param #   \n",
      "=================================================================\n",
      "flatten (Flatten)            (None, 42)                0         \n",
      "_________________________________________________________________\n",
      "dense (Dense)                (None, 64)                2752      \n",
      "_________________________________________________________________\n",
      "dense_1 (Dense)              (None, 128)               8320      \n",
      "_________________________________________________________________\n",
      "dense_2 (Dense)              (None, 512)               66048     \n",
      "_________________________________________________________________\n",
      "dense_3 (Dense)              (None, 64)                32832     \n",
      "_________________________________________________________________\n",
      "dense_4 (Dense)              (None, 32)                2080      \n",
      "_________________________________________________________________\n",
      "dense_5 (Dense)              (None, 17)                561       \n",
      "=================================================================\n",
      "Total params: 112,593\n",
      "Trainable params: 112,593\n",
      "Non-trainable params: 0\n",
      "_________________________________________________________________\n"
     ]
    }
   ],
   "source": [
    "model = Sequential([\n",
    "    Flatten(input_shape=(21, X_train.shape[2])),\n",
    "    Dense(64, activation='relu'),\n",
    "    Dense(128, activation='relu'),\n",
    "    Dense(512, activation='relu'),\n",
    "    Dense(64, activation='relu'),\n",
    "    Dense(32, activation='relu'),\n",
    "    Dense(y_train.shape[1], activation='softmax'),\n",
    "])\n",
    "\n",
    "model.summary()"
   ]
  },
  {
   "cell_type": "code",
   "execution_count": 24,
   "metadata": {},
   "outputs": [],
   "source": [
    "callback_checkpoint = ModelCheckpoint(\n",
    "    './checkpoints/', monitor='val_loss', verbose=0, save_best_only=True,\n",
    "    save_weights_only=True, mode='auto', save_freq='epoch',\n",
    ")\n",
    "callback_loss = EarlyStopping(monitor='loss', patience=4)\n",
    "\n",
    "model.compile(loss='categorical_crossentropy', optimizer='adam', metrics=['accuracy'])"
   ]
  },
  {
   "cell_type": "code",
   "execution_count": 25,
   "metadata": {},
   "outputs": [
    {
     "name": "stdout",
     "output_type": "stream",
     "text": [
      "Epoch 1/50\n",
      "308/308 [==============================] - 1s 2ms/step - loss: 3.4398 - accuracy: 0.3511\n",
      "WARNING:tensorflow:Can save best model only with val_loss available, skipping.\n",
      "Epoch 2/50\n",
      "308/308 [==============================] - 1s 2ms/step - loss: 1.0176 - accuracy: 0.6817\n",
      "WARNING:tensorflow:Can save best model only with val_loss available, skipping.\n",
      "Epoch 3/50\n",
      "308/308 [==============================] - 1s 2ms/step - loss: 0.4064 - accuracy: 0.8908\n",
      "WARNING:tensorflow:Can save best model only with val_loss available, skipping.\n",
      "Epoch 4/50\n",
      "308/308 [==============================] - 1s 2ms/step - loss: 0.2913 - accuracy: 0.9256\n",
      "WARNING:tensorflow:Can save best model only with val_loss available, skipping.\n",
      "Epoch 5/50\n",
      "308/308 [==============================] - 1s 2ms/step - loss: 0.2251 - accuracy: 0.9408\n",
      "WARNING:tensorflow:Can save best model only with val_loss available, skipping.\n",
      "Epoch 6/50\n",
      "308/308 [==============================] - 1s 2ms/step - loss: 0.2222 - accuracy: 0.9402\n",
      "WARNING:tensorflow:Can save best model only with val_loss available, skipping.\n",
      "Epoch 7/50\n",
      "308/308 [==============================] - 1s 2ms/step - loss: 0.1675 - accuracy: 0.9525\n",
      "WARNING:tensorflow:Can save best model only with val_loss available, skipping.\n",
      "Epoch 8/50\n",
      "308/308 [==============================] - 1s 2ms/step - loss: 0.1425 - accuracy: 0.9566\n",
      "WARNING:tensorflow:Can save best model only with val_loss available, skipping.\n",
      "Epoch 9/50\n",
      "308/308 [==============================] - 1s 2ms/step - loss: 0.1679 - accuracy: 0.9511\n",
      "WARNING:tensorflow:Can save best model only with val_loss available, skipping.\n",
      "Epoch 10/50\n",
      "308/308 [==============================] - 1s 2ms/step - loss: 0.1343 - accuracy: 0.9642\n",
      "WARNING:tensorflow:Can save best model only with val_loss available, skipping.\n",
      "Epoch 11/50\n",
      "308/308 [==============================] - 1s 2ms/step - loss: 0.1427 - accuracy: 0.9569\n",
      "WARNING:tensorflow:Can save best model only with val_loss available, skipping.\n",
      "Epoch 12/50\n",
      "308/308 [==============================] - 1s 2ms/step - loss: 0.1074 - accuracy: 0.9694\n",
      "WARNING:tensorflow:Can save best model only with val_loss available, skipping.\n",
      "Epoch 13/50\n",
      "308/308 [==============================] - 1s 2ms/step - loss: 0.1065 - accuracy: 0.9703\n",
      "WARNING:tensorflow:Can save best model only with val_loss available, skipping.\n",
      "Epoch 14/50\n",
      "308/308 [==============================] - 1s 2ms/step - loss: 0.1238 - accuracy: 0.9646\n",
      "WARNING:tensorflow:Can save best model only with val_loss available, skipping.\n",
      "Epoch 15/50\n",
      "308/308 [==============================] - 1s 2ms/step - loss: 0.1198 - accuracy: 0.9655\n",
      "WARNING:tensorflow:Can save best model only with val_loss available, skipping.\n",
      "Epoch 16/50\n",
      "308/308 [==============================] - 1s 2ms/step - loss: 0.1048 - accuracy: 0.9694\n",
      "WARNING:tensorflow:Can save best model only with val_loss available, skipping.\n",
      "Epoch 17/50\n",
      "308/308 [==============================] - 1s 2ms/step - loss: 0.1208 - accuracy: 0.9625\n",
      "WARNING:tensorflow:Can save best model only with val_loss available, skipping.\n",
      "Epoch 18/50\n",
      "308/308 [==============================] - 1s 2ms/step - loss: 0.1338 - accuracy: 0.9622\n",
      "WARNING:tensorflow:Can save best model only with val_loss available, skipping.\n",
      "Epoch 19/50\n",
      "308/308 [==============================] - 1s 2ms/step - loss: 0.0945 - accuracy: 0.9722\n",
      "WARNING:tensorflow:Can save best model only with val_loss available, skipping.\n",
      "Epoch 20/50\n",
      "308/308 [==============================] - 1s 2ms/step - loss: 0.0884 - accuracy: 0.9737\n",
      "WARNING:tensorflow:Can save best model only with val_loss available, skipping.\n",
      "Epoch 21/50\n",
      "308/308 [==============================] - 1s 2ms/step - loss: 0.1225 - accuracy: 0.9636\n",
      "WARNING:tensorflow:Can save best model only with val_loss available, skipping.\n",
      "Epoch 22/50\n",
      "308/308 [==============================] - 1s 2ms/step - loss: 0.0682 - accuracy: 0.9793\n",
      "WARNING:tensorflow:Can save best model only with val_loss available, skipping.\n",
      "Epoch 23/50\n",
      "308/308 [==============================] - 1s 2ms/step - loss: 0.1233 - accuracy: 0.9614\n",
      "WARNING:tensorflow:Can save best model only with val_loss available, skipping.\n",
      "Epoch 24/50\n",
      "308/308 [==============================] - 1s 2ms/step - loss: 0.1254 - accuracy: 0.9618\n",
      "WARNING:tensorflow:Can save best model only with val_loss available, skipping.\n",
      "Epoch 25/50\n",
      "308/308 [==============================] - 1s 2ms/step - loss: 0.1032 - accuracy: 0.9697\n",
      "WARNING:tensorflow:Can save best model only with val_loss available, skipping.\n",
      "Epoch 26/50\n",
      "308/308 [==============================] - 1s 2ms/step - loss: 0.0890 - accuracy: 0.9748\n",
      "WARNING:tensorflow:Can save best model only with val_loss available, skipping.\n"
     ]
    }
   ],
   "source": [
    "history = model.fit(X_train, y_train, \n",
    "                    epochs=50, \n",
    "                    callbacks=[callback_checkpoint, callback_loss])"
   ]
  },
  {
   "cell_type": "code",
   "execution_count": 26,
   "metadata": {},
   "outputs": [
    {
     "name": "stdout",
     "output_type": "stream",
     "text": [
      "INFO:tensorflow:Assets written to: ./checkpoints/alphabets_S_model\\assets\n"
     ]
    }
   ],
   "source": [
    "model.save(\"./checkpoints/alphabets_S_model\")"
   ]
  },
  {
   "cell_type": "markdown",
   "metadata": {},
   "source": [
    "## **5. Model Evaluation and Metrics**"
   ]
  },
  {
   "cell_type": "code",
   "execution_count": 27,
   "metadata": {},
   "outputs": [],
   "source": [
    "from sklearn.metrics import classification_report, confusion_matrix\n",
    "import matplotlib.pyplot as plt\n",
    "import seaborn as sns"
   ]
  },
  {
   "cell_type": "code",
   "execution_count": 28,
   "metadata": {},
   "outputs": [
    {
     "name": "stdout",
     "output_type": "stream",
     "text": [
      "{0: 209, 1: 160, 2: 145, 3: 140, 4: 160, 5: 142, 6: 137, 7: 138, 8: 88, 9: 234, 10: 152, 11: 174, 12: 144, 13: 152, 14: 70, 15: 134, 16: 80}\n"
     ]
    }
   ],
   "source": [
    "y_pred = model.predict(X_test)\n",
    "y_preds = np.argmax(y_pred, axis=1)\n",
    "\n",
    "unique, counts = np.unique(y_preds, return_counts=True)\n",
    "print(dict(zip(unique, counts)))"
   ]
  },
  {
   "cell_type": "code",
   "execution_count": 32,
   "metadata": {},
   "outputs": [],
   "source": [
    "def evaluate_model(history,X_test,y_test,model):\n",
    "  \"\"\"\n",
    "    Input: \n",
    "      history - Model history variable\n",
    "      X_test - Test features\n",
    "      y_test - Target test variables\n",
    "      model - Keras Model \n",
    "\n",
    "    Output:\n",
    "      Accuracy Plot (Training + Validation)\n",
    "      Loss Plot (Training + Validation)\n",
    "      Confusion matrix\n",
    "      Accuracy\n",
    "      Classification Report \n",
    "  \"\"\"  \n",
    "  scores = model.evaluate((X_test),y_test, verbose=0)\n",
    "  \n",
    "  fig, axs = plt.subplots(1,3, figsize=(18,6))\n",
    "  fig.tight_layout()\n",
    "\n",
    "  axs[0].plot(history.history['accuracy'])\n",
    "  axs[0].set_xlabel('Epoch')\n",
    "  axs[0].set_ylabel('Accuracy')\n",
    "  axs[0].set_title('Model - Accuracy')\n",
    "  axs[0].legend(['Training'], loc='lower right')\n",
    "\n",
    "  axs[1].plot(history.history['loss'])\n",
    "  axs[1].set_xlabel('Epoch')\n",
    "  axs[1].set_ylabel('Model Loss')\n",
    "  axs[1].set_title('Model - Loss')\n",
    "  axs[1].legend(['Training'], loc='upper right')\n",
    "\n",
    "  target_names=actions\n",
    "  \n",
    "  y_true=[]\n",
    "  for element in y_test:\n",
    "      y_true.append(np.argmax(element))\n",
    "  prediction_proba = model.predict(X_test)\n",
    "  prediction = np.argmax(prediction_proba,axis=1)\n",
    "  cnf_matrix = confusion_matrix(y_true, prediction)    \n",
    "  g = sns.heatmap(cnf_matrix, annot=True, cmap='Blues', fmt='g', ax=axs[2],\n",
    "                  xticklabels=target_names, yticklabels=target_names)\n",
    "  plt.show()\n",
    "\n",
    "  print(\"\\nAccuracy: %.2f%% \\n\" % (scores[1]*100))\n",
    "  print(classification_report(y_true, prediction, target_names=target_names))"
   ]
  },
  {
   "cell_type": "code",
   "execution_count": 33,
   "metadata": {},
   "outputs": [
    {
     "data": {
      "image/png": "[encoded data removed]",
      "text/plain": [
       "<Figure size 1296x432 with 4 Axes>"
      ]
     },
     "metadata": {
      "needs_background": "light"
     },
     "output_type": "display_data"
    },
    {
     "name": "stdout",
     "output_type": "stream",
     "text": [
      "\n",
      "Accuracy: 92.31% \n",
      "\n",
      "              precision    recall  f1-score   support\n",
      "\n",
      "           A       0.69      0.94      0.80       155\n",
      "           B       0.93      0.97      0.95       153\n",
      "           C       1.00      0.99      1.00       146\n",
      "           D       0.99      0.91      0.95       152\n",
      "           E       0.99      0.98      0.99       162\n",
      "           F       0.98      1.00      0.99       139\n",
      "           G       1.00      1.00      1.00       137\n",
      "           H       0.99      0.95      0.97       144\n",
      "           I       1.00      0.64      0.78       138\n",
      "           J       0.67      1.00      0.80       156\n",
      "           K       0.95      0.99      0.97       147\n",
      "           L       0.91      0.99      0.95       161\n",
      "           O       0.98      0.99      0.99       142\n",
      "           P       0.99      0.99      0.99       151\n",
      "           Q       1.00      0.78      0.88        90\n",
      "           R       0.99      0.90      0.95       147\n",
      "           S       0.99      0.57      0.72       139\n",
      "\n",
      "    accuracy                           0.92      2459\n",
      "   macro avg       0.94      0.92      0.92      2459\n",
      "weighted avg       0.94      0.92      0.92      2459\n",
      "\n"
     ]
    }
   ],
   "source": [
    "evaluate_model(history, X_test, y_test, model)"
   ]
  },
  {
   "cell_type": "markdown",
   "metadata": {},
   "source": [
    "## **6. Live testing**"
   ]
  },
  {
   "cell_type": "markdown",
   "metadata": {},
   "source": [
    "### **a. Gestures**"
   ]
  },
  {
   "cell_type": "code",
   "execution_count": 3,
   "metadata": {},
   "outputs": [
    {
     "name": "stdout",
     "output_type": "stream",
     "text": [
      "['Hello' 'Love You' 'Understand' 'Thanks' 'Some' 'Home' 'name' 'my' 'how']\n"
     ]
    }
   ],
   "source": [
    "# Import necessary packages\n",
    "import cv2\n",
    "import numpy as np\n",
    "import pickle\n",
    "import mediapipe as mp\n",
    "import tensorflow as tf\n",
    "from tensorflow.keras.models import load_model\n",
    "\n",
    "# Initialize mediapipe\n",
    "mp_holistic = mp.solutions.holistic\n",
    "holistic = mp_holistic.Holistic(min_detection_confidence=0.7, min_tracking_confidence=0.7)\n",
    "mpDraw = mp.solutions.drawing_utils\n",
    "\n",
    "# Load the gesture recognizer model\n",
    "model = load_model('checkpoints\\\\two_hand_9_model')\n",
    "\n",
    "# Load class names\n",
    "with open('gestures.pkl','rb') as f:\n",
    "    actions = pickle.load(f)\n",
    "print(actions)\n",
    "\n",
    "sentence = []\n",
    "predictions = []\n",
    "\n",
    "def mediapipe_detection(image, model):\n",
    "    image = cv2.flip(image, 1)\n",
    "    image = cv2.cvtColor(image, cv2.COLOR_BGR2RGB) # COLOR CONVERSION BGR 2 RGB\n",
    "    results = model.process(image)                 # Make prediction\n",
    "    image = cv2.cvtColor(image, cv2.COLOR_RGB2BGR) # COLOR COVERSION RGB 2 BGR\n",
    "    return image, results\n",
    "\n",
    "colors = [(245,117,16), (117,245,16), (16,117,245)]\n",
    "\n",
    "def prob_viz(res, actions, input_frame, colors):\n",
    "    output_frame = input_frame.copy()\n",
    "    for num, prob in enumerate(res):\n",
    "        cv2.rectangle(output_frame, (0,60+num*40), (int(prob*100), 90+num*40), colors[1], -1)\n",
    "        cv2.putText(output_frame, actions[num], (0, 85+num*40), cv2.FONT_HERSHEY_SIMPLEX, 1, (255,255,255), 2, cv2.LINE_AA)\n",
    "        \n",
    "    return output_frame\n",
    "\n",
    "# Initialize the webcam\n",
    "cap = cv2.VideoCapture(0)\n",
    "\n",
    "while True:\n",
    "\n",
    "    # Read each frame from the webcam\n",
    "    _, frame = cap.read()\n",
    "    x, y, c = frame.shape\n",
    "    frame, result = mediapipe_detection(frame, holistic)\n",
    "    className = ''\n",
    "\n",
    "    # Process the result\n",
    "    if result.left_hand_landmarks or result.right_hand_landmarks:\n",
    "        landmarks = []\n",
    "\n",
    "        lh = [[res.x, res.y] for res in result.left_hand_landmarks.landmark] if result.left_hand_landmarks else np.zeros(21*2).reshape(-1,2).tolist()\n",
    "        rh = [[res.x, res.y] for res in result.right_hand_landmarks.landmark] if result.right_hand_landmarks else np.zeros(21*2).reshape(-1,2).tolist()\n",
    "        \n",
    "        for i in range(len(lh)):\n",
    "            landmarks.append([lh[i][0], lh[i][1], rh[i][0], rh[i][1]])\n",
    "        \n",
    "        # Drawing landmarks on frames\n",
    "        mpDraw.draw_landmarks(frame, result.left_hand_landmarks, mp_holistic.HAND_CONNECTIONS) # Draw left hand connections\n",
    "        mpDraw.draw_landmarks(frame, result.right_hand_landmarks, mp_holistic.HAND_CONNECTIONS) # Draw right hand connections\n",
    "\n",
    "\n",
    "        # Predict gesture\n",
    "        prediction = model.predict([landmarks])\n",
    "        classID = np.argmax(prediction)\n",
    "        predictions.append(classID)\n",
    "        className = actions[classID]\n",
    "\n",
    "        if np.unique(predictions[-20:])[0] == classID: \n",
    "                if prediction[0][classID] > 0.7: \n",
    "                    \n",
    "                    if len(sentence) > 0: \n",
    "                        if actions[classID] != sentence[-1]:\n",
    "                            sentence.append(actions[classID])\n",
    "                    else:\n",
    "                        sentence.append(actions[classID])\n",
    "\n",
    "        if len(sentence) > 5: \n",
    "            sentence = sentence[-5:]\n",
    "        \n",
    "\n",
    "        frame = prob_viz(prediction[0], actions, frame, colors)\n",
    "\n",
    "    if cv2.waitKey(1) == ord('r'):\n",
    "            sentence.pop()\n",
    "            print(\"Popped: \", sentence)\n",
    "            \n",
    "    # show the prediction on the frame\n",
    "    cv2.rectangle(frame, (0,0), (640, 40), (255, 140, 51), -1)\n",
    "    cv2.putText(frame, ' '.join(sentence), (3,30), \n",
    "                       cv2.FONT_HERSHEY_SIMPLEX, 1, (255, 255, 255), 2, cv2.LINE_AA)\n",
    "    cv2.putText(frame, className, (10, 50), cv2.FONT_HERSHEY_SIMPLEX, \n",
    "                   1, (0,0,255), 2, cv2.LINE_AA)\n",
    "\n",
    "    # Show the final output\n",
    "    cv2.imshow(\"Output\", frame) \n",
    "\n",
    "    if cv2.waitKey(1) == ord('q'):\n",
    "        break\n",
    "\n",
    "# release the webcam and destroy all active windows\n",
    "cap.release()\n",
    "\n",
    "cv2.destroyAllWindows()"
   ]
  },
  {
   "cell_type": "markdown",
   "metadata": {},
   "source": [
    "### **b. Alphabets**"
   ]
  },
  {
   "cell_type": "code",
   "execution_count": 8,
   "metadata": {},
   "outputs": [],
   "source": [
    "actions = []\n",
    "for alphabet in os.listdir(\"./MP_Data_Char\"):\n",
    "    actions.append(alphabet)\n",
    "\n",
    "with open(\"alphabets.pkl\", 'wb') as f:\n",
    "    pickle.dump(actions,f)"
   ]
  },
  {
   "cell_type": "code",
   "execution_count": 51,
   "metadata": {},
   "outputs": [
    {
     "name": "stdout",
     "output_type": "stream",
     "text": [
      "['A', 'B', 'C', 'D', 'E', 'F', 'G', 'H', 'I', 'J', 'K', 'L', 'O', 'P', 'Q', 'R', 'S']\n"
     ]
    }
   ],
   "source": [
    "import cv2\n",
    "import numpy as np\n",
    "import mediapipe as mp\n",
    "import tensorflow as tf\n",
    "from tensorflow.keras.models import load_model\n",
    "\n",
    "# initialize mediapipe\n",
    "mpHands = mp.solutions.hands\n",
    "hands = mpHands.Hands(max_num_hands=1, min_detection_confidence=0.7)\n",
    "mpDraw = mp.solutions.drawing_utils\n",
    "\n",
    "# Load the gesture recognizer model\n",
    "model = load_model('checkpoints/alphabets_S_model')\n",
    "\n",
    "# Load class names\n",
    "with open(\"alphabets.pkl\", 'rb') as f:\n",
    "    actions = pickle.load(f)\n",
    "print(actions)\n",
    "\n",
    "sentence = []\n",
    "predictions = []\n",
    "\n",
    "def mediapipe_detection(image, model):\n",
    "    image = cv2.flip(image, 1)\n",
    "    image = cv2.cvtColor(image, cv2.COLOR_BGR2RGB) # COLOR CONVERSION BGR 2 RGB\n",
    "    results = model.process(image)                 # Make prediction\n",
    "    image = cv2.cvtColor(image, cv2.COLOR_RGB2BGR) # COLOR COVERSION RGB 2 BGR\n",
    "    return image, results\n",
    "\n",
    "colors = [(245,117,16), (117,245,16), (16,117,245)]\n",
    "\n",
    "def prob_viz(res, actions, input_frame, colors):\n",
    "    output_frame = input_frame.copy()\n",
    "    for num, prob in enumerate(res):\n",
    "        cv2.rectangle(output_frame, (0,60+num*40), (int(prob*100), 90+num*40), colors[1], -1)\n",
    "        cv2.putText(output_frame, actions[num], (0, 85+num*40), cv2.FONT_HERSHEY_SIMPLEX, 1, (255,255,255), 2, cv2.LINE_AA)\n",
    "        \n",
    "    return output_frame\n",
    "\n",
    "\n",
    "# Initialize the webcam\n",
    "cap = cv2.VideoCapture(0)\n",
    "\n",
    "while True:\n",
    "\n",
    "    # Read each frame from the webcam\n",
    "    _, frame = cap.read()\n",
    "    x, y, c = frame.shape\n",
    "    frame, result = mediapipe_detection(frame, hands)\n",
    "    className = ''\n",
    "\n",
    "    # post process the result\n",
    "    if result.multi_hand_landmarks:\n",
    "        landmarks = []\n",
    "        for handslms in result.multi_hand_landmarks:\n",
    "            for lm in handslms.landmark:\n",
    "                # print(id, lm)\n",
    "                lmx = int(lm.x * x)\n",
    "                lmy = int(lm.y * y)\n",
    "\n",
    "                landmarks.append([lmx, lmy])\n",
    "\n",
    "            # Drawing landmarks on frames\n",
    "            mpDraw.draw_landmarks(frame, handslms, mpHands.HAND_CONNECTIONS)\n",
    "\n",
    "            # Predict gesture\n",
    "            prediction = model.predict([landmarks])\n",
    "            classID = np.argmax(prediction)\n",
    "            predictions.append(classID)\n",
    "            className = actions[classID]\n",
    "\n",
    "            if np.unique(predictions[-20:])[0] == classID: \n",
    "                if prediction[0][classID] > 0.7: \n",
    "                    \n",
    "                    if len(sentence) > 0: \n",
    "                        if actions[classID] != sentence[-1]:\n",
    "                            sentence.append(actions[classID])\n",
    "                    else:\n",
    "                        sentence.append(actions[classID])\n",
    "\n",
    "            if len(sentence) > 10: \n",
    "                sentence = sentence[-10:]\n",
    "            \n",
    "            frame = prob_viz(prediction[0], actions, frame, colors)\n",
    "    \n",
    "    if cv2.waitKey(1) == ord('r'):\n",
    "            if len(sentence) > 0:\n",
    "                sentence.pop()\n",
    "\n",
    "    # show the prediction on the frame\n",
    "    cv2.rectangle(frame, (0,0), (640, 40), (255, 140, 51), -1)\n",
    "    cv2.putText(frame, ' '.join(sentence), (3,30), \n",
    "                       cv2.FONT_HERSHEY_SIMPLEX, 1, (255, 255, 255), 2, cv2.LINE_AA)\n",
    "    cv2.putText(frame, className, (10, 50), cv2.FONT_HERSHEY_SIMPLEX, \n",
    "                   1, (0,0,255), 2, cv2.LINE_AA)\n",
    "\n",
    "    # Show the final output\n",
    "    cv2.imshow(\"Output\", frame) \n",
    "\n",
    "    if cv2.waitKey(1) == ord('q'):\n",
    "        break\n",
    "\n",
    "# release the webcam and destroy all active windows\n",
    "cap.release()\n",
    "cv2.destroyAllWindows()"
   ]
  },
  {
   "cell_type": "code",
   "execution_count": 47,
   "metadata": {},
   "outputs": [],
   "source": [
    "cap.release()\n",
    "cv2.destroyAllWindows()"
   ]
  }
 ],
 "metadata": {
  "interpreter": {
   "hash": "bff6b25a10b852318755d46bc5b4c8001116bec713b71f82f988afda0a77c275"
  },
  "kernelspec": {
   "display_name": "Python 3.6.13 ('UI')",
   "language": "python",
   "name": "python3"
  },
  "language_info": {
   "codemirror_mode": {
    "name": "ipython",
    "version": 3
   },
   "file_extension": ".py",
   "mimetype": "text/x-python",
   "name": "python",
   "nbconvert_exporter": "python",
   "pygments_lexer": "ipython3",
   "version": "3.6.13"
  },
  "orig_nbformat": 4
 },
 "nbformat": 4,
 "nbformat_minor": 2
}
