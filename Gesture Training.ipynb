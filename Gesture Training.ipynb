{
 "cells": [
  {
   "cell_type": "code",
   "execution_count": 4,
   "metadata": {},
   "outputs": [],
   "source": [
    "import os\n",
    "import mediapipe as mp \n",
    "import numpy as np\n",
    "import cv2"
   ]
  },
  {
   "cell_type": "markdown",
   "metadata": {},
   "source": [
    "## **1. Gesture Collection**"
   ]
  },
  {
   "cell_type": "code",
   "execution_count": null,
   "metadata": {},
   "outputs": [],
   "source": [
    "# mp_holistic = mp.solutions.holistic # Holistic model\n",
    "# mp_drawing = mp.solutions.drawing_utils # Drawing utilities\n",
    "\n",
    "# mpHands = mp.solutions.hands\n",
    "# hands = mpHands.Hands(max_num_hands=2, min_detection_confidence=0.7)\n",
    "\n",
    "mp_holistic = mp.solutions.holistic\n",
    "holistic = mp_holistic.Holistic(min_detection_confidence=0.7, min_tracking_confidence=0.7)\n",
    "mpDraw = mp.solutions.drawing_utils"
   ]
  },
  {
   "cell_type": "code",
   "execution_count": null,
   "metadata": {},
   "outputs": [],
   "source": [
    "# Path for exported data, numpy arrays\n",
    "DATA_PATH = os.path.join('MP_Data') \n",
    "\n",
    "# Actions that we try to detect\n",
    "actions = np.array(['Hello', 'Love You', 'Understand', 'Thanks', 'Some', 'Home', 'name', 'my', 'how'])\n",
    "# actions = np.array(['name'])\n",
    "\n",
    "# Thirty videos worth of data\n",
    "no_sequences =  25\n",
    "\n",
    "# Videos are going to be 30 frames in length\n",
    "sequence_length = 30\n",
    "\n",
    "# Folder start\n",
    "start_folder = 0"
   ]
  },
  {
   "cell_type": "code",
   "execution_count": null,
   "metadata": {},
   "outputs": [],
   "source": [
    "for action in actions: \n",
    "    for sequence in range(no_sequences):\n",
    "        try: \n",
    "            os.makedirs(os.path.join(DATA_PATH, action, str(sequence)))\n",
    "        except:\n",
    "            pass"
   ]
  },
  {
   "cell_type": "code",
   "execution_count": null,
   "metadata": {},
   "outputs": [],
   "source": [
    "cap = cv2.VideoCapture(0)\n",
    "    \n",
    "# NEW LOOP\n",
    "# Loop through actions\n",
    "for action in actions:\n",
    "    # Loop through sequences aka videos\n",
    "    for sequence in range(start_folder, start_folder+no_sequences):\n",
    "        # Loop through video length aka sequence length\n",
    "        for frame_num in range(sequence_length):\n",
    "\n",
    "            _, frame = cap.read()\n",
    "\n",
    "            x, y, c = frame.shape\n",
    "\n",
    "            # Flip the frame vertically\n",
    "            frame = cv2.flip(frame, 1)\n",
    "            framergb = cv2.cvtColor(frame, cv2.COLOR_BGR2RGB)\n",
    "\n",
    "            # Get hand landmark prediction\n",
    "            result = holistic.process(framergb)  \n",
    "            className = ''\n",
    "            \n",
    "            # post process the result\n",
    "            if result.left_hand_landmarks or result.right_hand_landmarks:\n",
    "                landmarks = []\n",
    "\n",
    "                lh = [[res.x, res.y] for res in result.left_hand_landmarks.landmark] if result.left_hand_landmarks else np.zeros(21*2).reshape(-1,2).tolist()\n",
    "                rh = [[res.x, res.y] for res in result.right_hand_landmarks.landmark] if result.right_hand_landmarks else np.zeros(21*2).reshape(-1,2).tolist()\n",
    "                \n",
    "                print(\"Initial: \", np.array(lh).shape, np.array(rh).shape)\n",
    "                for i in range(len(lh)):\n",
    "                    landmarks.append(np.append(lh[i], rh[i]).tolist())\n",
    "                \n",
    "                # Drawing landmarks on frames\n",
    "                mpDraw.draw_landmarks(frame, result.left_hand_landmarks, mp_holistic.HAND_CONNECTIONS) # Draw left hand connections\n",
    "                mpDraw.draw_landmarks(frame, result.right_hand_landmarks, mp_holistic.HAND_CONNECTIONS) # Draw right hand connections\n",
    "\n",
    "\n",
    "                # NEW Apply wait logic\n",
    "                if frame_num == 0: \n",
    "                    cv2.putText(frame, 'STARTING COLLECTION', (120,200), \n",
    "                            cv2.FONT_HERSHEY_SIMPLEX, 1, (0,255, 0), 4, cv2.LINE_AA)\n",
    "                    cv2.putText(frame, 'Frames for {} Video Number {}'.format(action, sequence), (15,15), \n",
    "                            cv2.FONT_HERSHEY_SIMPLEX, 0.7, (255, 0, 0), 1, cv2.LINE_AA)\n",
    "                    # Show to screen\n",
    "                    cv2.imshow('OpenCV Feed', frame)\n",
    "                    cv2.waitKey(1000)\n",
    "                else: \n",
    "                    cv2.putText(frame, 'Frames for {} Video Number {}'.format(action, sequence), (15,12), \n",
    "                            -cv2.FONT_HERSHEY_SIMPLEX, 0.7, (0, 0, 255), 1, cv2.LINE_AA)\n",
    "                    # Show to screen\n",
    "                    cv2.imshow('OpenCV Feed', frame)\n",
    "                \n",
    "                \n",
    "                npy_path = os.path.join(DATA_PATH, action, str(sequence), str(frame_num))\n",
    "                # npy_path = \"./MP_Data/\" + action + \"_\" + str(sequence) + \"_\" + str(frame_num)\n",
    "                np.save(npy_path, landmarks)\n",
    "\n",
    "                # Break gracefully\n",
    "                if cv2.waitKey(10) & 0xFF == ord('q'):\n",
    "                    break\n",
    "                \n",
    "cap.release()\n",
    "cv2.destroyAllWindows()"
   ]
  },
  {
   "cell_type": "code",
   "execution_count": null,
   "metadata": {},
   "outputs": [],
   "source": [
    "cap.release()\n",
    "cv2.destroyAllWindows()"
   ]
  },
  {
   "cell_type": "markdown",
   "metadata": {},
   "source": [
    "## **2. Alphabet Collection**"
   ]
  },
  {
   "cell_type": "code",
   "execution_count": null,
   "metadata": {},
   "outputs": [],
   "source": [
    "mpHands = mp.solutions.hands\n",
    "hands = mpHands.Hands(max_num_hands=1, min_detection_confidence=0.7)\n",
    "mpDraw = mp.solutions.drawing_utils"
   ]
  },
  {
   "cell_type": "code",
   "execution_count": 5,
   "metadata": {},
   "outputs": [
    {
     "name": "stdout",
     "output_type": "stream",
     "text": [
      "['A' 'B' 'C' 'D' 'E' 'F']\n"
     ]
    }
   ],
   "source": [
    "DATA_PATH = os.path.join('MP_Data_Char') \n",
    "\n",
    "actions = np.array( [ chr(i) for i in range(ord('A'), ord('F')+1) ] )\n",
    "print(actions)\n",
    "\n",
    "no_sequences =  25\n",
    "sequence_length = 30\n",
    "start_folder = 0"
   ]
  },
  {
   "cell_type": "code",
   "execution_count": null,
   "metadata": {},
   "outputs": [],
   "source": [
    "for action in actions: \n",
    "    for sequence in range(no_sequences):\n",
    "        try: \n",
    "            os.makedirs(os.path.join(DATA_PATH, action, str(sequence)))\n",
    "        except:\n",
    "            pass"
   ]
  },
  {
   "cell_type": "code",
   "execution_count": null,
   "metadata": {},
   "outputs": [],
   "source": [
    "cap = cv2.VideoCapture(0)\n",
    "    \n",
    "# NEW LOOP\n",
    "# Loop through actions\n",
    "for action in actions:\n",
    "    # Loop through sequences aka videos\n",
    "    for sequence in range(start_folder, start_folder+no_sequences):\n",
    "        # Loop through video length aka sequence length\n",
    "        for frame_num in range(sequence_length):\n",
    "\n",
    "            _, frame = cap.read()\n",
    "\n",
    "            x, y, c = frame.shape\n",
    "\n",
    "            # Flip the frame vertically\n",
    "            frame = cv2.flip(frame, 1)\n",
    "            framergb = cv2.cvtColor(frame, cv2.COLOR_BGR2RGB)\n",
    "\n",
    "            # Get hand landmark prediction\n",
    "            result = hands.process(framergb)  \n",
    "            className = ''\n",
    "            \n",
    "            # post process the result\n",
    "            if result.multi_hand_landmarks:\n",
    "                landmarks = []\n",
    "                for handslms in result.multi_hand_landmarks:\n",
    "                    for lm in handslms.landmark:\n",
    "                        # print(id, lm)\n",
    "                        lmx = int(lm.x * x)\n",
    "                        lmy = int(lm.y * y)\n",
    "\n",
    "                        landmarks.append([lmx, lmy])\n",
    "\n",
    "                    # Drawing landmarks on frames\n",
    "                    mpDraw.draw_landmarks(frame, handslms, mpHands.HAND_CONNECTIONS)\n",
    "\n",
    "\n",
    "                # NEW Apply wait logic\n",
    "                if frame_num == 0: \n",
    "                    cv2.putText(frame, 'STARTING COLLECTION', (120,200), \n",
    "                            cv2.FONT_HERSHEY_SIMPLEX, 1, (0,255, 0), 4, cv2.LINE_AA)\n",
    "                    cv2.putText(frame, 'Frames for {} Video Number {}'.format(action, sequence), (15,15), \n",
    "                            cv2.FONT_HERSHEY_SIMPLEX, 0.7, (255, 0, 0), 1, cv2.LINE_AA)\n",
    "                    # Show to screen\n",
    "                    cv2.imshow('OpenCV Feed', frame)\n",
    "                    cv2.waitKey(1000)\n",
    "                else: \n",
    "                    cv2.putText(frame, 'Frames for {} Video Number {}'.format(action, sequence), (15,12), \n",
    "                            -cv2.FONT_HERSHEY_SIMPLEX, 0.7, (0, 0, 255), 1, cv2.LINE_AA)\n",
    "                    # Show to screen\n",
    "                    cv2.imshow('OpenCV Feed', frame)\n",
    "                \n",
    "                \n",
    "                npy_path = os.path.join(DATA_PATH, action, str(sequence), str(frame_num))\n",
    "                # npy_path = \"./MP_Data/\" + action + \"_\" + str(sequence) + \"_\" + str(frame_num)\n",
    "                np.save(npy_path, landmarks)\n",
    "\n",
    "                # Break gracefully\n",
    "                if cv2.waitKey(10) & 0xFF == ord('q'):\n",
    "                    break\n",
    "                \n",
    "cap.release()\n",
    "cv2.destroyAllWindows()"
   ]
  },
  {
   "cell_type": "code",
   "execution_count": null,
   "metadata": {},
   "outputs": [],
   "source": [
    "cap.release()\n",
    "cv2.destroyAllWindows()"
   ]
  },
  {
   "cell_type": "markdown",
   "metadata": {},
   "source": [
    "## **3. Pre-processing Code**"
   ]
  },
  {
   "cell_type": "code",
   "execution_count": 1,
   "metadata": {},
   "outputs": [
    {
     "name": "stdout",
     "output_type": "stream",
     "text": [
      "MP_Data_Char \n",
      " 0\n",
      "MP_Data_Char\\A \n",
      " 0\n",
      "MP_Data_Char\\A\\11 \n",
      " 29\n",
      "MP_Data_Char\\A\\14 \n",
      " 29\n",
      "MP_Data_Char\\A\\16 \n",
      " 29\n",
      "MP_Data_Char\\A\\18 \n",
      " 26\n",
      "MP_Data_Char\\A\\19 \n",
      " 29\n",
      "MP_Data_Char\\A\\4 \n",
      " 29\n",
      "MP_Data_Char\\A\\6 \n",
      " 29\n",
      "MP_Data_Char\\A\\7 \n",
      " 29\n",
      "MP_Data_Char\\B \n",
      " 0\n",
      "MP_Data_Char\\B\\1 \n",
      " 29\n",
      "MP_Data_Char\\B\\15 \n",
      " 29\n",
      "MP_Data_Char\\B\\16 \n",
      " 29\n",
      "MP_Data_Char\\B\\22 \n",
      " 29\n",
      "MP_Data_Char\\B\\8 \n",
      " 28\n",
      "MP_Data_Char\\C \n",
      " 0\n",
      "MP_Data_Char\\C\\0 \n",
      " 29\n",
      "MP_Data_Char\\C\\19 \n",
      " 26\n",
      "MP_Data_Char\\C\\22 \n",
      " 19\n",
      "MP_Data_Char\\C\\3 \n",
      " 29\n",
      "MP_Data_Char\\D \n",
      " 0\n",
      "MP_Data_Char\\D\\15 \n",
      " 29\n",
      "MP_Data_Char\\D\\19 \n",
      " 29\n",
      "MP_Data_Char\\D\\20 \n",
      " 29\n",
      "MP_Data_Char\\E \n",
      " 0\n",
      "MP_Data_Char\\E\\10 \n",
      " 29\n",
      "MP_Data_Char\\E\\14 \n",
      " 29\n",
      "MP_Data_Char\\E\\17 \n",
      " 29\n",
      "MP_Data_Char\\F \n",
      " 0\n",
      "MP_Data_Char\\F\\15 \n",
      " 29\n"
     ]
    }
   ],
   "source": [
    "list_of_files = {}\n",
    "\n",
    "# MP_Data for gestures, MP_Data_Char for Alphabets\n",
    "for (dirpath, dirnames, filenames) in os.walk(\"MP_Data_Char\"):\n",
    "    # print(dirpath, \"\\n\", dirnames, \"\\n\", len(filenames))\n",
    "    if(len(filenames)!=30):\n",
    "         print(dirpath, \"\\n\", len(filenames))"
   ]
  },
  {
   "cell_type": "code",
   "execution_count": 6,
   "metadata": {},
   "outputs": [
    {
     "name": "stdout",
     "output_type": "stream",
     "text": [
      "{'A': 0, 'B': 1, 'C': 2, 'D': 3, 'E': 4, 'F': 5}\n"
     ]
    }
   ],
   "source": [
    "label_map = {label:num for num, label in enumerate(actions)}\n",
    "print(label_map)"
   ]
  },
  {
   "cell_type": "code",
   "execution_count": 8,
   "metadata": {},
   "outputs": [
    {
     "name": "stdout",
     "output_type": "stream",
     "text": [
      "(4459, 21, 2)\n",
      "(4459,)\n"
     ]
    }
   ],
   "source": [
    "data = []\n",
    "labels = []\n",
    "\n",
    "for action in actions:\n",
    "    for (dirpath, dirnames, filenames) in os.walk(os.path.join(\"MP_Data_Char\", action)):\n",
    "        if(len(dirnames)==0):\n",
    "            for filename in filenames:\n",
    "                data.append(np.load( os.path.join(dirpath, filename) ))\n",
    "                labels.append(label_map[action])\n",
    "\n",
    "data = np.array(data)\n",
    "labels = np.array(labels)\n",
    "print(data.shape)\n",
    "print(labels.shape)"
   ]
  },
  {
   "cell_type": "code",
   "execution_count": 9,
   "metadata": {},
   "outputs": [
    {
     "name": "stdout",
     "output_type": "stream",
     "text": [
      "{0: 739, 1: 744, 2: 733, 3: 747, 4: 747, 5: 749}\n"
     ]
    }
   ],
   "source": [
    "unique, counts = np.unique(labels, return_counts=True)\n",
    "print(dict(zip(unique, counts)))"
   ]
  },
  {
   "cell_type": "code",
   "execution_count": 10,
   "metadata": {},
   "outputs": [
    {
     "name": "stdout",
     "output_type": "stream",
     "text": [
      "(4459, 6)\n"
     ]
    }
   ],
   "source": [
    "# from tensorflow.keras.utils.np_utils import to_categorical\n",
    "import tensorflow as tf\n",
    "\n",
    "lab = tf.keras.utils.to_categorical(labels)\n",
    "print(lab.shape)"
   ]
  },
  {
   "cell_type": "code",
   "execution_count": 11,
   "metadata": {},
   "outputs": [
    {
     "name": "stdout",
     "output_type": "stream",
     "text": [
      "{0: 588, 1: 585, 2: 587, 3: 600, 4: 605, 5: 602}\n",
      "{0: 151, 1: 159, 2: 146, 3: 147, 4: 142, 5: 147}\n"
     ]
    }
   ],
   "source": [
    "from sklearn.model_selection import train_test_split\n",
    "\n",
    "X_train, X_test, y_train, y_test = train_test_split(data, lab, test_size=0.2, random_state=42)\n",
    "\n",
    "unique, counts = np.unique(np.argmax(y_train, axis=1), return_counts=True)\n",
    "print(dict(zip(unique, counts)))\n",
    "\n",
    "unique, counts = np.unique(np.argmax(y_test, axis=1), return_counts=True)\n",
    "print(dict(zip(unique, counts)))"
   ]
  },
  {
   "cell_type": "code",
   "execution_count": 12,
   "metadata": {},
   "outputs": [
    {
     "name": "stdout",
     "output_type": "stream",
     "text": [
      "Training:  (3567, 21, 2) (3567, 6)\n",
      "Test:  (892, 21, 2) (892, 6)\n"
     ]
    }
   ],
   "source": [
    "print(\"Training: \", X_train.shape, y_train.shape)\n",
    "print(\"Test: \", X_test.shape, y_test.shape)"
   ]
  },
  {
   "cell_type": "markdown",
   "metadata": {},
   "source": [
    "## **4. Model Training**"
   ]
  },
  {
   "cell_type": "code",
   "execution_count": 13,
   "metadata": {},
   "outputs": [],
   "source": [
    "import tensorflow as tf\n",
    "from tensorflow.keras.models import Sequential\n",
    "from tensorflow.keras.layers import Dense, Input, Flatten\n",
    "\n",
    "from tensorflow.keras.callbacks import ModelCheckpoint, EarlyStopping"
   ]
  },
  {
   "cell_type": "code",
   "execution_count": 18,
   "metadata": {},
   "outputs": [
    {
     "name": "stdout",
     "output_type": "stream",
     "text": [
      "Model: \"sequential_1\"\n",
      "_________________________________________________________________\n",
      "Layer (type)                 Output Shape              Param #   \n",
      "=================================================================\n",
      "flatten_1 (Flatten)          (None, 42)                0         \n",
      "_________________________________________________________________\n",
      "dense_6 (Dense)              (None, 64)                2752      \n",
      "_________________________________________________________________\n",
      "dense_7 (Dense)              (None, 128)               8320      \n",
      "_________________________________________________________________\n",
      "dense_8 (Dense)              (None, 512)               66048     \n",
      "_________________________________________________________________\n",
      "dense_9 (Dense)              (None, 64)                32832     \n",
      "_________________________________________________________________\n",
      "dense_10 (Dense)             (None, 32)                2080      \n",
      "_________________________________________________________________\n",
      "dense_11 (Dense)             (None, 6)                 198       \n",
      "=================================================================\n",
      "Total params: 112,230\n",
      "Trainable params: 112,230\n",
      "Non-trainable params: 0\n",
      "_________________________________________________________________\n"
     ]
    }
   ],
   "source": [
    "model = Sequential([\n",
    "    Flatten(input_shape=(21, X_train.shape[2])),\n",
    "    Dense(64, activation='relu'),\n",
    "    Dense(128, activation='relu'),\n",
    "    Dense(512, activation='relu'),\n",
    "    Dense(64, activation='relu'),\n",
    "    Dense(32, activation='relu'),\n",
    "    Dense(y_train.shape[1], activation='softmax'),\n",
    "])\n",
    "\n",
    "model.summary()"
   ]
  },
  {
   "cell_type": "code",
   "execution_count": 19,
   "metadata": {},
   "outputs": [],
   "source": [
    "callback_checkpoint = ModelCheckpoint(\n",
    "    './checkpoints/', monitor='val_loss', verbose=0, save_best_only=True,\n",
    "    save_weights_only=True, mode='auto', save_freq='epoch',\n",
    ")\n",
    "callback_loss = EarlyStopping(monitor='loss', patience=4)\n",
    "\n",
    "model.compile(loss='categorical_crossentropy', optimizer='adam', metrics=['accuracy'])"
   ]
  },
  {
   "cell_type": "code",
   "execution_count": 20,
   "metadata": {},
   "outputs": [
    {
     "name": "stdout",
     "output_type": "stream",
     "text": [
      "Epoch 1/50\n",
      "112/112 [==============================] - 1s 3ms/step - loss: 4.3351 - accuracy: 0.5613\n",
      "WARNING:tensorflow:Can save best model only with val_loss available, skipping.\n",
      "Epoch 2/50\n",
      "112/112 [==============================] - 0s 3ms/step - loss: 0.2407 - accuracy: 0.9352\n",
      "WARNING:tensorflow:Can save best model only with val_loss available, skipping.\n",
      "Epoch 3/50\n",
      "112/112 [==============================] - 0s 3ms/step - loss: 0.1895 - accuracy: 0.9479\n",
      "WARNING:tensorflow:Can save best model only with val_loss available, skipping.\n",
      "Epoch 4/50\n",
      "112/112 [==============================] - 0s 3ms/step - loss: 0.2132 - accuracy: 0.9420\n",
      "WARNING:tensorflow:Can save best model only with val_loss available, skipping.\n",
      "Epoch 5/50\n",
      "112/112 [==============================] - 0s 3ms/step - loss: 0.0804 - accuracy: 0.9781\n",
      "WARNING:tensorflow:Can save best model only with val_loss available, skipping.\n",
      "Epoch 6/50\n",
      "112/112 [==============================] - 0s 3ms/step - loss: 0.1015 - accuracy: 0.9734\n",
      "WARNING:tensorflow:Can save best model only with val_loss available, skipping.\n",
      "Epoch 7/50\n",
      "112/112 [==============================] - 0s 3ms/step - loss: 0.1952 - accuracy: 0.9445\n",
      "WARNING:tensorflow:Can save best model only with val_loss available, skipping.\n",
      "Epoch 8/50\n",
      "112/112 [==============================] - 0s 3ms/step - loss: 0.1508 - accuracy: 0.9568\n",
      "WARNING:tensorflow:Can save best model only with val_loss available, skipping.\n",
      "Epoch 9/50\n",
      "112/112 [==============================] - 0s 2ms/step - loss: 0.0719 - accuracy: 0.9815\n",
      "WARNING:tensorflow:Can save best model only with val_loss available, skipping.\n",
      "Epoch 10/50\n",
      "112/112 [==============================] - 0s 2ms/step - loss: 0.0794 - accuracy: 0.9804\n",
      "WARNING:tensorflow:Can save best model only with val_loss available, skipping.\n",
      "Epoch 11/50\n",
      "112/112 [==============================] - 0s 2ms/step - loss: 0.0590 - accuracy: 0.9837\n",
      "WARNING:tensorflow:Can save best model only with val_loss available, skipping.\n",
      "Epoch 12/50\n",
      "112/112 [==============================] - 0s 2ms/step - loss: 0.1149 - accuracy: 0.9675\n",
      "WARNING:tensorflow:Can save best model only with val_loss available, skipping.\n",
      "Epoch 13/50\n",
      "112/112 [==============================] - 0s 2ms/step - loss: 0.0720 - accuracy: 0.9823\n",
      "WARNING:tensorflow:Can save best model only with val_loss available, skipping.\n",
      "Epoch 14/50\n",
      "112/112 [==============================] - 0s 2ms/step - loss: 0.0571 - accuracy: 0.9840\n",
      "WARNING:tensorflow:Can save best model only with val_loss available, skipping.\n",
      "Epoch 15/50\n",
      "112/112 [==============================] - 0s 2ms/step - loss: 0.0969 - accuracy: 0.9714\n",
      "WARNING:tensorflow:Can save best model only with val_loss available, skipping.\n",
      "Epoch 16/50\n",
      "112/112 [==============================] - 0s 2ms/step - loss: 0.0458 - accuracy: 0.9840\n",
      "WARNING:tensorflow:Can save best model only with val_loss available, skipping.\n",
      "Epoch 17/50\n",
      "112/112 [==============================] - 0s 2ms/step - loss: 0.0537 - accuracy: 0.9826\n",
      "WARNING:tensorflow:Can save best model only with val_loss available, skipping.\n",
      "Epoch 18/50\n",
      "112/112 [==============================] - 0s 2ms/step - loss: 0.1487 - accuracy: 0.9565\n",
      "WARNING:tensorflow:Can save best model only with val_loss available, skipping.\n",
      "Epoch 19/50\n",
      "112/112 [==============================] - 0s 2ms/step - loss: 0.0617 - accuracy: 0.9818\n",
      "WARNING:tensorflow:Can save best model only with val_loss available, skipping.\n",
      "Epoch 20/50\n",
      "112/112 [==============================] - 0s 2ms/step - loss: 0.0494 - accuracy: 0.9832\n",
      "WARNING:tensorflow:Can save best model only with val_loss available, skipping.\n"
     ]
    }
   ],
   "source": [
    "history = model.fit(X_train, y_train, \n",
    "                    epochs=50, \n",
    "                    callbacks=[callback_checkpoint, callback_loss])"
   ]
  },
  {
   "cell_type": "code",
   "execution_count": 21,
   "metadata": {},
   "outputs": [
    {
     "name": "stdout",
     "output_type": "stream",
     "text": [
      "INFO:tensorflow:Assets written to: ./checkpoints/alphabets_model\\assets\n"
     ]
    }
   ],
   "source": [
    "model.save(\"./checkpoints/alphabets_model\")"
   ]
  },
  {
   "cell_type": "markdown",
   "metadata": {},
   "source": [
    "## **5. Model Evaluation and Metrics**"
   ]
  },
  {
   "cell_type": "code",
   "execution_count": 22,
   "metadata": {},
   "outputs": [],
   "source": [
    "from sklearn.metrics import classification_report, confusion_matrix\n",
    "import matplotlib.pyplot as plt\n",
    "import seaborn as sns"
   ]
  },
  {
   "cell_type": "code",
   "execution_count": 23,
   "metadata": {},
   "outputs": [
    {
     "name": "stdout",
     "output_type": "stream",
     "text": [
      "{0: 158, 1: 154, 2: 146, 3: 146, 4: 141, 5: 147}\n"
     ]
    }
   ],
   "source": [
    "y_pred = model.predict(X_test)\n",
    "y_preds = np.argmax(y_pred, axis=1)\n",
    "\n",
    "unique, counts = np.unique(y_preds, return_counts=True)\n",
    "print(dict(zip(unique, counts)))"
   ]
  },
  {
   "cell_type": "code",
   "execution_count": 24,
   "metadata": {},
   "outputs": [],
   "source": [
    "def evaluate_model(history,X_test,y_test,model):\n",
    "  \"\"\"\n",
    "    Input: \n",
    "      history - Model history variable\n",
    "      X_test - Test features\n",
    "      y_test - Target test variables\n",
    "      model - Keras Model \n",
    "\n",
    "    Output:\n",
    "      Accuracy Plot (Training + Validation)\n",
    "      Loss Plot (Training + Validation)\n",
    "      Confusion matrix\n",
    "      Accuracy\n",
    "      Classification Report \n",
    "  \"\"\"  \n",
    "  scores = model.evaluate((X_test),y_test, verbose=0)\n",
    "  \n",
    "  fig, axs = plt.subplots(1,3, figsize=(18,5))\n",
    "  fig.tight_layout()\n",
    "\n",
    "  axs[0].plot(history.history['accuracy'])\n",
    "  axs[0].set_xlabel('Epoch')\n",
    "  axs[0].set_ylabel('Accuracy')\n",
    "  axs[0].set_title('Model - Accuracy')\n",
    "  axs[0].legend(['Training'], loc='lower right')\n",
    "\n",
    "  axs[1].plot(history.history['loss'])\n",
    "  axs[1].set_xlabel('Epoch')\n",
    "  axs[1].set_ylabel('Model Loss')\n",
    "  axs[1].set_title('Model - Loss')\n",
    "  axs[1].legend(['Training'], loc='upper right')\n",
    "\n",
    "  target_names=actions\n",
    "  \n",
    "  y_true=[]\n",
    "  for element in y_test:\n",
    "      y_true.append(np.argmax(element))\n",
    "  prediction_proba = model.predict(X_test)\n",
    "  prediction = np.argmax(prediction_proba,axis=1)\n",
    "  cnf_matrix = confusion_matrix(y_true, prediction)    \n",
    "  g = sns.heatmap(cnf_matrix, annot=True, cmap='Blues', fmt='g', ax=axs[2],\n",
    "                  xticklabels=target_names, yticklabels=target_names)\n",
    "  plt.show()\n",
    "\n",
    "  print(\"\\nAccuracy: %.2f%% \\n\" % (scores[1]*100))\n",
    "  print(classification_report(y_true, prediction, target_names=target_names))"
   ]
  },
  {
   "cell_type": "code",
   "execution_count": 25,
   "metadata": {},
   "outputs": [
    {
     "data": {
      "image/png": "[encoded data removed]",
      "text/plain": [
       "<Figure size 1296x360 with 4 Axes>"
      ]
     },
     "metadata": {
      "needs_background": "light"
     },
     "output_type": "display_data"
    },
    {
     "name": "stdout",
     "output_type": "stream",
     "text": [
      "\n",
      "Accuracy: 99.10% \n",
      "\n",
      "              precision    recall  f1-score   support\n",
      "\n",
      "           A       0.96      1.00      0.98       151\n",
      "           B       1.00      0.97      0.98       159\n",
      "           C       1.00      1.00      1.00       146\n",
      "           D       0.99      0.99      0.99       147\n",
      "           E       1.00      0.99      1.00       142\n",
      "           F       1.00      1.00      1.00       147\n",
      "\n",
      "    accuracy                           0.99       892\n",
      "   macro avg       0.99      0.99      0.99       892\n",
      "weighted avg       0.99      0.99      0.99       892\n",
      "\n"
     ]
    }
   ],
   "source": [
    "evaluate_model(history, X_test, y_test, model)"
   ]
  },
  {
   "cell_type": "markdown",
   "metadata": {},
   "source": [
    "## **6. Live testing**"
   ]
  },
  {
   "cell_type": "markdown",
   "metadata": {},
   "source": [
    "### **a. Gestures**"
   ]
  },
  {
   "cell_type": "code",
   "execution_count": null,
   "metadata": {},
   "outputs": [],
   "source": [
    "import cv2\n",
    "import numpy as np\n",
    "import mediapipe as mp\n",
    "import tensorflow as tf\n",
    "from tensorflow.keras.models import load_model\n",
    "\n",
    "# initialize mediapipe\n",
    "mp_holistic = mp.solutions.holistic\n",
    "holistic = mp_holistic.Holistic(min_detection_confidence=0.7, min_tracking_confidence=0.7)\n",
    "mpDraw = mp.solutions.drawing_utils\n",
    "\n",
    "# Load the gesture recognizer model\n",
    "model = load_model('checkpoints\\\\two_hand_9_model')\n",
    "\n",
    "# Load class names\n",
    "# f = open('gesture.names', 'r')\n",
    "# classNames = f.read().split('\\n')\n",
    "# f.close()\n",
    "classNames = actions\n",
    "print(classNames)\n",
    "\n",
    "\n",
    "# Initialize the webcam\n",
    "cap = cv2.VideoCapture(0)\n",
    "\n",
    "while True:\n",
    "    # Read each frame from the webcam\n",
    "    _, frame = cap.read()\n",
    "\n",
    "    x, y, c = frame.shape\n",
    "\n",
    "    # Flip the frame vertically\n",
    "    frame = cv2.flip(frame, 1)\n",
    "    framergb = cv2.cvtColor(frame, cv2.COLOR_BGR2RGB)\n",
    "\n",
    "    # Get hand landmark prediction\n",
    "    result = holistic.process(framergb)     \n",
    "    className = ''\n",
    "\n",
    "    # post process the result\n",
    "    if result.left_hand_landmarks or result.right_hand_landmarks:\n",
    "        landmarks = []\n",
    "\n",
    "        lh = [[res.x, res.y] for res in result.left_hand_landmarks.landmark] if result.left_hand_landmarks else np.zeros(21*2).reshape(-1,2).tolist()\n",
    "        rh = [[res.x, res.y] for res in result.right_hand_landmarks.landmark] if result.right_hand_landmarks else np.zeros(21*2).reshape(-1,2).tolist()\n",
    "        \n",
    "        # print(\"Initial: \", np.array(lh).shape, np.array(rh).shape)\n",
    "        for i in range(len(lh)):\n",
    "            landmarks.append(np.append(lh[i], rh[i]).tolist())\n",
    "        \n",
    "        # Drawing landmarks on frames\n",
    "        mpDraw.draw_landmarks(frame, result.left_hand_landmarks, mp_holistic.HAND_CONNECTIONS) # Draw left hand connections\n",
    "        mpDraw.draw_landmarks(frame, result.right_hand_landmarks, mp_holistic.HAND_CONNECTIONS) # Draw right hand connections\n",
    "\n",
    "\n",
    "        # Predict gesture\n",
    "        prediction = model.predict([landmarks])\n",
    "        # print(prediction)\n",
    "        classID = np.argmax(prediction)\n",
    "        className = classNames[classID]\n",
    "\n",
    "    # show the prediction on the frame\n",
    "    cv2.putText(frame, className, (10, 50), cv2.FONT_HERSHEY_SIMPLEX, \n",
    "                   1, (0,0,255), 2, cv2.LINE_AA)\n",
    "\n",
    "    # Show the final output\n",
    "    cv2.imshow(\"Output\", frame) \n",
    "\n",
    "    if cv2.waitKey(1) == ord('q'):\n",
    "        break\n",
    "\n",
    "# release the webcam and destroy all active windows\n",
    "cap.release()\n",
    "\n",
    "cv2.destroyAllWindows()"
   ]
  },
  {
   "cell_type": "markdown",
   "metadata": {},
   "source": [
    "### **b. Alphabets**"
   ]
  },
  {
   "cell_type": "code",
   "execution_count": 27,
   "metadata": {},
   "outputs": [
    {
     "name": "stdout",
     "output_type": "stream",
     "text": [
      "['A' 'B' 'C' 'D' 'E' 'F']\n"
     ]
    }
   ],
   "source": [
    "import cv2\n",
    "import numpy as np\n",
    "import mediapipe as mp\n",
    "import tensorflow as tf\n",
    "from tensorflow.keras.models import load_model\n",
    "\n",
    "# initialize mediapipe\n",
    "mpHands = mp.solutions.hands\n",
    "hands = mpHands.Hands(max_num_hands=1, min_detection_confidence=0.7)\n",
    "mpDraw = mp.solutions.drawing_utils\n",
    "\n",
    "# Load the gesture recognizer model\n",
    "model = load_model('checkpoints\\\\alphabets_model')\n",
    "\n",
    "# Load class names\n",
    "classNames = actions\n",
    "print(classNames)\n",
    "\n",
    "\n",
    "# Initialize the webcam\n",
    "cap = cv2.VideoCapture(0)\n",
    "\n",
    "while True:\n",
    "    # Read each frame from the webcam\n",
    "    _, frame = cap.read()\n",
    "\n",
    "    x, y, c = frame.shape\n",
    "\n",
    "    # Flip the frame vertically\n",
    "    frame = cv2.flip(frame, 1)\n",
    "    framergb = cv2.cvtColor(frame, cv2.COLOR_BGR2RGB)\n",
    "\n",
    "    # Get hand landmark prediction\n",
    "    result = hands.process(framergb)\n",
    "\n",
    "    # print(result)\n",
    "    \n",
    "    className = ''\n",
    "\n",
    "    # post process the result\n",
    "    if result.multi_hand_landmarks:\n",
    "        landmarks = []\n",
    "        for handslms in result.multi_hand_landmarks:\n",
    "            for lm in handslms.landmark:\n",
    "                # print(id, lm)\n",
    "                lmx = int(lm.x * x)\n",
    "                lmy = int(lm.y * y)\n",
    "\n",
    "                landmarks.append([lmx, lmy])\n",
    "\n",
    "            # Drawing landmarks on frames\n",
    "            mpDraw.draw_landmarks(frame, handslms, mpHands.HAND_CONNECTIONS)\n",
    "\n",
    "            # Predict gesture\n",
    "            prediction = model.predict([landmarks])\n",
    "            # print(prediction)\n",
    "            classID = np.argmax(prediction)\n",
    "            className = classNames[classID]\n",
    "\n",
    "    # show the prediction on the frame\n",
    "    cv2.putText(frame, className, (10, 50), cv2.FONT_HERSHEY_SIMPLEX, \n",
    "                   1, (0,0,255), 2, cv2.LINE_AA)\n",
    "\n",
    "    # Show the final output\n",
    "    cv2.imshow(\"Output\", frame) \n",
    "\n",
    "    if cv2.waitKey(1) == ord('q'):\n",
    "        break\n",
    "\n",
    "# release the webcam and destroy all active windows\n",
    "cap.release()\n",
    "\n",
    "cv2.destroyAllWindows()"
   ]
  }
 ],
 "metadata": {
  "interpreter": {
   "hash": "bff6b25a10b852318755d46bc5b4c8001116bec713b71f82f988afda0a77c275"
  },
  "kernelspec": {
   "display_name": "Python 3.6.13 ('UI')",
   "language": "python",
   "name": "python3"
  },
  "language_info": {
   "codemirror_mode": {
    "name": "ipython",
    "version": 3
   },
   "file_extension": ".py",
   "mimetype": "text/x-python",
   "name": "python",
   "nbconvert_exporter": "python",
   "pygments_lexer": "ipython3",
   "version": "3.6.13"
  },
  "orig_nbformat": 4
 },
 "nbformat": 4,
 "nbformat_minor": 2
}
