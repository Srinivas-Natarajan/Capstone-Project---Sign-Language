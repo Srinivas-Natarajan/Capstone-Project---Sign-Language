{
 "cells": [
  {
   "cell_type": "code",
   "execution_count": 1,
   "metadata": {},
   "outputs": [],
   "source": [
    "import os\n",
    "import mediapipe as mp \n",
    "import numpy as np\n",
    "import cv2\n",
    "import math\n",
    "import pickle\n",
    "import tensorflow as tf\n"
   ]
  },
  {
   "cell_type": "markdown",
   "metadata": {},
   "source": [
    "# **1. Alphabet Landmarks**\n",
    "\n",
    "---"
   ]
  },
  {
   "cell_type": "code",
   "execution_count": 2,
   "metadata": {},
   "outputs": [],
   "source": [
    "list_of_metrics = {}"
   ]
  },
  {
   "cell_type": "markdown",
   "metadata": {},
   "source": [
    "### Common Functions used:"
   ]
  },
  {
   "cell_type": "code",
   "execution_count": 3,
   "metadata": {},
   "outputs": [],
   "source": [
    "def preprocess(data, labels):\n",
    "    \n",
    "    import tensorflow as tf\n",
    "    from sklearn.model_selection import train_test_split\n",
    "\n",
    "    # STEP 1: Data Distribution Check\n",
    "    print(\"Data Shape: \", data.shape, \"||  Label Shape: \", labels.shape)\n",
    "    unique, counts = np.unique(labels, return_counts=True)\n",
    "    print(\"\\nOriginal Label Distribution:\\n\", dict(zip(unique, counts)))\n",
    "\n",
    "    # STEP 2: Convert labels to a Categorical Variable\n",
    "    lab = tf.keras.utils.to_categorical(labels)\n",
    "\n",
    "    # STEP 3: Train-Test Split\n",
    "    X_train, X_test, y_train, y_test = train_test_split(data, lab, test_size=0.2, random_state=42)\n",
    "\n",
    "    unique, counts = np.unique(np.argmax(y_train, axis=1), return_counts=True)\n",
    "    print(\"\\nTraining:\\n\", X_train.shape, y_train.shape, \"\\n\") #, dict(zip(unique, counts)))\n",
    "\n",
    "    unique, counts = np.unique(np.argmax(y_test, axis=1), return_counts=True)\n",
    "    print(\"Test:\\n\", X_test.shape, y_test.shape, \"\\n\") #, dict(zip(unique, counts)))\n",
    "\n",
    "    return X_train, X_test, y_train, y_test\n",
    "        "
   ]
  },
  {
   "cell_type": "code",
   "execution_count": 4,
   "metadata": {},
   "outputs": [],
   "source": [
    "def train_model(input_shape = (21,2), output_shape=24):\n",
    "    import tensorflow as tf\n",
    "    from tensorflow.keras.models import Sequential\n",
    "    from tensorflow.keras.layers import Dense, Flatten, Dropout, LSTM\n",
    "    from tensorflow.keras.callbacks import ModelCheckpoint, EarlyStopping\n",
    "\n",
    "    if(input_shape[1]==0):\n",
    "        model = Sequential([\n",
    "            Flatten(input_shape=(input_shape[0],)),\n",
    "            Dense(64,  activation='relu'),\n",
    "            Dense(128, activation='relu'),\n",
    "            Dense(512, activation='relu'),\n",
    "            Dropout(rate=0.1),\n",
    "            Dense(512, activation='relu'),\n",
    "            Dropout(rate=0.2),\n",
    "            Dense(64, activation='relu'),\n",
    "            Dense(32, activation='relu'),\n",
    "            Dense(output_shape, activation='softmax'),\n",
    "        ])\n",
    "    else:\n",
    "        model = Sequential([\n",
    "            Flatten(input_shape=(input_shape[0],input_shape[1])),\n",
    "            Dense(64,  activation='relu'),\n",
    "            Dense(128, activation='relu'),\n",
    "            Dense(512, activation='relu'),\n",
    "            Dropout(rate=0.1),\n",
    "            Dense(512, activation='relu'),\n",
    "            Dropout(rate=0.2),\n",
    "            Dense(64, activation='relu'),\n",
    "            Dense(32, activation='relu'),\n",
    "            Dense(output_shape, activation='softmax'),\n",
    "        ])\n",
    "\n",
    "    # model.summary()\n",
    "\n",
    "    callback_checkpoint = ModelCheckpoint(\n",
    "        './checkpoints/', monitor='val_loss', verbose=0, save_best_only=True,\n",
    "        save_weights_only=True, mode='auto', save_freq='epoch',\n",
    "    )\n",
    "    callback_loss = EarlyStopping(monitor='loss', patience=4)\n",
    "\n",
    "    model.compile(loss='categorical_crossentropy', optimizer='adam', metrics=['accuracy'])\n",
    "\n",
    "    history = model.fit(X_train, y_train, \n",
    "                        epochs=50, \n",
    "                        callbacks=[callback_checkpoint, callback_loss])\n",
    "    return model, history"
   ]
  },
  {
   "cell_type": "code",
   "execution_count": 5,
   "metadata": {},
   "outputs": [],
   "source": [
    "def evaluate_model(history, X_test, y_test, model, title, actions):\n",
    "  \"\"\"\n",
    "    Input: \n",
    "      history - Model history variable\n",
    "      X_test - Test features\n",
    "      y_test - Target test variables\n",
    "      model - Keras Model \n",
    "\n",
    "    Output:\n",
    "      Accuracy Plot (Training + Validation)\n",
    "      Loss Plot (Training + Validation)\n",
    "      Confusion matrix\n",
    "      Accuracy\n",
    "      Classification Report\n",
    "  \"\"\"  \n",
    "\n",
    "  from sklearn.metrics import classification_report, confusion_matrix\n",
    "  import matplotlib.pyplot as plt\n",
    "  import seaborn as sns\n",
    "  \n",
    "  scores = model.evaluate((X_test),y_test, verbose=0)\n",
    "  \n",
    "  fig, axs = plt.subplots(1,3, figsize=(22,6))\n",
    "  fig.tight_layout()\n",
    "\n",
    "  axs[0].plot(history.history['accuracy'])\n",
    "  axs[0].set_xlabel('Epoch')\n",
    "  axs[0].set_ylabel('Accuracy')\n",
    "  axs[0].set_title('Model - Accuracy (' + title +\")\")\n",
    "  axs[0].legend(['Training'], loc='lower right')\n",
    "\n",
    "  axs[1].plot(history.history['loss'])\n",
    "  axs[1].set_xlabel('Epoch')\n",
    "  axs[1].set_ylabel('Model Loss')\n",
    "  axs[1].set_title('Model - Loss (' + title +\")\")\n",
    "  axs[1].legend(['Training'], loc='upper right')\n",
    "\n",
    "  target_names=actions\n",
    "  \n",
    "  y_true=[]\n",
    "  for element in y_test:\n",
    "      y_true.append(np.argmax(element))\n",
    "\n",
    "  prediction_proba = model.predict(X_test)\n",
    "  prediction = np.argmax(prediction_proba,axis=1)\n",
    "  cnf_matrix = confusion_matrix(y_true, prediction)    \n",
    "  g = sns.heatmap(cnf_matrix, annot=True, cmap='Blues', fmt='g', ax=axs[2],\n",
    "                  xticklabels=target_names, yticklabels=target_names)\n",
    "  axs[2].set_title(\"Confusion Matrix\")\n",
    "  plt.show()\n",
    "\n",
    "\n",
    "  print(\"\\nAccuracy: %.2f%% \\n\" % (scores[1]*100))\n",
    "  print(classification_report(y_true, prediction, target_names=target_names))\n",
    "\n",
    "  return {\"metrics\": classification_report(y_true, prediction, target_names=target_names, output_dict=True)}"
   ]
  },
  {
   "cell_type": "code",
   "execution_count": 6,
   "metadata": {},
   "outputs": [],
   "source": [
    "def getAngle(a, b, c):\n",
    "    ang = math.degrees(math.atan2(c[1]-b[1], c[0]-b[0]) - math.atan2(a[1]-b[1], a[0]-b[0]))\n",
    "    return ang + 360 if ang < 0 else ang"
   ]
  },
  {
   "cell_type": "code",
   "execution_count": 7,
   "metadata": {},
   "outputs": [],
   "source": [
    "def get_distance(a,b):\n",
    "    from math import pow, sqrt\n",
    "    return round(sqrt(pow(b[0]-a[0],2) + pow(b[1]-a[1],2)), 4)"
   ]
  },
  {
   "cell_type": "markdown",
   "metadata": {},
   "source": [
    "### Loading Landmarks and Labels"
   ]
  },
  {
   "cell_type": "code",
   "execution_count": 8,
   "metadata": {},
   "outputs": [
    {
     "name": "stdout",
     "output_type": "stream",
     "text": [
      "['A', 'B', 'C', 'D', 'E', 'F', 'G', 'H', 'I', 'J', 'K', 'L', 'M', 'N', 'O', 'P', 'Q', 'R', 'S', 'U', 'V', 'W', 'X', 'Y']\n"
     ]
    }
   ],
   "source": [
    "LANDMARK_PATH = os.path.join('./data/Character_Data_Landmarks')\n",
    "\n",
    "actions = [chr(i) for i in range(ord('A'), ord('Z')) if chr(i)!='T']\n",
    "\n",
    "no_sequences =  25\n",
    "sequence_length = 30\n",
    "\n",
    "print(actions)"
   ]
  },
  {
   "cell_type": "code",
   "execution_count": 9,
   "metadata": {},
   "outputs": [
    {
     "name": "stdout",
     "output_type": "stream",
     "text": [
      "{'A': 0, 'B': 1, 'C': 2, 'D': 3, 'E': 4, 'F': 5, 'G': 6, 'H': 7, 'I': 8, 'J': 9, 'K': 10, 'L': 11, 'M': 12, 'N': 13, 'O': 14, 'P': 15, 'Q': 16, 'R': 17, 'S': 18, 'U': 19, 'V': 20, 'W': 21, 'X': 22, 'Y': 23}\n"
     ]
    }
   ],
   "source": [
    "label_map = {label:num for num, label in enumerate(actions)}\n",
    "print(label_map)"
   ]
  },
  {
   "cell_type": "markdown",
   "metadata": {},
   "source": [
    "## **A. Neural Networks**"
   ]
  },
  {
   "cell_type": "markdown",
   "metadata": {},
   "source": [
    "### **i) Just (X,Y)**"
   ]
  },
  {
   "cell_type": "code",
   "execution_count": 14,
   "metadata": {},
   "outputs": [],
   "source": [
    "missing = []\n",
    "data = []\n",
    "labels = []\n",
    "\n",
    "with open('data/dimensions.pkl', 'rb') as f:\n",
    "    x, y, c = pickle.load(f)\n",
    "\n",
    "for action in actions:\n",
    "    # Loop through sequences aka videos\n",
    "    for sequence in range(0, 0 + no_sequences): \n",
    "        # Loop through video length aka sequence length\n",
    "        for frame_num in range(sequence_length):\n",
    "            \n",
    "            pkl_path = os.path.join(LANDMARK_PATH, action, str(sequence), str(frame_num))\n",
    "            try:\n",
    "                with open(pkl_path, 'rb') as f:\n",
    "                    result = pickle.load(f)\n",
    "\n",
    "                landmarks = []\n",
    "                for handslms in result:\n",
    "                    for lm in handslms.landmark:\n",
    "                        lmx = int(lm.x * x)\n",
    "                        lmy = int(lm.y * y)\n",
    "                        \n",
    "                        # landmarks.append([lmx, lmy])\n",
    "                        landmarks.append(lmy)\n",
    "                        landmarks.append(lmy)\n",
    "                \n",
    "                data.append(landmarks)\n",
    "                labels.append(label_map[action])\n",
    "                \n",
    "            except:\n",
    "                missing.append(pkl_path)\n",
    "\n",
    "            \n",
    "data = np.array(data)\n",
    "labels = np.array(labels)"
   ]
  },
  {
   "cell_type": "code",
   "execution_count": 15,
   "metadata": {},
   "outputs": [
    {
     "name": "stdout",
     "output_type": "stream",
     "text": [
      "(17764, 42) (17764,)\n"
     ]
    }
   ],
   "source": [
    "print(data.shape, labels.shape)"
   ]
  },
  {
   "cell_type": "code",
   "execution_count": 16,
   "metadata": {},
   "outputs": [
    {
     "name": "stdout",
     "output_type": "stream",
     "text": [
      "Data Shape:  (17764, 42) ||  Label Shape:  (17764,)\n",
      "\n",
      "Original Label Distribution:\n",
      " {0: 747, 1: 748, 2: 746, 3: 748, 4: 749, 5: 749, 6: 605, 7: 718, 8: 748, 9: 746, 10: 749, 11: 749, 12: 750, 13: 749, 14: 749, 15: 748, 16: 731, 17: 748, 18: 750, 19: 745, 20: 746, 21: 748, 22: 749, 23: 749}\n",
      "\n",
      "Training:\n",
      " (14211, 42) (14211, 24) \n",
      "\n",
      "Test:\n",
      " (3553, 42) (3553, 24) \n",
      "\n"
     ]
    }
   ],
   "source": [
    "X_train, X_test, y_train, y_test = preprocess(data, labels)"
   ]
  },
  {
   "cell_type": "code",
   "execution_count": 17,
   "metadata": {},
   "outputs": [
    {
     "name": "stdout",
     "output_type": "stream",
     "text": [
      "Epoch 1/50\n",
      "445/445 [==============================] - 2s 4ms/step - loss: 2.5936 - accuracy: 0.3093\n",
      "WARNING:tensorflow:Can save best model only with val_loss available, skipping.\n",
      "Epoch 2/50\n",
      "445/445 [==============================] - 2s 4ms/step - loss: 0.6566 - accuracy: 0.7475\n",
      "WARNING:tensorflow:Can save best model only with val_loss available, skipping.\n",
      "Epoch 3/50\n",
      "445/445 [==============================] - 2s 3ms/step - loss: 0.4504 - accuracy: 0.8287\n",
      "WARNING:tensorflow:Can save best model only with val_loss available, skipping.\n",
      "Epoch 4/50\n",
      "445/445 [==============================] - 2s 3ms/step - loss: 0.4307 - accuracy: 0.8409\n",
      "WARNING:tensorflow:Can save best model only with val_loss available, skipping.\n",
      "Epoch 5/50\n",
      "445/445 [==============================] - 2s 3ms/step - loss: 0.4225 - accuracy: 0.8460\n",
      "WARNING:tensorflow:Can save best model only with val_loss available, skipping.\n",
      "Epoch 6/50\n",
      "445/445 [==============================] - 2s 3ms/step - loss: 0.3424 - accuracy: 0.8762\n",
      "WARNING:tensorflow:Can save best model only with val_loss available, skipping.\n",
      "Epoch 7/50\n",
      "445/445 [==============================] - 2s 3ms/step - loss: 0.3322 - accuracy: 0.8754\n",
      "WARNING:tensorflow:Can save best model only with val_loss available, skipping.\n",
      "Epoch 8/50\n",
      "445/445 [==============================] - 1s 3ms/step - loss: 0.3642 - accuracy: 0.8681\n",
      "WARNING:tensorflow:Can save best model only with val_loss available, skipping.\n",
      "Epoch 9/50\n",
      "445/445 [==============================] - 1s 3ms/step - loss: 0.3266 - accuracy: 0.8809\n",
      "WARNING:tensorflow:Can save best model only with val_loss available, skipping.\n",
      "Epoch 10/50\n",
      "445/445 [==============================] - 1s 3ms/step - loss: 0.3548 - accuracy: 0.8675\n",
      "WARNING:tensorflow:Can save best model only with val_loss available, skipping.\n",
      "Epoch 11/50\n",
      "445/445 [==============================] - 2s 3ms/step - loss: 0.2854 - accuracy: 0.8982\n",
      "WARNING:tensorflow:Can save best model only with val_loss available, skipping.\n",
      "Epoch 12/50\n",
      "445/445 [==============================] - 2s 3ms/step - loss: 0.3200 - accuracy: 0.8836\n",
      "WARNING:tensorflow:Can save best model only with val_loss available, skipping.\n",
      "Epoch 13/50\n",
      "445/445 [==============================] - 1s 3ms/step - loss: 0.3259 - accuracy: 0.8816\n",
      "WARNING:tensorflow:Can save best model only with val_loss available, skipping.\n",
      "Epoch 14/50\n",
      "445/445 [==============================] - 1s 3ms/step - loss: 0.2969 - accuracy: 0.8960\n",
      "WARNING:tensorflow:Can save best model only with val_loss available, skipping.\n",
      "Epoch 15/50\n",
      "445/445 [==============================] - 2s 3ms/step - loss: 0.3140 - accuracy: 0.8830\n",
      "WARNING:tensorflow:Can save best model only with val_loss available, skipping.\n"
     ]
    }
   ],
   "source": [
    "model_xy, history = train_model( (X_train.shape[1],0), y_train.shape[1])\n",
    "# model_xy, history = train_model( (X_train.shape[1], X_train.shape[2]), y_train.shape[1])"
   ]
  },
  {
   "cell_type": "code",
   "execution_count": null,
   "metadata": {},
   "outputs": [],
   "source": [
    "model_xy.save(\"./model_saves/only_coordinates\")"
   ]
  },
  {
   "cell_type": "code",
   "execution_count": null,
   "metadata": {},
   "outputs": [],
   "source": [
    "from tensorflow.keras.models import load_model\n",
    "\n",
    "model_xy = load_model(\"./model_saves/only_coordinates\")"
   ]
  },
  {
   "cell_type": "code",
   "execution_count": 18,
   "metadata": {},
   "outputs": [
    {
     "data": {
      "image/png": "[encoded data removed]",
      "text/plain": [
       "<Figure size 1584x432 with 4 Axes>"
      ]
     },
     "metadata": {
      "needs_background": "light"
     },
     "output_type": "display_data"
    },
    {
     "name": "stdout",
     "output_type": "stream",
     "text": [
      "\n",
      "Accuracy: 86.15% \n",
      "\n",
      "              precision    recall  f1-score   support\n",
      "\n",
      "           A       0.96      1.00      0.98       140\n",
      "           B       0.99      1.00      0.99       148\n",
      "           C       0.84      0.93      0.88       148\n",
      "           D       1.00      0.50      0.67       147\n",
      "           E       0.98      0.82      0.89       158\n",
      "           F       0.99      1.00      1.00       156\n",
      "           G       0.86      0.98      0.92       131\n",
      "           H       0.94      0.84      0.89       134\n",
      "           I       0.71      0.84      0.77       157\n",
      "           J       0.98      0.78      0.87       134\n",
      "           K       1.00      0.97      0.98       163\n",
      "           L       0.80      0.99      0.89       156\n",
      "           M       0.79      0.99      0.88       142\n",
      "           N       0.99      0.99      0.99       158\n",
      "           O       0.89      0.28      0.43       171\n",
      "           P       1.00      0.99      1.00       163\n",
      "           Q       1.00      1.00      1.00       160\n",
      "           R       0.71      0.70      0.70       134\n",
      "           S       0.45      0.70      0.55       146\n",
      "           U       0.84      0.74      0.78       141\n",
      "           V       0.81      0.98      0.89       134\n",
      "           W       0.99      1.00      1.00       164\n",
      "           X       0.75      0.99      0.86       126\n",
      "           Y       0.75      0.68      0.71       142\n",
      "\n",
      "    accuracy                           0.86      3553\n",
      "   macro avg       0.88      0.86      0.86      3553\n",
      "weighted avg       0.88      0.86      0.86      3553\n",
      "\n"
     ]
    }
   ],
   "source": [
    "only_coordinates_results = evaluate_model(history, X_test, y_test, model_xy, \"Only (X,Y)\", actions)"
   ]
  },
  {
   "cell_type": "code",
   "execution_count": 20,
   "metadata": {},
   "outputs": [],
   "source": [
    "# with open('data/results_new.pkl', 'rb') as f:\n",
    "#     list_of_metrics = pickle.load(f)\n",
    "\n",
    "list_of_metrics['only_coordinates'] = only_coordinates_results\n",
    "\n",
    "with open('data/results_new.pkl', 'wb') as f:\n",
    "     pickle.dump(list_of_metrics, f)"
   ]
  },
  {
   "cell_type": "code",
   "execution_count": 22,
   "metadata": {},
   "outputs": [
    {
     "name": "stdout",
     "output_type": "stream",
     "text": [
      "only_coordinates\n"
     ]
    }
   ],
   "source": [
    "with open('data/results_new.pkl', 'rb') as f:\n",
    "    list_of_metrics = pickle.load(f)\n",
    "\n",
    "for key in list_of_metrics.keys():\n",
    "    print(key)"
   ]
  },
  {
   "cell_type": "code",
   "execution_count": null,
   "metadata": {},
   "outputs": [],
   "source": [
    "import tensorflowjs as tfjs\n",
    "\n",
    "tfjs.converters.save_keras_model(model_xy, \"./public\")"
   ]
  },
  {
   "cell_type": "markdown",
   "metadata": {},
   "source": [
    "### **ii) Two Angles**"
   ]
  },
  {
   "cell_type": "code",
   "execution_count": 34,
   "metadata": {},
   "outputs": [],
   "source": [
    "missing = []\n",
    "data = []\n",
    "labels = []\n",
    "mpHands = mp.solutions.hands\n",
    "\n",
    "with open('data/dimensions.pkl', 'rb') as f:\n",
    "    x, y, c = pickle.load(f)\n",
    "\n",
    "for action in actions:\n",
    "    # Loop through sequences aka videos\n",
    "    for sequence in range(0, 0 + no_sequences): \n",
    "        # Loop through video length aka sequence length\n",
    "        for frame_num in range(sequence_length):\n",
    "            \n",
    "            pkl_path = os.path.join(LANDMARK_PATH, action, str(sequence), str(frame_num))\n",
    "            try:\n",
    "                with open(pkl_path, 'rb') as f:\n",
    "                    result = pickle.load(f)\n",
    "\n",
    "                # print(pkl_path)\n",
    "                landmarks = []\n",
    "                for handslms in result:\n",
    "                    angle_1 = getAngle((handslms.landmark[mpHands.HandLandmark.THUMB_TIP].x, handslms.landmark[mpHands.HandLandmark.THUMB_TIP].y),\n",
    "                                            (handslms.landmark[mpHands.HandLandmark.WRIST].x, handslms.landmark[mpHands.HandLandmark.WRIST].y),\n",
    "                                            (handslms.landmark[mpHands.HandLandmark.PINKY_TIP].x, handslms.landmark[mpHands.HandLandmark.PINKY_TIP].y))\n",
    "\n",
    "                    angle_2 = getAngle((handslms.landmark[mpHands.HandLandmark.INDEX_FINGER_TIP].x, handslms.landmark[mpHands.HandLandmark.INDEX_FINGER_TIP].y),\n",
    "                                        (handslms.landmark[mpHands.HandLandmark.INDEX_FINGER_MCP].x, handslms.landmark[mpHands.HandLandmark.INDEX_FINGER_MCP].y),\n",
    "                                        (handslms.landmark[mpHands.HandLandmark.MIDDLE_FINGER_TIP].x, handslms.landmark[mpHands.HandLandmark.MIDDLE_FINGER_TIP].y))\n",
    "                    # print(angle_1, angle_2)\n",
    "                    for lm in handslms.landmark:\n",
    "                        lmx = int(lm.x * x)\n",
    "                        lmy = int(lm.y * y)\n",
    "                        \n",
    "                        # landmarks.append([lmx, lmy])\n",
    "                        landmarks.append(lmx)\n",
    "                        landmarks.append(lmy)\n",
    "                    # landmarks.append([angle_1, angle_2])\n",
    "                    landmarks.append(angle_1)\n",
    "                    landmarks.append(angle_2)\n",
    "\n",
    "                data.append(landmarks)\n",
    "                labels.append(label_map[action])\n",
    "                \n",
    "            except:\n",
    "                missing.append(pkl_path)\n",
    "\n",
    "            \n",
    "data = np.array(data)\n",
    "labels = np.array(labels)"
   ]
  },
  {
   "cell_type": "code",
   "execution_count": 35,
   "metadata": {},
   "outputs": [
    {
     "name": "stdout",
     "output_type": "stream",
     "text": [
      "(17764, 44) (17764,)\n"
     ]
    }
   ],
   "source": [
    "print(data.shape, labels.shape)"
   ]
  },
  {
   "cell_type": "code",
   "execution_count": 36,
   "metadata": {},
   "outputs": [
    {
     "name": "stdout",
     "output_type": "stream",
     "text": [
      "Data Shape:  (17764, 44) ||  Label Shape:  (17764,)\n",
      "\n",
      "Original Label Distribution:\n",
      " {0: 747, 1: 748, 2: 746, 3: 748, 4: 749, 5: 749, 6: 605, 7: 718, 8: 748, 9: 746, 10: 749, 11: 749, 12: 750, 13: 749, 14: 749, 15: 748, 16: 731, 17: 748, 18: 750, 19: 745, 20: 746, 21: 748, 22: 749, 23: 749}\n",
      "\n",
      "Training:\n",
      " (14211, 44) (14211, 24) \n",
      "\n",
      "Test:\n",
      " (3553, 44) (3553, 24) \n",
      "\n"
     ]
    }
   ],
   "source": [
    "X_train, X_test, y_train, y_test = preprocess(data, labels)"
   ]
  },
  {
   "cell_type": "code",
   "execution_count": 32,
   "metadata": {},
   "outputs": [
    {
     "name": "stdout",
     "output_type": "stream",
     "text": [
      "Epoch 1/50\n",
      "445/445 [==============================] - 2s 4ms/step - loss: 3.7496 - accuracy: 0.0692\n",
      "WARNING:tensorflow:Can save best model only with val_loss available, skipping.\n",
      "Epoch 2/50\n",
      "445/445 [==============================] - 2s 4ms/step - loss: 2.8391 - accuracy: 0.1398\n",
      "WARNING:tensorflow:Can save best model only with val_loss available, skipping.\n",
      "Epoch 3/50\n",
      "445/445 [==============================] - 2s 4ms/step - loss: 1.3074 - accuracy: 0.5731\n",
      "WARNING:tensorflow:Can save best model only with val_loss available, skipping.\n",
      "Epoch 4/50\n",
      "445/445 [==============================] - 2s 4ms/step - loss: 0.4112 - accuracy: 0.8580\n",
      "WARNING:tensorflow:Can save best model only with val_loss available, skipping.\n",
      "Epoch 5/50\n",
      "445/445 [==============================] - 1s 3ms/step - loss: 0.3046 - accuracy: 0.8984\n",
      "WARNING:tensorflow:Can save best model only with val_loss available, skipping.\n",
      "Epoch 6/50\n",
      "445/445 [==============================] - 1s 3ms/step - loss: 0.2513 - accuracy: 0.9176\n",
      "WARNING:tensorflow:Can save best model only with val_loss available, skipping.\n",
      "Epoch 7/50\n",
      "445/445 [==============================] - 2s 4ms/step - loss: 0.1755 - accuracy: 0.9427\n",
      "WARNING:tensorflow:Can save best model only with val_loss available, skipping.\n",
      "Epoch 8/50\n",
      "445/445 [==============================] - 1s 3ms/step - loss: 0.2109 - accuracy: 0.9343\n",
      "WARNING:tensorflow:Can save best model only with val_loss available, skipping.\n",
      "Epoch 9/50\n",
      "445/445 [==============================] - 1s 3ms/step - loss: 0.1920 - accuracy: 0.9402\n",
      "WARNING:tensorflow:Can save best model only with val_loss available, skipping.\n",
      "Epoch 10/50\n",
      "445/445 [==============================] - 2s 3ms/step - loss: 0.1483 - accuracy: 0.9536\n",
      "WARNING:tensorflow:Can save best model only with val_loss available, skipping.\n",
      "Epoch 11/50\n",
      "445/445 [==============================] - 2s 4ms/step - loss: 0.1877 - accuracy: 0.9450\n",
      "WARNING:tensorflow:Can save best model only with val_loss available, skipping.\n",
      "Epoch 12/50\n",
      "445/445 [==============================] - 2s 4ms/step - loss: 0.1479 - accuracy: 0.9562\n",
      "WARNING:tensorflow:Can save best model only with val_loss available, skipping.\n",
      "Epoch 13/50\n",
      "445/445 [==============================] - 1s 3ms/step - loss: 0.1596 - accuracy: 0.9501\n",
      "WARNING:tensorflow:Can save best model only with val_loss available, skipping.\n",
      "Epoch 14/50\n",
      "445/445 [==============================] - 2s 3ms/step - loss: 0.1271 - accuracy: 0.9652\n",
      "WARNING:tensorflow:Can save best model only with val_loss available, skipping.\n",
      "Epoch 15/50\n",
      "445/445 [==============================] - 1s 3ms/step - loss: 0.1577 - accuracy: 0.9524\n",
      "WARNING:tensorflow:Can save best model only with val_loss available, skipping.\n",
      "Epoch 16/50\n",
      "445/445 [==============================] - 2s 4ms/step - loss: 0.1347 - accuracy: 0.9584\n",
      "WARNING:tensorflow:Can save best model only with val_loss available, skipping.\n",
      "Epoch 17/50\n",
      "445/445 [==============================] - 2s 3ms/step - loss: 0.1223 - accuracy: 0.9654\n",
      "WARNING:tensorflow:Can save best model only with val_loss available, skipping.\n",
      "Epoch 18/50\n",
      "445/445 [==============================] - 1s 3ms/step - loss: 0.1649 - accuracy: 0.9512\n",
      "WARNING:tensorflow:Can save best model only with val_loss available, skipping.\n",
      "Epoch 19/50\n",
      "445/445 [==============================] - 2s 4ms/step - loss: 0.1160 - accuracy: 0.9662\n",
      "WARNING:tensorflow:Can save best model only with val_loss available, skipping.\n",
      "Epoch 20/50\n",
      "445/445 [==============================] - 1s 3ms/step - loss: 0.1503 - accuracy: 0.9568\n",
      "WARNING:tensorflow:Can save best model only with val_loss available, skipping.\n",
      "Epoch 21/50\n",
      "445/445 [==============================] - 1s 3ms/step - loss: 0.0945 - accuracy: 0.9718\n",
      "WARNING:tensorflow:Can save best model only with val_loss available, skipping.\n",
      "Epoch 22/50\n",
      "445/445 [==============================] - 2s 4ms/step - loss: 0.1287 - accuracy: 0.9609\n",
      "WARNING:tensorflow:Can save best model only with val_loss available, skipping.\n",
      "Epoch 23/50\n",
      "445/445 [==============================] - 2s 4ms/step - loss: 0.2078 - accuracy: 0.9396\n",
      "WARNING:tensorflow:Can save best model only with val_loss available, skipping.\n",
      "Epoch 24/50\n",
      "445/445 [==============================] - 2s 3ms/step - loss: 0.0899 - accuracy: 0.9766\n",
      "WARNING:tensorflow:Can save best model only with val_loss available, skipping.\n",
      "Epoch 25/50\n",
      "445/445 [==============================] - 2s 4ms/step - loss: 0.1497 - accuracy: 0.9576\n",
      "WARNING:tensorflow:Can save best model only with val_loss available, skipping.\n",
      "Epoch 26/50\n",
      "445/445 [==============================] - 2s 4ms/step - loss: 0.1484 - accuracy: 0.9576\n",
      "WARNING:tensorflow:Can save best model only with val_loss available, skipping.\n",
      "Epoch 27/50\n",
      "445/445 [==============================] - 2s 3ms/step - loss: 0.0794 - accuracy: 0.9776\n",
      "WARNING:tensorflow:Can save best model only with val_loss available, skipping.\n",
      "Epoch 28/50\n",
      "445/445 [==============================] - 2s 4ms/step - loss: 0.1600 - accuracy: 0.9556\n",
      "WARNING:tensorflow:Can save best model only with val_loss available, skipping.\n",
      "Epoch 29/50\n",
      "445/445 [==============================] - 2s 3ms/step - loss: 0.1925 - accuracy: 0.9442\n",
      "WARNING:tensorflow:Can save best model only with val_loss available, skipping.\n",
      "Epoch 30/50\n",
      "445/445 [==============================] - 1s 3ms/step - loss: 0.0715 - accuracy: 0.9818\n",
      "WARNING:tensorflow:Can save best model only with val_loss available, skipping.\n",
      "Epoch 31/50\n",
      "445/445 [==============================] - 1s 3ms/step - loss: 0.1042 - accuracy: 0.9732\n",
      "WARNING:tensorflow:Can save best model only with val_loss available, skipping.\n",
      "Epoch 32/50\n",
      "445/445 [==============================] - 1s 3ms/step - loss: 0.1299 - accuracy: 0.9646\n",
      "WARNING:tensorflow:Can save best model only with val_loss available, skipping.\n",
      "Epoch 33/50\n",
      "445/445 [==============================] - 1s 3ms/step - loss: 0.1424 - accuracy: 0.9611\n",
      "WARNING:tensorflow:Can save best model only with val_loss available, skipping.\n",
      "Epoch 34/50\n",
      "445/445 [==============================] - 1s 3ms/step - loss: 0.0994 - accuracy: 0.9717\n",
      "WARNING:tensorflow:Can save best model only with val_loss available, skipping.\n"
     ]
    }
   ],
   "source": [
    "# model_two_angles, history = train_model( (X_train.shape[1], 0), y_train.shape[1])\n",
    "model_two_angles, history = train_model( (X_train.shape[1], X_train.shape[2]), y_train.shape[1])"
   ]
  },
  {
   "cell_type": "code",
   "execution_count": null,
   "metadata": {},
   "outputs": [],
   "source": [
    "model_two_angles.save('./model_saves/two_angles')"
   ]
  },
  {
   "cell_type": "code",
   "execution_count": 33,
   "metadata": {},
   "outputs": [
    {
     "data": {
      "image/png": "[encoded data removed]",
      "text/plain": [
       "<Figure size 1584x432 with 4 Axes>"
      ]
     },
     "metadata": {
      "needs_background": "light"
     },
     "output_type": "display_data"
    },
    {
     "name": "stdout",
     "output_type": "stream",
     "text": [
      "\n",
      "Accuracy: 95.13% \n",
      "\n",
      "              precision    recall  f1-score   support\n",
      "\n",
      "           A       0.96      0.70      0.81       140\n",
      "           B       0.95      1.00      0.97       148\n",
      "           C       0.94      0.99      0.97       148\n",
      "           D       1.00      1.00      1.00       147\n",
      "           E       0.99      1.00      1.00       158\n",
      "           F       0.99      0.92      0.95       156\n",
      "           G       0.98      0.98      0.98       131\n",
      "           H       0.99      0.96      0.97       134\n",
      "           I       0.71      0.98      0.82       157\n",
      "           J       0.89      0.99      0.94       134\n",
      "           K       0.99      0.99      0.99       163\n",
      "           L       1.00      0.99      1.00       156\n",
      "           M       0.77      1.00      0.87       142\n",
      "           N       0.99      0.99      0.99       158\n",
      "           O       0.99      0.98      0.98       171\n",
      "           P       1.00      0.99      1.00       163\n",
      "           Q       1.00      1.00      1.00       160\n",
      "           R       1.00      0.98      0.99       134\n",
      "           S       0.99      0.95      0.97       146\n",
      "           U       0.99      0.94      0.96       141\n",
      "           V       0.94      0.99      0.96       134\n",
      "           W       0.99      1.00      1.00       164\n",
      "           X       0.99      0.99      0.99       126\n",
      "           Y       0.97      0.46      0.63       142\n",
      "\n",
      "    accuracy                           0.95      3553\n",
      "   macro avg       0.96      0.95      0.95      3553\n",
      "weighted avg       0.96      0.95      0.95      3553\n",
      "\n"
     ]
    }
   ],
   "source": [
    "two_angles_results = evaluate_model(history, X_test, y_test, model_two_angles, \"Two Angles\", actions)"
   ]
  },
  {
   "cell_type": "code",
   "execution_count": 38,
   "metadata": {},
   "outputs": [],
   "source": [
    "list_of_metrics['two_angles'] = two_angles_results"
   ]
  },
  {
   "cell_type": "code",
   "execution_count": 39,
   "metadata": {},
   "outputs": [],
   "source": [
    "with open('data/results_new.pkl','wb') as f:\n",
    "    pickle.dump(list_of_metrics, f)"
   ]
  },
  {
   "cell_type": "markdown",
   "metadata": {},
   "source": [
    "### **iii) Distance + Angles**"
   ]
  },
  {
   "cell_type": "code",
   "execution_count": 41,
   "metadata": {},
   "outputs": [],
   "source": [
    "missing = []\n",
    "data = []\n",
    "labels = []\n",
    "mpHands = mp.solutions.hands\n",
    "\n",
    "with open('data/dimensions.pkl', 'rb') as f:\n",
    "    x, y, c = pickle.load(f)\n",
    "\n",
    "for action in actions:\n",
    "    # Loop through sequences aka videos\n",
    "    for sequence in range(0, 0 + no_sequences): \n",
    "        # Loop through video length aka sequence length\n",
    "        for frame_num in range(sequence_length):\n",
    "            \n",
    "            pkl_path = os.path.join(LANDMARK_PATH, action, str(sequence), str(frame_num))\n",
    "            try:\n",
    "                with open(pkl_path, 'rb') as f:\n",
    "                    result = pickle.load(f)\n",
    "\n",
    "                # print(pkl_path)\n",
    "                landmarks = []\n",
    "                for handslms in result:\n",
    "                    angle_1 = getAngle((handslms.landmark[mpHands.HandLandmark.THUMB_TIP].x, handslms.landmark[mpHands.HandLandmark.THUMB_TIP].y),\n",
    "                                            (handslms.landmark[mpHands.HandLandmark.WRIST].x, handslms.landmark[mpHands.HandLandmark.WRIST].y),\n",
    "                                            (handslms.landmark[mpHands.HandLandmark.PINKY_TIP].x, handslms.landmark[mpHands.HandLandmark.PINKY_TIP].y))\n",
    "\n",
    "                    angle_2 = getAngle((handslms.landmark[mpHands.HandLandmark.INDEX_FINGER_TIP].x, handslms.landmark[mpHands.HandLandmark.INDEX_FINGER_TIP].y),\n",
    "                                        (handslms.landmark[mpHands.HandLandmark.INDEX_FINGER_MCP].x, handslms.landmark[mpHands.HandLandmark.INDEX_FINGER_MCP].y),\n",
    "                                        (handslms.landmark[mpHands.HandLandmark.MIDDLE_FINGER_TIP].x, handslms.landmark[mpHands.HandLandmark.MIDDLE_FINGER_TIP].y))\n",
    "                    \n",
    "                    \n",
    "                    distance_1 = get_distance( (handslms.landmark[mpHands.HandLandmark.THUMB_TIP].x, handslms.landmark[mpHands.HandLandmark.THUMB_TIP].y),\n",
    "                                                (handslms.landmark[mpHands.HandLandmark.INDEX_FINGER_TIP].x, handslms.landmark[mpHands.HandLandmark.INDEX_FINGER_TIP].y) )\n",
    "                    \n",
    "                    distance_2 = get_distance( (handslms.landmark[mpHands.HandLandmark.THUMB_TIP].x, handslms.landmark[mpHands.HandLandmark.THUMB_TIP].y),\n",
    "                                                (handslms.landmark[mpHands.HandLandmark.PINKY_TIP].x, handslms.landmark[mpHands.HandLandmark.PINKY_TIP].y) )\n",
    "\n",
    "                    for lm in handslms.landmark:\n",
    "                        lmx = int(lm.x * x)\n",
    "                        lmy = int(lm.y * y)\n",
    "                        \n",
    "                        landmarks.append([lmx, lmy])\n",
    "                        # landmarks.append(lmx)\n",
    "                        # landmarks.append(lmy)\n",
    "                    landmarks.append([angle_1, angle_2])\n",
    "                    landmarks.append([distance_1, distance_2])\n",
    "                    # landmarks.append(angle_1)\n",
    "                    # landmarks.append(angle_2)\n",
    "                    # landmarks.append(distance_1)\n",
    "                    # landmarks.append(distance_2)\n",
    "\n",
    "                data.append(landmarks)\n",
    "                labels.append(label_map[action])\n",
    "                \n",
    "            except:\n",
    "                missing.append(pkl_path)\n",
    "\n",
    "            \n",
    "data = np.array(data)\n",
    "labels = np.array(labels)"
   ]
  },
  {
   "cell_type": "code",
   "execution_count": 42,
   "metadata": {},
   "outputs": [
    {
     "name": "stdout",
     "output_type": "stream",
     "text": [
      "(17764, 23, 2) (17764,)\n"
     ]
    }
   ],
   "source": [
    "print(data.shape, labels.shape)"
   ]
  },
  {
   "cell_type": "code",
   "execution_count": 44,
   "metadata": {},
   "outputs": [
    {
     "name": "stdout",
     "output_type": "stream",
     "text": [
      "Data Shape:  (17764, 23, 2) ||  Label Shape:  (17764,)\n",
      "\n",
      "Original Label Distribution:\n",
      " {0: 747, 1: 748, 2: 746, 3: 748, 4: 749, 5: 749, 6: 605, 7: 718, 8: 748, 9: 746, 10: 749, 11: 749, 12: 750, 13: 749, 14: 749, 15: 748, 16: 731, 17: 748, 18: 750, 19: 745, 20: 746, 21: 748, 22: 749, 23: 749}\n",
      "\n",
      "Training:\n",
      " (14211, 23, 2) (14211, 24) \n",
      "\n",
      "Test:\n",
      " (3553, 23, 2) (3553, 24) \n",
      "\n"
     ]
    }
   ],
   "source": [
    "X_train, X_test, y_train, y_test = preprocess(data, labels)"
   ]
  },
  {
   "cell_type": "code",
   "execution_count": 45,
   "metadata": {},
   "outputs": [
    {
     "name": "stdout",
     "output_type": "stream",
     "text": [
      "Epoch 1/50\n",
      "445/445 [==============================] - 2s 3ms/step - loss: 2.1948 - accuracy: 0.4665\n",
      "WARNING:tensorflow:Can save best model only with val_loss available, skipping.\n",
      "Epoch 2/50\n",
      "445/445 [==============================] - 1s 3ms/step - loss: 0.3891 - accuracy: 0.8703\n",
      "WARNING:tensorflow:Can save best model only with val_loss available, skipping.\n",
      "Epoch 3/50\n",
      "445/445 [==============================] - 1s 3ms/step - loss: 0.2098 - accuracy: 0.9366\n",
      "WARNING:tensorflow:Can save best model only with val_loss available, skipping.\n",
      "Epoch 4/50\n",
      "445/445 [==============================] - 1s 3ms/step - loss: 0.2072 - accuracy: 0.9374\n",
      "WARNING:tensorflow:Can save best model only with val_loss available, skipping.\n",
      "Epoch 5/50\n",
      "445/445 [==============================] - 1s 3ms/step - loss: 0.1930 - accuracy: 0.9395\n",
      "WARNING:tensorflow:Can save best model only with val_loss available, skipping.\n",
      "Epoch 6/50\n",
      "445/445 [==============================] - 1s 3ms/step - loss: 0.2310 - accuracy: 0.9285\n",
      "WARNING:tensorflow:Can save best model only with val_loss available, skipping.\n",
      "Epoch 7/50\n",
      "445/445 [==============================] - 1s 3ms/step - loss: 0.1484 - accuracy: 0.9570\n",
      "WARNING:tensorflow:Can save best model only with val_loss available, skipping.\n",
      "Epoch 8/50\n",
      "445/445 [==============================] - 1s 3ms/step - loss: 0.1271 - accuracy: 0.9628\n",
      "WARNING:tensorflow:Can save best model only with val_loss available, skipping.\n",
      "Epoch 9/50\n",
      "445/445 [==============================] - 1s 3ms/step - loss: 0.1685 - accuracy: 0.9515\n",
      "WARNING:tensorflow:Can save best model only with val_loss available, skipping.\n",
      "Epoch 10/50\n",
      "445/445 [==============================] - 1s 3ms/step - loss: 0.1633 - accuracy: 0.9535\n",
      "WARNING:tensorflow:Can save best model only with val_loss available, skipping.\n",
      "Epoch 11/50\n",
      "445/445 [==============================] - 1s 3ms/step - loss: 0.1976 - accuracy: 0.9426\n",
      "WARNING:tensorflow:Can save best model only with val_loss available, skipping.\n",
      "Epoch 12/50\n",
      "445/445 [==============================] - 1s 3ms/step - loss: 0.1165 - accuracy: 0.9666\n",
      "WARNING:tensorflow:Can save best model only with val_loss available, skipping.\n",
      "Epoch 13/50\n",
      "445/445 [==============================] - 1s 3ms/step - loss: 0.1701 - accuracy: 0.9515\n",
      "WARNING:tensorflow:Can save best model only with val_loss available, skipping.\n",
      "Epoch 14/50\n",
      "445/445 [==============================] - 1s 3ms/step - loss: 0.1293 - accuracy: 0.9642\n",
      "WARNING:tensorflow:Can save best model only with val_loss available, skipping.\n",
      "Epoch 15/50\n",
      "445/445 [==============================] - 1s 3ms/step - loss: 0.1110 - accuracy: 0.9686\n",
      "WARNING:tensorflow:Can save best model only with val_loss available, skipping.\n",
      "Epoch 16/50\n",
      "445/445 [==============================] - 1s 3ms/step - loss: 0.1645 - accuracy: 0.9521\n",
      "WARNING:tensorflow:Can save best model only with val_loss available, skipping.\n",
      "Epoch 17/50\n",
      "445/445 [==============================] - 1s 3ms/step - loss: 0.1315 - accuracy: 0.9620\n",
      "WARNING:tensorflow:Can save best model only with val_loss available, skipping.\n",
      "Epoch 18/50\n",
      "445/445 [==============================] - 1s 3ms/step - loss: 0.1723 - accuracy: 0.9515\n",
      "WARNING:tensorflow:Can save best model only with val_loss available, skipping.\n",
      "Epoch 19/50\n",
      "445/445 [==============================] - 1s 3ms/step - loss: 0.1121 - accuracy: 0.9680\n",
      "WARNING:tensorflow:Can save best model only with val_loss available, skipping.\n"
     ]
    }
   ],
   "source": [
    "model_angle_and_distance, history = train_model( (X_train.shape[1], X_train.shape[2]), y_train.shape[1])\n",
    "# model_angle_and_distance, history = train_model( (X_train.shape[1], 0), y_train.shape[1])"
   ]
  },
  {
   "cell_type": "code",
   "execution_count": 46,
   "metadata": {},
   "outputs": [
    {
     "data": {
      "image/png": "[encoded data removed]",
      "text/plain": [
       "<Figure size 1584x432 with 4 Axes>"
      ]
     },
     "metadata": {
      "needs_background": "light"
     },
     "output_type": "display_data"
    },
    {
     "name": "stdout",
     "output_type": "stream",
     "text": [
      "\n",
      "Accuracy: 98.17% \n",
      "\n",
      "              precision    recall  f1-score   support\n",
      "\n",
      "           A       0.95      1.00      0.98       140\n",
      "           B       0.99      1.00      1.00       148\n",
      "           C       1.00      0.97      0.98       148\n",
      "           D       1.00      1.00      1.00       147\n",
      "           E       0.99      1.00      1.00       158\n",
      "           F       0.99      1.00      1.00       156\n",
      "           G       0.94      0.98      0.96       131\n",
      "           H       0.99      0.90      0.95       134\n",
      "           I       0.97      1.00      0.98       157\n",
      "           J       0.96      0.97      0.97       134\n",
      "           K       0.99      0.99      0.99       163\n",
      "           L       1.00      0.99      1.00       156\n",
      "           M       0.97      1.00      0.99       142\n",
      "           N       0.99      0.99      0.99       158\n",
      "           O       0.97      0.99      0.98       171\n",
      "           P       1.00      0.99      1.00       163\n",
      "           Q       1.00      1.00      1.00       160\n",
      "           R       0.90      0.99      0.95       134\n",
      "           S       0.96      0.88      0.92       146\n",
      "           U       0.98      1.00      0.99       141\n",
      "           V       1.00      0.98      0.99       134\n",
      "           W       0.99      1.00      1.00       164\n",
      "           X       1.00      0.94      0.97       126\n",
      "           Y       1.00      0.96      0.98       142\n",
      "\n",
      "    accuracy                           0.98      3553\n",
      "   macro avg       0.98      0.98      0.98      3553\n",
      "weighted avg       0.98      0.98      0.98      3553\n",
      "\n"
     ]
    }
   ],
   "source": [
    "angle_and_distance_results = evaluate_model(history, X_test, y_test, model_angle_and_distance, \"Distance + Angles\", actions)"
   ]
  },
  {
   "cell_type": "code",
   "execution_count": 47,
   "metadata": {},
   "outputs": [],
   "source": [
    "# with open('data/results.pkl', 'rb') as f:\n",
    "#     list_of_metrics = pickle.load(f)\n",
    "\n",
    "list_of_metrics['angle+distance'] = angle_and_distance_results\n",
    "\n",
    "with open('data/results_new.pkl', 'wb') as f:\n",
    "     pickle.dump(list_of_metrics, f)"
   ]
  },
  {
   "cell_type": "code",
   "execution_count": 56,
   "metadata": {},
   "outputs": [
    {
     "data": {
      "text/plain": [
       "{'metrics': {'A': {'precision': 0.9523809523809523,\n",
       "   'recall': 1.0,\n",
       "   'f1-score': 0.975609756097561,\n",
       "   'support': 140},\n",
       "  'B': {'precision': 0.9932885906040269,\n",
       "   'recall': 1.0,\n",
       "   'f1-score': 0.9966329966329966,\n",
       "   'support': 148},\n",
       "  'C': {'precision': 1.0,\n",
       "   'recall': 0.9662162162162162,\n",
       "   'f1-score': 0.9828178694158076,\n",
       "   'support': 148},\n",
       "  'D': {'precision': 1.0, 'recall': 1.0, 'f1-score': 1.0, 'support': 147},\n",
       "  'E': {'precision': 0.9937106918238994,\n",
       "   'recall': 1.0,\n",
       "   'f1-score': 0.9968454258675079,\n",
       "   'support': 158},\n",
       "  'F': {'precision': 0.9936305732484076,\n",
       "   'recall': 1.0,\n",
       "   'f1-score': 0.9968051118210862,\n",
       "   'support': 156},\n",
       "  'G': {'precision': 0.9416058394160584,\n",
       "   'recall': 0.9847328244274809,\n",
       "   'f1-score': 0.9626865671641791,\n",
       "   'support': 131},\n",
       "  'H': {'precision': 0.9918032786885246,\n",
       "   'recall': 0.9029850746268657,\n",
       "   'f1-score': 0.9453125,\n",
       "   'support': 134},\n",
       "  'I': {'precision': 0.9691358024691358,\n",
       "   'recall': 1.0,\n",
       "   'f1-score': 0.9843260188087775,\n",
       "   'support': 157},\n",
       "  'J': {'precision': 0.9629629629629629,\n",
       "   'recall': 0.9701492537313433,\n",
       "   'f1-score': 0.966542750929368,\n",
       "   'support': 134},\n",
       "  'K': {'precision': 0.9938271604938271,\n",
       "   'recall': 0.9877300613496932,\n",
       "   'f1-score': 0.9907692307692307,\n",
       "   'support': 163},\n",
       "  'L': {'precision': 1.0,\n",
       "   'recall': 0.9935897435897436,\n",
       "   'f1-score': 0.9967845659163987,\n",
       "   'support': 156},\n",
       "  'M': {'precision': 0.9726027397260274,\n",
       "   'recall': 1.0,\n",
       "   'f1-score': 0.9861111111111112,\n",
       "   'support': 142},\n",
       "  'N': {'precision': 0.9936708860759493,\n",
       "   'recall': 0.9936708860759493,\n",
       "   'f1-score': 0.9936708860759493,\n",
       "   'support': 158},\n",
       "  'O': {'precision': 0.9657142857142857,\n",
       "   'recall': 0.9883040935672515,\n",
       "   'f1-score': 0.9768786127167629,\n",
       "   'support': 171},\n",
       "  'P': {'precision': 1.0,\n",
       "   'recall': 0.9938650306748467,\n",
       "   'f1-score': 0.9969230769230769,\n",
       "   'support': 163},\n",
       "  'Q': {'precision': 1.0, 'recall': 1.0, 'f1-score': 1.0, 'support': 160},\n",
       "  'R': {'precision': 0.9047619047619048,\n",
       "   'recall': 0.9925373134328358,\n",
       "   'f1-score': 0.9466192170818505,\n",
       "   'support': 134},\n",
       "  'S': {'precision': 0.9555555555555556,\n",
       "   'recall': 0.8835616438356164,\n",
       "   'f1-score': 0.9181494661921709,\n",
       "   'support': 146},\n",
       "  'U': {'precision': 0.9791666666666666,\n",
       "   'recall': 1.0,\n",
       "   'f1-score': 0.9894736842105264,\n",
       "   'support': 141},\n",
       "  'V': {'precision': 1.0,\n",
       "   'recall': 0.9776119402985075,\n",
       "   'f1-score': 0.9886792452830189,\n",
       "   'support': 134},\n",
       "  'W': {'precision': 0.9939393939393939,\n",
       "   'recall': 1.0,\n",
       "   'f1-score': 0.9969604863221885,\n",
       "   'support': 164},\n",
       "  'X': {'precision': 1.0,\n",
       "   'recall': 0.9365079365079365,\n",
       "   'f1-score': 0.9672131147540983,\n",
       "   'support': 126},\n",
       "  'Y': {'precision': 1.0,\n",
       "   'recall': 0.9647887323943662,\n",
       "   'f1-score': 0.982078853046595,\n",
       "   'support': 142},\n",
       "  'accuracy': 0.9817056009006473,\n",
       "  'macro avg': {'precision': 0.9815732201886491,\n",
       "   'recall': 0.980677114613694,\n",
       "   'f1-score': 0.9807454394641776,\n",
       "   'support': 3553},\n",
       "  'weighted avg': {'precision': 0.9822275237332153,\n",
       "   'recall': 0.9817056009006473,\n",
       "   'f1-score': 0.9816139688906029,\n",
       "   'support': 3553}}}"
      ]
     },
     "execution_count": 56,
     "metadata": {},
     "output_type": "execute_result"
    }
   ],
   "source": [
    "list_of_metrics['angle+distance']"
   ]
  },
  {
   "cell_type": "markdown",
   "metadata": {},
   "source": [
    "## **B. Random Forest**"
   ]
  },
  {
   "cell_type": "code",
   "execution_count": 48,
   "metadata": {},
   "outputs": [],
   "source": [
    "missing = []\n",
    "data = []\n",
    "labels = []\n",
    "mpHands = mp.solutions.hands\n",
    "\n",
    "with open('data/dimensions.pkl', 'rb') as f:\n",
    "    x, y, c = pickle.load(f)\n",
    "\n",
    "for action in actions:\n",
    "    # Loop through sequences aka videos\n",
    "    for sequence in range(0, 0 + no_sequences): \n",
    "        # Loop through video length aka sequence length\n",
    "        for frame_num in range(sequence_length):\n",
    "            \n",
    "            pkl_path = os.path.join(LANDMARK_PATH, action, str(sequence), str(frame_num))\n",
    "            try:\n",
    "                with open(pkl_path, 'rb') as f:\n",
    "                    result = pickle.load(f)\n",
    "\n",
    "                # print(pkl_path)\n",
    "                landmarks = []\n",
    "                for handslms in result:\n",
    "                    # angle_1 = getAngle((handslms.landmark[mpHands.HandLandmark.THUMB_TIP].x, handslms.landmark[mpHands.HandLandmark.THUMB_TIP].y),\n",
    "                    #                         (handslms.landmark[mpHands.HandLandmark.WRIST].x, handslms.landmark[mpHands.HandLandmark.WRIST].y),\n",
    "                    #                         (handslms.landmark[mpHands.HandLandmark.PINKY_TIP].x, handslms.landmark[mpHands.HandLandmark.PINKY_TIP].y))\n",
    "\n",
    "                    # angle_2 = getAngle((handslms.landmark[mpHands.HandLandmark.INDEX_FINGER_TIP].x, handslms.landmark[mpHands.HandLandmark.INDEX_FINGER_TIP].y),\n",
    "                    #                     (handslms.landmark[mpHands.HandLandmark.INDEX_FINGER_MCP].x, handslms.landmark[mpHands.HandLandmark.INDEX_FINGER_MCP].y),\n",
    "                    #                     (handslms.landmark[mpHands.HandLandmark.MIDDLE_FINGER_TIP].x, handslms.landmark[mpHands.HandLandmark.MIDDLE_FINGER_TIP].y))\n",
    "                    \n",
    "                    \n",
    "                    # distance_1 = get_distance( (handslms.landmark[mpHands.HandLandmark.THUMB_TIP].x, handslms.landmark[mpHands.HandLandmark.THUMB_TIP].y),\n",
    "                    #                             (handslms.landmark[mpHands.HandLandmark.INDEX_FINGER_TIP].x, handslms.landmark[mpHands.HandLandmark.INDEX_FINGER_TIP].y) )\n",
    "                    \n",
    "                    # distance_2 = get_distance( (handslms.landmark[mpHands.HandLandmark.THUMB_TIP].x, handslms.landmark[mpHands.HandLandmark.THUMB_TIP].y),\n",
    "                    #                             (handslms.landmark[mpHands.HandLandmark.PINKY_TIP].x, handslms.landmark[mpHands.HandLandmark.PINKY_TIP].y) )\n",
    "\n",
    "                    for lm in handslms.landmark:\n",
    "                        lmx = int(lm.x * x)\n",
    "                        lmy = int(lm.y * y)\n",
    "                        \n",
    "                        landmarks.append(lmx) \n",
    "                        landmarks.append(lmy)\n",
    "                    # landmarks.append([angle_1, angle_2])\n",
    "                    # landmarks.append([distance_1, distance_2])\n",
    "                    # print(np.array(landmarks).shape)\n",
    "\n",
    "                data.append(landmarks)\n",
    "                labels.append(label_map[action])\n",
    "                \n",
    "            except:\n",
    "                missing.append(pkl_path)\n",
    "\n",
    "            \n",
    "data = np.array(data)\n",
    "labels = np.array(labels)"
   ]
  },
  {
   "cell_type": "code",
   "execution_count": 49,
   "metadata": {},
   "outputs": [
    {
     "name": "stdout",
     "output_type": "stream",
     "text": [
      "(17764, 42) (17764,)\n"
     ]
    }
   ],
   "source": [
    "print(data.shape, labels.shape)"
   ]
  },
  {
   "cell_type": "code",
   "execution_count": 51,
   "metadata": {},
   "outputs": [
    {
     "name": "stdout",
     "output_type": "stream",
     "text": [
      "Data Shape:  (17764, 42) ||  Label Shape:  (17764,)\n",
      "\n",
      "Original Label Distribution:\n",
      " {0: 747, 1: 748, 2: 746, 3: 748, 4: 749, 5: 749, 6: 605, 7: 718, 8: 748, 9: 746, 10: 749, 11: 749, 12: 750, 13: 749, 14: 749, 15: 748, 16: 731, 17: 748, 18: 750, 19: 745, 20: 746, 21: 748, 22: 749, 23: 749}\n",
      "\n",
      "Training:\n",
      " (14211, 42) (14211, 24) \n",
      "\n",
      "Test:\n",
      " (3553, 42) (3553, 24) \n",
      "\n"
     ]
    }
   ],
   "source": [
    "X_train, X_test, y_train, y_test = preprocess(data, labels)"
   ]
  },
  {
   "cell_type": "code",
   "execution_count": 52,
   "metadata": {},
   "outputs": [
    {
     "data": {
      "text/plain": [
       "RandomForestClassifier(random_state=42)"
      ]
     },
     "execution_count": 52,
     "metadata": {},
     "output_type": "execute_result"
    }
   ],
   "source": [
    "from sklearn.ensemble import RandomForestClassifier\n",
    "\n",
    "clf = RandomForestClassifier(random_state=42)\n",
    "clf.fit(X_train, y_train) "
   ]
  },
  {
   "cell_type": "code",
   "execution_count": 53,
   "metadata": {},
   "outputs": [],
   "source": [
    "y_pred = clf.predict(X_test)"
   ]
  },
  {
   "cell_type": "code",
   "execution_count": 55,
   "metadata": {},
   "outputs": [
    {
     "name": "stdout",
     "output_type": "stream",
     "text": [
      "Accuracy:  0.993 %\n"
     ]
    },
    {
     "data": {
      "image/png": "[encoded data removed]",
      "text/plain": [
       "<Figure size 1080x576 with 2 Axes>"
      ]
     },
     "metadata": {
      "needs_background": "light"
     },
     "output_type": "display_data"
    },
    {
     "name": "stdout",
     "output_type": "stream",
     "text": [
      "              precision    recall  f1-score   support\n",
      "\n",
      "           0       0.91      1.00      0.95       140\n",
      "           1       0.99      1.00      1.00       148\n",
      "           2       0.99      0.98      0.99       148\n",
      "           3       1.00      1.00      1.00       147\n",
      "           4       1.00      0.99      1.00       158\n",
      "           5       0.99      1.00      1.00       156\n",
      "           6       1.00      0.98      0.99       131\n",
      "           7       1.00      0.99      0.99       134\n",
      "           8       0.99      0.99      0.99       157\n",
      "           9       1.00      0.96      0.98       134\n",
      "          10       1.00      0.99      0.99       163\n",
      "          11       1.00      0.99      1.00       156\n",
      "          12       0.99      1.00      1.00       142\n",
      "          13       0.99      0.99      0.99       158\n",
      "          14       0.99      0.99      0.99       171\n",
      "          15       1.00      0.99      1.00       163\n",
      "          16       1.00      1.00      1.00       160\n",
      "          17       1.00      0.99      1.00       134\n",
      "          18       0.99      1.00      1.00       146\n",
      "          19       1.00      1.00      1.00       141\n",
      "          20       1.00      0.99      1.00       134\n",
      "          21       0.99      1.00      1.00       164\n",
      "          22       0.99      0.99      0.99       126\n",
      "          23       1.00      0.99      1.00       142\n",
      "\n",
      "    accuracy                           0.99      3553\n",
      "   macro avg       0.99      0.99      0.99      3553\n",
      "weighted avg       0.99      0.99      0.99      3553\n",
      "\n"
     ]
    }
   ],
   "source": [
    "from sklearn.metrics import accuracy_score, confusion_matrix, classification_report\n",
    "import seaborn as sns\n",
    "import matplotlib.pyplot as plt\n",
    "\n",
    "print(\"Accuracy: \", round(accuracy_score(y_test, y_pred),3), \"%\")\n",
    "\n",
    "plt.figure(figsize=(15,8))\n",
    "cnf_matrix = confusion_matrix(y_test.argmax(axis=1), y_pred.argmax(axis=1))\n",
    "ax= sns.heatmap(cnf_matrix, annot=True,  fmt='g',\n",
    "                  xticklabels=actions, yticklabels=actions)\n",
    "plt.show()\n",
    "\n",
    "print(classification_report(y_test.argmax(axis=1), y_pred.argmax(axis=1)))"
   ]
  },
  {
   "cell_type": "code",
   "execution_count": 58,
   "metadata": {},
   "outputs": [],
   "source": [
    "list_of_metrics['Random_forest'] = {\"metrics\": classification_report(y_test.argmax(axis=1), y_pred.argmax(axis=1), target_names=actions, output_dict=True)}\n",
    "\n",
    "with open('data/results_new.pkl', 'wb') as f:\n",
    "     pickle.dump(list_of_metrics, f)"
   ]
  },
  {
   "cell_type": "markdown",
   "metadata": {},
   "source": [
    "## **C. XGBoost**"
   ]
  },
  {
   "cell_type": "code",
   "execution_count": null,
   "metadata": {},
   "outputs": [],
   "source": [
    "missing = []\n",
    "data = []\n",
    "labels = []\n",
    "mpHands = mp.solutions.hands\n",
    "\n",
    "with open('data/dimensions.pkl', 'rb') as f:\n",
    "    x, y, c = pickle.load(f)\n",
    "\n",
    "for action in actions:\n",
    "    # Loop through sequences aka videos\n",
    "    for sequence in range(0, 0 + no_sequences): \n",
    "        # Loop through video length aka sequence length\n",
    "        for frame_num in range(sequence_length):\n",
    "            \n",
    "            pkl_path = os.path.join(LANDMARK_PATH, action, str(sequence), str(frame_num))\n",
    "            try:\n",
    "                with open(pkl_path, 'rb') as f:\n",
    "                    result = pickle.load(f)\n",
    "\n",
    "                # print(pkl_path)\n",
    "                landmarks = []\n",
    "                for handslms in result:\n",
    "                    # angle_1 = getAngle((handslms.landmark[mpHands.HandLandmark.THUMB_TIP].x, handslms.landmark[mpHands.HandLandmark.THUMB_TIP].y),\n",
    "                    #                         (handslms.landmark[mpHands.HandLandmark.WRIST].x, handslms.landmark[mpHands.HandLandmark.WRIST].y),\n",
    "                    #                         (handslms.landmark[mpHands.HandLandmark.PINKY_TIP].x, handslms.landmark[mpHands.HandLandmark.PINKY_TIP].y))\n",
    "\n",
    "                    # angle_2 = getAngle((handslms.landmark[mpHands.HandLandmark.INDEX_FINGER_TIP].x, handslms.landmark[mpHands.HandLandmark.INDEX_FINGER_TIP].y),\n",
    "                    #                     (handslms.landmark[mpHands.HandLandmark.INDEX_FINGER_MCP].x, handslms.landmark[mpHands.HandLandmark.INDEX_FINGER_MCP].y),\n",
    "                    #                     (handslms.landmark[mpHands.HandLandmark.MIDDLE_FINGER_TIP].x, handslms.landmark[mpHands.HandLandmark.MIDDLE_FINGER_TIP].y))\n",
    "                    \n",
    "                    \n",
    "                    # distance_1 = get_distance( (handslms.landmark[mpHands.HandLandmark.THUMB_TIP].x, handslms.landmark[mpHands.HandLandmark.THUMB_TIP].y),\n",
    "                    #                             (handslms.landmark[mpHands.HandLandmark.INDEX_FINGER_TIP].x, handslms.landmark[mpHands.HandLandmark.INDEX_FINGER_TIP].y) )\n",
    "                    \n",
    "                    # distance_2 = get_distance( (handslms.landmark[mpHands.HandLandmark.THUMB_TIP].x, handslms.landmark[mpHands.HandLandmark.THUMB_TIP].y),\n",
    "                    #                             (handslms.landmark[mpHands.HandLandmark.PINKY_TIP].x, handslms.landmark[mpHands.HandLandmark.PINKY_TIP].y) )\n",
    "\n",
    "                    for lm in handslms.landmark:\n",
    "                        lmx = int(lm.x * x)\n",
    "                        lmy = int(lm.y * y)\n",
    "                        \n",
    "                        landmarks.append(lmx) \n",
    "                        landmarks.append(lmy)\n",
    "                    # landmarks.append([angle_1, angle_2])\n",
    "                    # landmarks.append([distance_1, distance_2])\n",
    "                    # print(np.array(landmarks).shape)\n",
    "\n",
    "                data.append(landmarks)\n",
    "                labels.append(label_map[action])\n",
    "                \n",
    "            except:\n",
    "                missing.append(pkl_path)\n",
    "\n",
    "            \n",
    "data = np.array(data)\n",
    "labels = np.array(labels)"
   ]
  },
  {
   "cell_type": "code",
   "execution_count": null,
   "metadata": {},
   "outputs": [],
   "source": [
    "print(data.shape, labels.shape)"
   ]
  },
  {
   "cell_type": "code",
   "execution_count": null,
   "metadata": {},
   "outputs": [],
   "source": [
    "X_train, X_test, y_train, y_test = preprocess(data, labels)"
   ]
  },
  {
   "cell_type": "code",
   "execution_count": null,
   "metadata": {},
   "outputs": [],
   "source": [
    "import xgboost as xgb\n",
    "\n"
   ]
  },
  {
   "cell_type": "markdown",
   "metadata": {},
   "source": [
    "<br>\n",
    "\n",
    "---\n",
    "\n",
    "<br>\n",
    "\n",
    "## **Results**"
   ]
  },
  {
   "cell_type": "code",
   "execution_count": 59,
   "metadata": {},
   "outputs": [
    {
     "name": "stdout",
     "output_type": "stream",
     "text": [
      "['A', 'B', 'C', 'D', 'E', 'F', 'G', 'H', 'I', 'J', 'K', 'L', 'M', 'N', 'O', 'P', 'Q', 'R', 'S', 'U', 'V', 'W', 'X', 'Y']\n"
     ]
    }
   ],
   "source": [
    "print(actions)"
   ]
  },
  {
   "cell_type": "code",
   "execution_count": 61,
   "metadata": {},
   "outputs": [
    {
     "name": "stdout",
     "output_type": "stream",
     "text": [
      "only_coordinates\n",
      "two_angles\n",
      "angle+distance\n",
      "Random_forest\n"
     ]
    }
   ],
   "source": [
    "with open('data/results_new.pkl', 'rb') as f:\n",
    "    list_of_metrics = pickle.load(f)\n",
    "\n",
    "for key in list_of_metrics.keys():\n",
    "    print(key)"
   ]
  },
  {
   "cell_type": "code",
   "execution_count": 62,
   "metadata": {},
   "outputs": [
    {
     "name": "stdout",
     "output_type": "stream",
     "text": [
      "only_coordinates :\n",
      " Accuracy:  0.8615254714325922 \n",
      " F1:  0.855 \n",
      " Sub-Scores: \n",
      "\t A :  {'precision': 0.959, 'f1': 0.979, 'recall': 1.0}\n",
      "\t B :  {'precision': 0.987, 'f1': 0.993, 'recall': 1.0}\n",
      "\t C :  {'precision': 0.836, 'f1': 0.882, 'recall': 0.932}\n",
      "\t D :  {'precision': 1.0, 'f1': 0.67, 'recall': 0.503}\n",
      "\t E :  {'precision': 0.977, 'f1': 0.893, 'recall': 0.823}\n",
      "\t F :  {'precision': 0.994, 'f1': 0.997, 'recall': 1.0}\n",
      "\t G :  {'precision': 0.86, 'f1': 0.918, 'recall': 0.985}\n",
      "\t H :  {'precision': 0.942, 'f1': 0.89, 'recall': 0.843}\n",
      "\t I :  {'precision': 0.714, 'f1': 0.772, 'recall': 0.841}\n",
      "\t J :  {'precision': 0.981, 'f1': 0.867, 'recall': 0.776}\n",
      "\t K :  {'precision': 1.0, 'f1': 0.984, 'recall': 0.969}\n",
      "\t L :  {'precision': 0.803, 'f1': 0.888, 'recall': 0.994}\n",
      "\t M :  {'precision': 0.791, 'f1': 0.878, 'recall': 0.986}\n",
      "\t N :  {'precision': 0.994, 'f1': 0.994, 'recall': 0.994}\n",
      "\t O :  {'precision': 0.889, 'f1': 0.427, 'recall': 0.281}\n",
      "\t P :  {'precision': 1.0, 'f1': 0.997, 'recall': 0.994}\n",
      "\t Q :  {'precision': 1.0, 'f1': 1.0, 'recall': 1.0}\n",
      "\t R :  {'precision': 0.707, 'f1': 0.704, 'recall': 0.701}\n",
      "\t S :  {'precision': 0.451, 'f1': 0.548, 'recall': 0.699}\n",
      "\t U :  {'precision': 0.839, 'f1': 0.785, 'recall': 0.738}\n",
      "\t V :  {'precision': 0.814, 'f1': 0.888, 'recall': 0.978}\n",
      "\t W :  {'precision': 0.994, 'f1': 0.997, 'recall': 1.0}\n",
      "\t X :  {'precision': 0.753, 'f1': 0.856, 'recall': 0.992}\n",
      "\t Y :  {'precision': 0.746, 'f1': 0.713, 'recall': 0.683}\n",
      "\n",
      "\n",
      "\n",
      "two_angles :\n",
      " Accuracy:  0.9513087531663383 \n",
      " F1:  0.949 \n",
      " Sub-Scores: \n",
      "\t A :  {'precision': 0.961, 'f1': 0.81, 'recall': 0.7}\n",
      "\t B :  {'precision': 0.949, 'f1': 0.974, 'recall': 1.0}\n",
      "\t C :  {'precision': 0.942, 'f1': 0.967, 'recall': 0.993}\n",
      "\t D :  {'precision': 1.0, 'f1': 1.0, 'recall': 1.0}\n",
      "\t E :  {'precision': 0.994, 'f1': 0.997, 'recall': 1.0}\n",
      "\t F :  {'precision': 0.986, 'f1': 0.954, 'recall': 0.923}\n",
      "\t G :  {'precision': 0.977, 'f1': 0.981, 'recall': 0.985}\n",
      "\t H :  {'precision': 0.992, 'f1': 0.973, 'recall': 0.955}\n",
      "\t I :  {'precision': 0.706, 'f1': 0.821, 'recall': 0.981}\n",
      "\t J :  {'precision': 0.887, 'f1': 0.937, 'recall': 0.993}\n",
      "\t K :  {'precision': 0.988, 'f1': 0.988, 'recall': 0.988}\n",
      "\t L :  {'precision': 1.0, 'f1': 0.997, 'recall': 0.994}\n",
      "\t M :  {'precision': 0.768, 'f1': 0.869, 'recall': 1.0}\n",
      "\t N :  {'precision': 0.994, 'f1': 0.994, 'recall': 0.994}\n",
      "\t O :  {'precision': 0.988, 'f1': 0.982, 'recall': 0.977}\n",
      "\t P :  {'precision': 1.0, 'f1': 0.997, 'recall': 0.994}\n",
      "\t Q :  {'precision': 1.0, 'f1': 1.0, 'recall': 1.0}\n",
      "\t R :  {'precision': 1.0, 'f1': 0.989, 'recall': 0.978}\n",
      "\t S :  {'precision': 0.993, 'f1': 0.972, 'recall': 0.952}\n",
      "\t U :  {'precision': 0.985, 'f1': 0.96, 'recall': 0.936}\n",
      "\t V :  {'precision': 0.937, 'f1': 0.964, 'recall': 0.993}\n",
      "\t W :  {'precision': 0.994, 'f1': 0.997, 'recall': 1.0}\n",
      "\t X :  {'precision': 0.992, 'f1': 0.992, 'recall': 0.992}\n",
      "\t Y :  {'precision': 0.971, 'f1': 0.629, 'recall': 0.465}\n",
      "\n",
      "\n",
      "\n",
      "angle+distance :\n",
      " Accuracy:  0.9817056009006473 \n",
      " F1:  0.982 \n",
      " Sub-Scores: \n",
      "\t A :  {'precision': 0.952, 'f1': 0.976, 'recall': 1.0}\n",
      "\t B :  {'precision': 0.993, 'f1': 0.997, 'recall': 1.0}\n",
      "\t C :  {'precision': 1.0, 'f1': 0.983, 'recall': 0.966}\n",
      "\t D :  {'precision': 1.0, 'f1': 1.0, 'recall': 1.0}\n",
      "\t E :  {'precision': 0.994, 'f1': 0.997, 'recall': 1.0}\n",
      "\t F :  {'precision': 0.994, 'f1': 0.997, 'recall': 1.0}\n",
      "\t G :  {'precision': 0.942, 'f1': 0.963, 'recall': 0.985}\n",
      "\t H :  {'precision': 0.992, 'f1': 0.945, 'recall': 0.903}\n",
      "\t I :  {'precision': 0.969, 'f1': 0.984, 'recall': 1.0}\n",
      "\t J :  {'precision': 0.963, 'f1': 0.967, 'recall': 0.97}\n",
      "\t K :  {'precision': 0.994, 'f1': 0.991, 'recall': 0.988}\n",
      "\t L :  {'precision': 1.0, 'f1': 0.997, 'recall': 0.994}\n",
      "\t M :  {'precision': 0.973, 'f1': 0.986, 'recall': 1.0}\n",
      "\t N :  {'precision': 0.994, 'f1': 0.994, 'recall': 0.994}\n",
      "\t O :  {'precision': 0.966, 'f1': 0.977, 'recall': 0.988}\n",
      "\t P :  {'precision': 1.0, 'f1': 0.997, 'recall': 0.994}\n",
      "\t Q :  {'precision': 1.0, 'f1': 1.0, 'recall': 1.0}\n",
      "\t R :  {'precision': 0.905, 'f1': 0.947, 'recall': 0.993}\n",
      "\t S :  {'precision': 0.956, 'f1': 0.918, 'recall': 0.884}\n",
      "\t U :  {'precision': 0.979, 'f1': 0.989, 'recall': 1.0}\n",
      "\t V :  {'precision': 1.0, 'f1': 0.989, 'recall': 0.978}\n",
      "\t W :  {'precision': 0.994, 'f1': 0.997, 'recall': 1.0}\n",
      "\t X :  {'precision': 1.0, 'f1': 0.967, 'recall': 0.937}\n",
      "\t Y :  {'precision': 1.0, 'f1': 0.982, 'recall': 0.965}\n",
      "\n",
      "\n",
      "\n",
      "Random_forest :\n",
      " Accuracy:  0.9932451449479314 \n",
      " F1:  0.993 \n",
      " Sub-Scores: \n",
      "\t A :  {'precision': 0.909, 'f1': 0.952, 'recall': 1.0}\n",
      "\t B :  {'precision': 0.993, 'f1': 0.997, 'recall': 1.0}\n",
      "\t C :  {'precision': 0.993, 'f1': 0.986, 'recall': 0.98}\n",
      "\t D :  {'precision': 1.0, 'f1': 1.0, 'recall': 1.0}\n",
      "\t E :  {'precision': 1.0, 'f1': 0.997, 'recall': 0.994}\n",
      "\t F :  {'precision': 0.994, 'f1': 0.997, 'recall': 1.0}\n",
      "\t G :  {'precision': 1.0, 'f1': 0.992, 'recall': 0.985}\n",
      "\t H :  {'precision': 1.0, 'f1': 0.992, 'recall': 0.985}\n",
      "\t I :  {'precision': 0.994, 'f1': 0.994, 'recall': 0.994}\n",
      "\t J :  {'precision': 1.0, 'f1': 0.981, 'recall': 0.963}\n",
      "\t K :  {'precision': 1.0, 'f1': 0.994, 'recall': 0.988}\n",
      "\t L :  {'precision': 1.0, 'f1': 0.997, 'recall': 0.994}\n",
      "\t M :  {'precision': 0.993, 'f1': 0.996, 'recall': 1.0}\n",
      "\t N :  {'precision': 0.994, 'f1': 0.994, 'recall': 0.994}\n",
      "\t O :  {'precision': 0.994, 'f1': 0.994, 'recall': 0.994}\n",
      "\t P :  {'precision': 1.0, 'f1': 0.997, 'recall': 0.994}\n",
      "\t Q :  {'precision': 1.0, 'f1': 1.0, 'recall': 1.0}\n",
      "\t R :  {'precision': 1.0, 'f1': 0.996, 'recall': 0.993}\n",
      "\t S :  {'precision': 0.993, 'f1': 0.997, 'recall': 1.0}\n",
      "\t U :  {'precision': 1.0, 'f1': 1.0, 'recall': 1.0}\n",
      "\t V :  {'precision': 1.0, 'f1': 0.996, 'recall': 0.993}\n",
      "\t W :  {'precision': 0.994, 'f1': 0.997, 'recall': 1.0}\n",
      "\t X :  {'precision': 0.992, 'f1': 0.992, 'recall': 0.992}\n",
      "\t Y :  {'precision': 1.0, 'f1': 0.996, 'recall': 0.993}\n",
      "\n",
      "\n",
      "\n"
     ]
    }
   ],
   "source": [
    "results = {}\n",
    "\n",
    "for method in list_of_metrics.keys():\n",
    "\n",
    "    alpha_results = {}\n",
    "    metrics = list_of_metrics[method]['metrics']\n",
    "    \n",
    "    for key,value in metrics.items():\n",
    "        if key in actions:\n",
    "            alpha_results[key] = {'precision':round(value['precision'], 3), 'f1':round(value['f1-score'], 3), 'recall':round(value['recall'], 3)} \n",
    "        \n",
    "        elif key=='accuracy':\n",
    "            accuracy = value\n",
    "        elif key=='weighted avg':\n",
    "            results[method] = {\"Accuracy\": accuracy, \"F1\": round(value['f1-score'],3), \"Sub-Scores\": alpha_results}\n",
    "\n",
    "for (key, value) in results.items(): \n",
    "    print(key, \":\\n\", \"Accuracy: \", value[\"Accuracy\"], \"\\n F1: \", value[\"F1\"], \"\\n Sub-Scores: \")\n",
    "    for k,v in value[\"Sub-Scores\"].items():\n",
    "            print(\"\\t\", k, \": \", v)\n",
    "    print(\"\\n\\n\")"
   ]
  }
 ],
 "metadata": {
  "interpreter": {
   "hash": "66b1196de416e88371f79392e030414498251d8e3db37a0fcc688f5ef9ad8937"
  },
  "kernelspec": {
   "display_name": "Python 3.7.11 ('Heart')",
   "language": "python",
   "name": "python3"
  },
  "language_info": {
   "codemirror_mode": {
    "name": "ipython",
    "version": 3
   },
   "file_extension": ".py",
   "mimetype": "text/x-python",
   "name": "python",
   "nbconvert_exporter": "python",
   "pygments_lexer": "ipython3",
   "version": "3.7.0"
  },
  "orig_nbformat": 4
 },
 "nbformat": 4,
 "nbformat_minor": 2
}
