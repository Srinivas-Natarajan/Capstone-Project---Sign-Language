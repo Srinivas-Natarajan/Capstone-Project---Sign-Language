{
 "cells": [
  {
   "cell_type": "markdown",
   "metadata": {},
   "source": [
    "## **Model Testing**"
   ]
  },
  {
   "cell_type": "code",
   "execution_count": 15,
   "metadata": {},
   "outputs": [],
   "source": [
    "from tensorflow.keras.models import load_model\n",
    "# from tensorflow.keras.utils import plot_model\n",
    "from tensorflow.keras.utils import plot_model\n"
   ]
  },
  {
   "cell_type": "code",
   "execution_count": 2,
   "metadata": {},
   "outputs": [
    {
     "name": "stdout",
     "output_type": "stream",
     "text": [
      "Model: \"sequential_2\"\n",
      "_________________________________________________________________\n",
      "Layer (type)                 Output Shape              Param #   \n",
      "=================================================================\n",
      "flatten_2 (Flatten)          (None, 42)                0         \n",
      "_________________________________________________________________\n",
      "dense_11 (Dense)             (None, 64)                2752      \n",
      "_________________________________________________________________\n",
      "dense_12 (Dense)             (None, 128)               8320      \n",
      "_________________________________________________________________\n",
      "dense_13 (Dense)             (None, 512)               66048     \n",
      "_________________________________________________________________\n",
      "dense_14 (Dense)             (None, 64)                32832     \n",
      "_________________________________________________________________\n",
      "dense_15 (Dense)             (None, 32)                2080      \n",
      "_________________________________________________________________\n",
      "dense_16 (Dense)             (None, 10)                330       \n",
      "=================================================================\n",
      "Total params: 112,362\n",
      "Trainable params: 112,362\n",
      "Non-trainable params: 0\n",
      "_________________________________________________________________\n",
      "None\n"
     ]
    }
   ],
   "source": [
    "model = load_model('mp_hand_gesture')\n",
    "print(model.summary())"
   ]
  },
  {
   "cell_type": "code",
   "execution_count": 16,
   "metadata": {},
   "outputs": [
    {
     "name": "stdout",
     "output_type": "stream",
     "text": [
      "('You must install pydot (`pip install pydot`) and install graphviz (see instructions at https://graphviz.gitlab.io/download/) ', 'for plot_model/model_to_dot to work.')\n"
     ]
    }
   ],
   "source": [
    "plot_model(model, to_file='model_plot.png', show_shapes=True, show_layer_names=True)\n",
    "# plot_model(model, to_file='model_plot.png', show_shapes=True, show_layer_names=True)"
   ]
  },
  {
   "cell_type": "markdown",
   "metadata": {},
   "source": [
    "---\n",
    "\n",
    "## **Media Pipe Testing**"
   ]
  },
  {
   "cell_type": "code",
   "execution_count": 10,
   "metadata": {},
   "outputs": [],
   "source": [
    "import mediapipe as mp\n",
    "import cv2\n",
    "import numpy as np"
   ]
  },
  {
   "cell_type": "code",
   "execution_count": 2,
   "metadata": {},
   "outputs": [],
   "source": [
    "mpHands = mp.solutions.hands\n",
    "hands = mpHands.Hands(max_num_hands=1, min_detection_confidence=0.7)\n",
    "mpDraw = mp.solutions.drawing_utils"
   ]
  },
  {
   "cell_type": "code",
   "execution_count": 3,
   "metadata": {},
   "outputs": [
    {
     "name": "stdout",
     "output_type": "stream",
     "text": [
      "<mediapipe.python.solutions.hands.Hands object at 0x000001DF6FAE55F8>\n"
     ]
    }
   ],
   "source": [
    "print(hands)"
   ]
  },
  {
   "cell_type": "code",
   "execution_count": null,
   "metadata": {},
   "outputs": [],
   "source": [
    "cap = cv2.VideoCapture(0)\n",
    "\n",
    "while True:\n",
    "    # Read each frame from the webcam\n",
    "    _, frame = cap.read()\n",
    "\n",
    "    x, y, c = frame.shape\n",
    "    # print(\"Frame Shape: \", x, y, c)\n",
    "\n",
    "    # Flip the frame vertically\n",
    "    frame = cv2.flip(frame, 1)\n",
    "    framergb = cv2.cvtColor(frame, cv2.COLOR_BGR2RGB)\n",
    "\n",
    "    # Get hand landmark prediction\n",
    "    result = hands.process(framergb)  \n",
    "    className = 'Test'\n",
    "\n",
    "    # post process the result\n",
    "    if result.multi_hand_landmarks:\n",
    "        landmarks = []\n",
    "        for handslms in result.multi_hand_landmarks:\n",
    "            for lm in handslms.landmark:\n",
    "                # print(id, lm)\n",
    "                lmx = int(lm.x * x)\n",
    "                lmy = int(lm.y * y)\n",
    "\n",
    "                landmarks.append([lmx, lmy])\n",
    "\n",
    "            # Drawing landmarks on frames\n",
    "            mpDraw.draw_landmarks(frame, handslms, mpHands.HAND_CONNECTIONS)\n",
    "\n",
    "    # show the prediction on the frame\n",
    "    cv2.putText(frame, className, (10, 50), cv2.FONT_HERSHEY_SIMPLEX, \n",
    "                   1, (0,0,255), 2, cv2.LINE_AA)\n",
    "\n",
    "    # Show the final output\n",
    "    cv2.imshow(\"Output\", frame) \n",
    "\n",
    "    if cv2.waitKey(1) == ord('q'):\n",
    "        break\n",
    "\n",
    "# release the webcam and destroy all active windows\n",
    "cap.release()\n",
    "\n",
    "cv2.destroyAllWindows()"
   ]
  },
  {
   "cell_type": "code",
   "execution_count": 7,
   "metadata": {},
   "outputs": [],
   "source": [
    "cap.release()\n",
    "\n",
    "cv2.destroyAllWindows()"
   ]
  },
  {
   "cell_type": "markdown",
   "metadata": {},
   "source": [
    "---\n",
    "\n",
    "## **Testing Data Collection**"
   ]
  },
  {
   "cell_type": "code",
   "execution_count": 39,
   "metadata": {},
   "outputs": [],
   "source": [
    "import os\n",
    "import mediapipe as mp \n",
    "import numpy as np\n",
    "import cv2"
   ]
  },
  {
   "cell_type": "code",
   "execution_count": 2,
   "metadata": {},
   "outputs": [],
   "source": [
    "# mp_holistic = mp.solutions.holistic # Holistic model\n",
    "# mp_drawing = mp.solutions.drawing_utils # Drawing utilities\n",
    "\n",
    "mpHands = mp.solutions.hands\n",
    "hands = mpHands.Hands(max_num_hands=1, min_detection_confidence=0.7)\n",
    "mpDraw = mp.solutions.drawing_utils"
   ]
  },
  {
   "cell_type": "code",
   "execution_count": 40,
   "metadata": {},
   "outputs": [],
   "source": [
    "def mediapipe_detection(image, model):\n",
    "    image = cv2.cvtColor(image, cv2.COLOR_BGR2RGB) # COLOR CONVERSION BGR 2 RGB\n",
    "    image.flags.writeable = False                  # Image is no longer writeable\n",
    "    results = model.process(image)                 # Make prediction\n",
    "    image.flags.writeable = True                   # Image is now writeable \n",
    "    image = cv2.cvtColor(image, cv2.COLOR_RGB2BGR) # COLOR COVERSION RGB 2 BGR\n",
    "    return image, results"
   ]
  },
  {
   "cell_type": "code",
   "execution_count": null,
   "metadata": {},
   "outputs": [],
   "source": [
    "cap = cv2.VideoCapture(0)\n",
    "\n",
    "while True:\n",
    "    # Read each frame from the webcam\n",
    "    _, frame = cap.read()\n",
    "\n",
    "    x, y, c = frame.shape\n",
    "    # print(\"Frame Shape: \", x, y, c)\n",
    "\n",
    "    # Flip the frame vertically\n",
    "    frame = cv2.flip(frame, 1)\n",
    "    framergb = cv2.cvtColor(frame, cv2.COLOR_BGR2RGB)\n",
    "\n",
    "    # Get hand landmark prediction\n",
    "    result = hands.process(framergb)  \n",
    "    className = 'Test'\n",
    "\n",
    "    # post process the result\n",
    "    if result.multi_hand_landmarks:\n",
    "        landmarks = []\n",
    "        for handslms in result.multi_hand_landmarks:\n",
    "            for lm in handslms.landmark:\n",
    "                # print(id, lm)\n",
    "                lmx = int(lm.x * x)\n",
    "                lmy = int(lm.y * y)\n",
    "\n",
    "                landmarks.append([lmx, lmy])\n",
    "\n",
    "            # Drawing landmarks on frames\n",
    "            mpDraw.draw_landmarks(frame, handslms, mpHands.HAND_CONNECTIONS)\n",
    "    \n",
    "    # show the prediction on the frame\n",
    "    cv2.putText(frame, className, (10, 50), cv2.FONT_HERSHEY_SIMPLEX, \n",
    "                   1, (0,0,255), 2, cv2.LINE_AA)\n",
    "\n",
    "    # Show the final output\n",
    "    cv2.imshow(\"Output\", frame) \n",
    "\n",
    "    if cv2.waitKey(1) == ord('q'):\n",
    "        break\n",
    "\n",
    "# release the webcam and destroy all active windows\n",
    "cap.release()\n",
    "\n",
    "cv2.destroyAllWindows()"
   ]
  },
  {
   "cell_type": "code",
   "execution_count": 86,
   "metadata": {},
   "outputs": [],
   "source": [
    "# Path for exported data, numpy arrays\n",
    "DATA_PATH = os.path.join('MP_Data') \n",
    "\n",
    "# Actions that we try to detect\n",
    "actions = np.array(['Hello', 'Love'])\n",
    "\n",
    "# Thirty videos worth of data\n",
    "no_sequences =  25\n",
    "\n",
    "# Videos are going to be 30 frames in length\n",
    "sequence_length = 30\n",
    "\n",
    "# Folder start\n",
    "start_folder = 0"
   ]
  },
  {
   "cell_type": "code",
   "execution_count": 87,
   "metadata": {},
   "outputs": [],
   "source": [
    "for action in actions: \n",
    "    for sequence in range(no_sequences):\n",
    "        try: \n",
    "            os.makedirs(os.path.join(DATA_PATH, action, str(sequence)))\n",
    "        except:\n",
    "            pass"
   ]
  },
  {
   "cell_type": "code",
   "execution_count": 88,
   "metadata": {},
   "outputs": [],
   "source": [
    "cap = cv2.VideoCapture(0)\n",
    "    \n",
    "# NEW LOOP\n",
    "# Loop through actions\n",
    "for action in actions:\n",
    "    # Loop through sequences aka videos\n",
    "    for sequence in range(start_folder, start_folder+no_sequences):\n",
    "        # Loop through video length aka sequence length\n",
    "        for frame_num in range(sequence_length):\n",
    "\n",
    "            _, frame = cap.read()\n",
    "\n",
    "            x, y, c = frame.shape\n",
    "\n",
    "            # Flip the frame vertically\n",
    "            frame = cv2.flip(frame, 1)\n",
    "            framergb = cv2.cvtColor(frame, cv2.COLOR_BGR2RGB)\n",
    "\n",
    "            # Get hand landmark prediction\n",
    "            result = hands.process(framergb)  \n",
    "            className = ''\n",
    "            \n",
    "            # post process the result\n",
    "            if result.multi_hand_landmarks:\n",
    "                landmarks = []\n",
    "                for handslms in result.multi_hand_landmarks:\n",
    "                    for lm in handslms.landmark:\n",
    "                        # print(id, lm)\n",
    "                        lmx = int(lm.x * x)\n",
    "                        lmy = int(lm.y * y)\n",
    "\n",
    "                        landmarks.append([lmx, lmy])\n",
    "\n",
    "                    # Drawing landmarks on frames\n",
    "                    mpDraw.draw_landmarks(frame, handslms, mpHands.HAND_CONNECTIONS)\n",
    "\n",
    "                # NEW Apply wait logic\n",
    "                if frame_num == 0: \n",
    "                    cv2.putText(frame, 'STARTING COLLECTION', (120,200), \n",
    "                            cv2.FONT_HERSHEY_SIMPLEX, 1, (0,255, 0), 4, cv2.LINE_AA)\n",
    "                    cv2.putText(frame, 'Frames for {} Video Number {}'.format(action, sequence), (15,12), \n",
    "                            cv2.FONT_HERSHEY_SIMPLEX, 0.7, (255, 0, 0), 1, cv2.LINE_AA)\n",
    "                    # Show to screen\n",
    "                    cv2.imshow('OpenCV Feed', frame)\n",
    "                    cv2.waitKey(1000)\n",
    "                else: \n",
    "                    cv2.putText(frame, 'Frames for {} Video Number {}'.format(action, sequence), (15,12), \n",
    "                            cv2.FONT_HERSHEY_SIMPLEX, 0.7, (0, 0, 255), 1, cv2.LINE_AA)\n",
    "                    # Show to screen\n",
    "                    cv2.imshow('OpenCV Feed', frame)\n",
    "                \n",
    "                \n",
    "                npy_path = os.path.join(DATA_PATH, action, str(sequence), str(frame_num))\n",
    "                # npy_path = \"./MP_Data/\" + action + \"_\" + str(sequence) + \"_\" + str(frame_num)\n",
    "                np.save(npy_path, landmarks)\n",
    "\n",
    "                # Break gracefully\n",
    "                if cv2.waitKey(10) & 0xFF == ord('q'):\n",
    "                    break\n",
    "                \n",
    "cap.release()\n",
    "cv2.destroyAllWindows()"
   ]
  },
  {
   "cell_type": "code",
   "execution_count": 85,
   "metadata": {},
   "outputs": [],
   "source": [
    "cap.release()\n",
    "cv2.destroyAllWindows()"
   ]
  },
  {
   "cell_type": "markdown",
   "metadata": {},
   "source": [
    "---\n",
    "\n",
    "### **Data Formating**"
   ]
  },
  {
   "cell_type": "code",
   "execution_count": 100,
   "metadata": {},
   "outputs": [
    {
     "data": {
      "text/plain": [
       "'d:\\\\VIT\\\\SEM-8\\\\Test Code\\\\hand-gesture-recognition-code'"
      ]
     },
     "execution_count": 100,
     "metadata": {},
     "output_type": "execute_result"
    }
   ],
   "source": [
    "import os\n",
    "import pandas as pd\n",
    "os.getcwd()"
   ]
  },
  {
   "cell_type": "code",
   "execution_count": 62,
   "metadata": {},
   "outputs": [
    {
     "name": "stdout",
     "output_type": "stream",
     "text": [
      "(21, 2)\n",
      "(42,)\n"
     ]
    }
   ],
   "source": [
    "tmp = np.load(\"./MP_Data/Hello/1/0.npy\")\n",
    "print(tmp.shape)\n",
    "ee = tmp.flatten()\n",
    "print(ee.shape)"
   ]
  },
  {
   "cell_type": "code",
   "execution_count": 90,
   "metadata": {},
   "outputs": [
    {
     "name": "stdout",
     "output_type": "stream",
     "text": [
      "MP_Data \n",
      " 0\n",
      "MP_Data\\Hello \n",
      " 0\n",
      "MP_Data\\Love \n",
      " 0\n"
     ]
    }
   ],
   "source": [
    "list_of_files = {}\n",
    "for (dirpath, dirnames, filenames) in os.walk(\"MP_Data\"):\n",
    "    # print(dirpath, \"\\n\", dirnames, \"\\n\", len(filenames))\n",
    "    if(len(filenames)!=30):\n",
    "         print(dirpath, \"\\n\", len(filenames))"
   ]
  },
  {
   "cell_type": "code",
   "execution_count": 102,
   "metadata": {},
   "outputs": [
    {
     "name": "stdout",
     "output_type": "stream",
     "text": [
      "{'Hello': 0, 'Love': 1}\n"
     ]
    }
   ],
   "source": [
    "label_map = {label:num for num, label in enumerate(actions)}\n",
    "print(label_map)"
   ]
  },
  {
   "cell_type": "code",
   "execution_count": 103,
   "metadata": {},
   "outputs": [
    {
     "name": "stdout",
     "output_type": "stream",
     "text": [
      "(750, 21, 2)\n",
      "(750,)\n"
     ]
    }
   ],
   "source": [
    "hello_files = []\n",
    "labels = []\n",
    "\n",
    "for (dirpath, dirnames, filenames) in os.walk(os.path.join(\"MP_Data\", \"Hello\")):\n",
    "    if(len(dirnames)==0):\n",
    "        # print(dirpath, len(filenames))\n",
    "        for filename in filenames:\n",
    "            hello_files.append(np.load( os.path.join(dirpath, filename) ))\n",
    "            labels.append(label_map[\"Hello\"])\n",
    "\n",
    "print(np.array(hello_files).shape)\n",
    "print(np.array(labels).shape)"
   ]
  },
  {
   "cell_type": "code",
   "execution_count": 140,
   "metadata": {},
   "outputs": [
    {
     "name": "stdout",
     "output_type": "stream",
     "text": [
      "(1500, 21, 2)\n",
      "(1500,)\n"
     ]
    }
   ],
   "source": [
    "data = []\n",
    "labels = []\n",
    "\n",
    "for action in actions:\n",
    "    for (dirpath, dirnames, filenames) in os.walk(os.path.join(\"MP_Data\", action)):\n",
    "        if(len(dirnames)==0):\n",
    "            for filename in filenames:\n",
    "                data.append(np.load( os.path.join(dirpath, filename) ))\n",
    "                labels.append(label_map[action])\n",
    "\n",
    "data = np.array(data)\n",
    "labels = np.array(labels)\n",
    "print(data.shape)\n",
    "print(labels.shape)"
   ]
  },
  {
   "cell_type": "code",
   "execution_count": 141,
   "metadata": {},
   "outputs": [
    {
     "name": "stdout",
     "output_type": "stream",
     "text": [
      "{0: 750, 1: 750}\n"
     ]
    }
   ],
   "source": [
    "unique, counts = np.unique(labels, return_counts=True)\n",
    "print(dict(zip(unique, counts)))"
   ]
  },
  {
   "cell_type": "code",
   "execution_count": 144,
   "metadata": {},
   "outputs": [
    {
     "name": "stdout",
     "output_type": "stream",
     "text": [
      "(1500, 2)\n"
     ]
    }
   ],
   "source": [
    "# from tensorflow.keras.utils.np_utils import to_categorical\n",
    "\n",
    "lab = tf.keras.utils.to_categorical(labels)\n",
    "print(lab.shape)"
   ]
  },
  {
   "cell_type": "code",
   "execution_count": 147,
   "metadata": {},
   "outputs": [
    {
     "name": "stdout",
     "output_type": "stream",
     "text": [
      "{0.0: 1200, 1.0: 1200}\n",
      "{0.0: 300, 1.0: 300}\n"
     ]
    }
   ],
   "source": [
    "from sklearn.model_selection import train_test_split\n",
    "\n",
    "X_train, X_test, y_train, y_test = train_test_split(data, lab, test_size=0.2, random_state=42)\n",
    "\n",
    "unique, counts = np.unique(y_train, return_counts=True)\n",
    "print(dict(zip(unique, counts)))\n",
    "\n",
    "unique, counts = np.unique(y_test, return_counts=True)\n",
    "print(dict(zip(unique, counts)))"
   ]
  },
  {
   "cell_type": "code",
   "execution_count": 148,
   "metadata": {},
   "outputs": [
    {
     "name": "stdout",
     "output_type": "stream",
     "text": [
      "Training:  (1200, 21, 2) (1200, 2)\n",
      "Test:  (300, 21, 2) (300, 2)\n"
     ]
    }
   ],
   "source": [
    "print(\"Training: \", X_train.shape, y_train.shape)\n",
    "print(\"Test: \", X_test.shape, y_test.shape)"
   ]
  },
  {
   "cell_type": "markdown",
   "metadata": {},
   "source": [
    "---\n",
    "\n",
    "## **Model Training**"
   ]
  },
  {
   "cell_type": "code",
   "execution_count": 124,
   "metadata": {},
   "outputs": [],
   "source": [
    "import tensorflow as tf\n",
    "from tensorflow.keras.models import Sequential\n",
    "from tensorflow.keras.layers import Dense, Input, Flatten\n",
    "\n",
    "from tensorflow.keras.callbacks import ModelCheckpoint\n",
    "from tensorflow.keras.optimizers import Adam"
   ]
  },
  {
   "cell_type": "code",
   "execution_count": 150,
   "metadata": {},
   "outputs": [
    {
     "name": "stdout",
     "output_type": "stream",
     "text": [
      "Model: \"sequential_4\"\n",
      "_________________________________________________________________\n",
      "Layer (type)                 Output Shape              Param #   \n",
      "=================================================================\n",
      "flatten_4 (Flatten)          (None, 42)                0         \n",
      "_________________________________________________________________\n",
      "dense_22 (Dense)             (None, 64)                2752      \n",
      "_________________________________________________________________\n",
      "dense_23 (Dense)             (None, 128)               8320      \n",
      "_________________________________________________________________\n",
      "dense_24 (Dense)             (None, 512)               66048     \n",
      "_________________________________________________________________\n",
      "dense_25 (Dense)             (None, 64)                32832     \n",
      "_________________________________________________________________\n",
      "dense_26 (Dense)             (None, 32)                2080      \n",
      "_________________________________________________________________\n",
      "dense_27 (Dense)             (None, 2)                 66        \n",
      "=================================================================\n",
      "Total params: 112,098\n",
      "Trainable params: 112,098\n",
      "Non-trainable params: 0\n",
      "_________________________________________________________________\n"
     ]
    }
   ],
   "source": [
    "model = Sequential([\n",
    "    Flatten(input_shape=(21, 2)),\n",
    "    Dense(64, activation='relu'),\n",
    "    Dense(128, activation='relu'),\n",
    "    Dense(512, activation='relu'),\n",
    "    Dense(64, activation='relu'),\n",
    "    Dense(32, activation='relu'),\n",
    "    Dense(2, activation='softmax'),\n",
    "])\n",
    "\n",
    "model.summary()"
   ]
  },
  {
   "cell_type": "code",
   "execution_count": 151,
   "metadata": {},
   "outputs": [],
   "source": [
    "callback_checkpoint = ModelCheckpoint(\n",
    "    './checkpoints/', monitor='val_loss', verbose=0, save_best_only=True,\n",
    "    save_weights_only=True, mode='auto', save_freq='epoch',\n",
    ")"
   ]
  },
  {
   "cell_type": "code",
   "execution_count": 152,
   "metadata": {},
   "outputs": [],
   "source": [
    "model.compile(loss='categorical_crossentropy', optimizer='adam', metrics=['accuracy'])"
   ]
  },
  {
   "cell_type": "code",
   "execution_count": 153,
   "metadata": {},
   "outputs": [
    {
     "name": "stdout",
     "output_type": "stream",
     "text": [
      "Epoch 1/100\n",
      "38/38 [==============================] - 1s 2ms/step - loss: 2.2435 - accuracy: 0.8933\n",
      "WARNING:tensorflow:Can save best model only with val_loss available, skipping.\n",
      "Epoch 2/100\n",
      "38/38 [==============================] - 0s 2ms/step - loss: 0.1469 - accuracy: 0.9783\n",
      "WARNING:tensorflow:Can save best model only with val_loss available, skipping.\n",
      "Epoch 3/100\n",
      "38/38 [==============================] - 0s 2ms/step - loss: 0.1350 - accuracy: 0.9750\n",
      "WARNING:tensorflow:Can save best model only with val_loss available, skipping.\n",
      "Epoch 4/100\n",
      "38/38 [==============================] - 0s 2ms/step - loss: 0.0649 - accuracy: 0.9892\n",
      "WARNING:tensorflow:Can save best model only with val_loss available, skipping.\n",
      "Epoch 5/100\n",
      "38/38 [==============================] - 0s 2ms/step - loss: 0.1298 - accuracy: 0.9858\n",
      "WARNING:tensorflow:Can save best model only with val_loss available, skipping.\n",
      "Epoch 6/100\n",
      "38/38 [==============================] - 0s 2ms/step - loss: 0.1143 - accuracy: 0.9850\n",
      "WARNING:tensorflow:Can save best model only with val_loss available, skipping.\n",
      "Epoch 7/100\n",
      "38/38 [==============================] - 0s 2ms/step - loss: 0.2320 - accuracy: 0.9500\n",
      "WARNING:tensorflow:Can save best model only with val_loss available, skipping.\n",
      "Epoch 8/100\n",
      "38/38 [==============================] - 0s 2ms/step - loss: 0.1231 - accuracy: 0.9867\n",
      "WARNING:tensorflow:Can save best model only with val_loss available, skipping.\n",
      "Epoch 9/100\n",
      "38/38 [==============================] - 0s 2ms/step - loss: 0.0653 - accuracy: 0.9833\n",
      "WARNING:tensorflow:Can save best model only with val_loss available, skipping.\n",
      "Epoch 10/100\n",
      "38/38 [==============================] - 0s 2ms/step - loss: 0.1699 - accuracy: 0.9833\n",
      "WARNING:tensorflow:Can save best model only with val_loss available, skipping.\n",
      "Epoch 11/100\n",
      "38/38 [==============================] - 0s 2ms/step - loss: 0.0578 - accuracy: 0.9867\n",
      "WARNING:tensorflow:Can save best model only with val_loss available, skipping.\n",
      "Epoch 12/100\n",
      "38/38 [==============================] - 0s 2ms/step - loss: 0.0674 - accuracy: 0.9875\n",
      "WARNING:tensorflow:Can save best model only with val_loss available, skipping.\n",
      "Epoch 13/100\n",
      "38/38 [==============================] - 0s 2ms/step - loss: 0.0471 - accuracy: 0.9908\n",
      "WARNING:tensorflow:Can save best model only with val_loss available, skipping.\n",
      "Epoch 14/100\n",
      "38/38 [==============================] - 0s 2ms/step - loss: 0.0460 - accuracy: 0.9900\n",
      "WARNING:tensorflow:Can save best model only with val_loss available, skipping.\n",
      "Epoch 15/100\n",
      "38/38 [==============================] - 0s 2ms/step - loss: 0.0389 - accuracy: 0.9908\n",
      "WARNING:tensorflow:Can save best model only with val_loss available, skipping.\n",
      "Epoch 16/100\n",
      "38/38 [==============================] - 0s 2ms/step - loss: 0.0376 - accuracy: 0.9867\n",
      "WARNING:tensorflow:Can save best model only with val_loss available, skipping.\n",
      "Epoch 17/100\n",
      "38/38 [==============================] - 0s 2ms/step - loss: 0.0756 - accuracy: 0.9867\n",
      "WARNING:tensorflow:Can save best model only with val_loss available, skipping.\n",
      "Epoch 18/100\n",
      "38/38 [==============================] - 0s 2ms/step - loss: 0.0558 - accuracy: 0.9858\n",
      "WARNING:tensorflow:Can save best model only with val_loss available, skipping.\n",
      "Epoch 19/100\n",
      "38/38 [==============================] - 0s 2ms/step - loss: 0.0427 - accuracy: 0.9867\n",
      "WARNING:tensorflow:Can save best model only with val_loss available, skipping.\n",
      "Epoch 20/100\n",
      "38/38 [==============================] - 0s 2ms/step - loss: 0.0403 - accuracy: 0.9883\n",
      "WARNING:tensorflow:Can save best model only with val_loss available, skipping.\n",
      "Epoch 21/100\n",
      "38/38 [==============================] - 0s 2ms/step - loss: 0.0325 - accuracy: 0.9875\n",
      "WARNING:tensorflow:Can save best model only with val_loss available, skipping.\n",
      "Epoch 22/100\n",
      "38/38 [==============================] - 0s 2ms/step - loss: 0.0647 - accuracy: 0.9900\n",
      "WARNING:tensorflow:Can save best model only with val_loss available, skipping.\n",
      "Epoch 23/100\n",
      "38/38 [==============================] - 0s 2ms/step - loss: 0.0547 - accuracy: 0.9867\n",
      "WARNING:tensorflow:Can save best model only with val_loss available, skipping.\n",
      "Epoch 24/100\n",
      "38/38 [==============================] - 0s 2ms/step - loss: 0.0460 - accuracy: 0.9858\n",
      "WARNING:tensorflow:Can save best model only with val_loss available, skipping.\n",
      "Epoch 25/100\n",
      "38/38 [==============================] - 0s 2ms/step - loss: 0.0423 - accuracy: 0.9867\n",
      "WARNING:tensorflow:Can save best model only with val_loss available, skipping.\n",
      "Epoch 26/100\n",
      "38/38 [==============================] - 0s 2ms/step - loss: 0.0305 - accuracy: 0.9892\n",
      "WARNING:tensorflow:Can save best model only with val_loss available, skipping.\n",
      "Epoch 27/100\n",
      "38/38 [==============================] - 0s 2ms/step - loss: 0.0510 - accuracy: 0.9883\n",
      "WARNING:tensorflow:Can save best model only with val_loss available, skipping.\n",
      "Epoch 28/100\n",
      "38/38 [==============================] - 0s 2ms/step - loss: 0.0608 - accuracy: 0.9875\n",
      "WARNING:tensorflow:Can save best model only with val_loss available, skipping.\n",
      "Epoch 29/100\n",
      "38/38 [==============================] - 0s 2ms/step - loss: 0.0440 - accuracy: 0.9925\n",
      "WARNING:tensorflow:Can save best model only with val_loss available, skipping.\n",
      "Epoch 30/100\n",
      "38/38 [==============================] - 0s 2ms/step - loss: 0.0542 - accuracy: 0.9900\n",
      "WARNING:tensorflow:Can save best model only with val_loss available, skipping.\n",
      "Epoch 31/100\n",
      "38/38 [==============================] - 0s 2ms/step - loss: 0.1065 - accuracy: 0.9850\n",
      "WARNING:tensorflow:Can save best model only with val_loss available, skipping.\n",
      "Epoch 32/100\n",
      "38/38 [==============================] - 0s 2ms/step - loss: 0.0512 - accuracy: 0.9867\n",
      "WARNING:tensorflow:Can save best model only with val_loss available, skipping.\n",
      "Epoch 33/100\n",
      "38/38 [==============================] - 0s 2ms/step - loss: 0.0723 - accuracy: 0.9875\n",
      "WARNING:tensorflow:Can save best model only with val_loss available, skipping.\n",
      "Epoch 34/100\n",
      "38/38 [==============================] - 0s 2ms/step - loss: 0.0995 - accuracy: 0.9825\n",
      "WARNING:tensorflow:Can save best model only with val_loss available, skipping.\n",
      "Epoch 35/100\n",
      "38/38 [==============================] - 0s 2ms/step - loss: 0.0321 - accuracy: 0.9875\n",
      "WARNING:tensorflow:Can save best model only with val_loss available, skipping.\n",
      "Epoch 36/100\n",
      "38/38 [==============================] - 0s 2ms/step - loss: 0.0543 - accuracy: 0.9875\n",
      "WARNING:tensorflow:Can save best model only with val_loss available, skipping.\n",
      "Epoch 37/100\n",
      "38/38 [==============================] - 0s 2ms/step - loss: 0.0390 - accuracy: 0.9867\n",
      "WARNING:tensorflow:Can save best model only with val_loss available, skipping.\n",
      "Epoch 38/100\n",
      "38/38 [==============================] - 0s 2ms/step - loss: 0.0324 - accuracy: 0.9883\n",
      "WARNING:tensorflow:Can save best model only with val_loss available, skipping.\n",
      "Epoch 39/100\n",
      "38/38 [==============================] - 0s 2ms/step - loss: 0.0300 - accuracy: 0.9900\n",
      "WARNING:tensorflow:Can save best model only with val_loss available, skipping.\n",
      "Epoch 40/100\n",
      "38/38 [==============================] - 0s 2ms/step - loss: 0.0809 - accuracy: 0.9908\n",
      "WARNING:tensorflow:Can save best model only with val_loss available, skipping.\n",
      "Epoch 41/100\n",
      "38/38 [==============================] - 0s 2ms/step - loss: 0.0532 - accuracy: 0.9883\n",
      "WARNING:tensorflow:Can save best model only with val_loss available, skipping.\n",
      "Epoch 42/100\n",
      "38/38 [==============================] - 0s 2ms/step - loss: 0.0289 - accuracy: 0.9908\n",
      "WARNING:tensorflow:Can save best model only with val_loss available, skipping.\n",
      "Epoch 43/100\n",
      "38/38 [==============================] - 0s 2ms/step - loss: 0.0326 - accuracy: 0.9900\n",
      "WARNING:tensorflow:Can save best model only with val_loss available, skipping.\n",
      "Epoch 44/100\n",
      "38/38 [==============================] - 0s 2ms/step - loss: 0.0317 - accuracy: 0.9875\n",
      "WARNING:tensorflow:Can save best model only with val_loss available, skipping.\n",
      "Epoch 45/100\n",
      "38/38 [==============================] - 0s 2ms/step - loss: 0.0278 - accuracy: 0.9908\n",
      "WARNING:tensorflow:Can save best model only with val_loss available, skipping.\n",
      "Epoch 46/100\n",
      "38/38 [==============================] - 0s 2ms/step - loss: 0.0372 - accuracy: 0.9892\n",
      "WARNING:tensorflow:Can save best model only with val_loss available, skipping.\n",
      "Epoch 47/100\n",
      "38/38 [==============================] - 0s 2ms/step - loss: 0.0302 - accuracy: 0.9908\n",
      "WARNING:tensorflow:Can save best model only with val_loss available, skipping.\n",
      "Epoch 48/100\n",
      "38/38 [==============================] - 0s 2ms/step - loss: 0.0305 - accuracy: 0.9908\n",
      "WARNING:tensorflow:Can save best model only with val_loss available, skipping.\n",
      "Epoch 49/100\n",
      "38/38 [==============================] - 0s 2ms/step - loss: 0.0259 - accuracy: 0.9892\n",
      "WARNING:tensorflow:Can save best model only with val_loss available, skipping.\n",
      "Epoch 50/100\n",
      "38/38 [==============================] - 0s 2ms/step - loss: 0.0399 - accuracy: 0.9925\n",
      "WARNING:tensorflow:Can save best model only with val_loss available, skipping.\n",
      "Epoch 51/100\n",
      "38/38 [==============================] - 0s 3ms/step - loss: 0.0418 - accuracy: 0.9883\n",
      "WARNING:tensorflow:Can save best model only with val_loss available, skipping.\n",
      "Epoch 52/100\n",
      "38/38 [==============================] - 0s 2ms/step - loss: 0.0309 - accuracy: 0.9908\n",
      "WARNING:tensorflow:Can save best model only with val_loss available, skipping.\n",
      "Epoch 53/100\n",
      "38/38 [==============================] - 0s 2ms/step - loss: 0.0301 - accuracy: 0.9908\n",
      "WARNING:tensorflow:Can save best model only with val_loss available, skipping.\n",
      "Epoch 54/100\n",
      "38/38 [==============================] - 0s 2ms/step - loss: 0.0344 - accuracy: 0.9925\n",
      "WARNING:tensorflow:Can save best model only with val_loss available, skipping.\n",
      "Epoch 55/100\n",
      "38/38 [==============================] - 0s 2ms/step - loss: 0.0380 - accuracy: 0.9917\n",
      "WARNING:tensorflow:Can save best model only with val_loss available, skipping.\n",
      "Epoch 56/100\n",
      "38/38 [==============================] - 0s 2ms/step - loss: 0.0381 - accuracy: 0.9892\n",
      "WARNING:tensorflow:Can save best model only with val_loss available, skipping.\n",
      "Epoch 57/100\n",
      "38/38 [==============================] - 0s 2ms/step - loss: 0.0323 - accuracy: 0.9917\n",
      "WARNING:tensorflow:Can save best model only with val_loss available, skipping.\n",
      "Epoch 58/100\n",
      "38/38 [==============================] - 0s 2ms/step - loss: 0.0550 - accuracy: 0.9892\n",
      "WARNING:tensorflow:Can save best model only with val_loss available, skipping.\n",
      "Epoch 59/100\n",
      "38/38 [==============================] - 0s 2ms/step - loss: 0.0466 - accuracy: 0.9900\n",
      "WARNING:tensorflow:Can save best model only with val_loss available, skipping.\n",
      "Epoch 60/100\n",
      "38/38 [==============================] - 0s 2ms/step - loss: 0.0311 - accuracy: 0.9908\n",
      "WARNING:tensorflow:Can save best model only with val_loss available, skipping.\n",
      "Epoch 61/100\n",
      "38/38 [==============================] - 0s 2ms/step - loss: 0.0323 - accuracy: 0.9883\n",
      "WARNING:tensorflow:Can save best model only with val_loss available, skipping.\n",
      "Epoch 62/100\n",
      "38/38 [==============================] - 0s 2ms/step - loss: 0.0281 - accuracy: 0.9908\n",
      "WARNING:tensorflow:Can save best model only with val_loss available, skipping.\n",
      "Epoch 63/100\n",
      "38/38 [==============================] - 0s 2ms/step - loss: 0.0376 - accuracy: 0.9867\n",
      "WARNING:tensorflow:Can save best model only with val_loss available, skipping.\n",
      "Epoch 64/100\n",
      "38/38 [==============================] - 0s 2ms/step - loss: 0.0305 - accuracy: 0.9908\n",
      "WARNING:tensorflow:Can save best model only with val_loss available, skipping.\n",
      "Epoch 65/100\n",
      "38/38 [==============================] - 0s 2ms/step - loss: 0.0281 - accuracy: 0.9908\n",
      "WARNING:tensorflow:Can save best model only with val_loss available, skipping.\n",
      "Epoch 66/100\n",
      "38/38 [==============================] - 0s 2ms/step - loss: 0.0299 - accuracy: 0.9908\n",
      "WARNING:tensorflow:Can save best model only with val_loss available, skipping.\n",
      "Epoch 67/100\n",
      "38/38 [==============================] - 0s 2ms/step - loss: 0.0388 - accuracy: 0.9908\n",
      "WARNING:tensorflow:Can save best model only with val_loss available, skipping.\n",
      "Epoch 68/100\n",
      "38/38 [==============================] - 0s 2ms/step - loss: 0.0307 - accuracy: 0.9900\n",
      "WARNING:tensorflow:Can save best model only with val_loss available, skipping.\n",
      "Epoch 69/100\n",
      "38/38 [==============================] - 0s 2ms/step - loss: 0.0302 - accuracy: 0.9908\n",
      "WARNING:tensorflow:Can save best model only with val_loss available, skipping.\n",
      "Epoch 70/100\n",
      "38/38 [==============================] - 0s 2ms/step - loss: 0.0291 - accuracy: 0.9908\n",
      "WARNING:tensorflow:Can save best model only with val_loss available, skipping.\n",
      "Epoch 71/100\n",
      "38/38 [==============================] - 0s 2ms/step - loss: 0.0311 - accuracy: 0.9908\n",
      "WARNING:tensorflow:Can save best model only with val_loss available, skipping.\n",
      "Epoch 72/100\n",
      "38/38 [==============================] - 0s 2ms/step - loss: 0.0257 - accuracy: 0.9908\n",
      "WARNING:tensorflow:Can save best model only with val_loss available, skipping.\n",
      "Epoch 73/100\n",
      "38/38 [==============================] - 0s 2ms/step - loss: 0.0266 - accuracy: 0.9908\n",
      "WARNING:tensorflow:Can save best model only with val_loss available, skipping.\n",
      "Epoch 74/100\n",
      "38/38 [==============================] - 0s 2ms/step - loss: 0.0389 - accuracy: 0.9900\n",
      "WARNING:tensorflow:Can save best model only with val_loss available, skipping.\n",
      "Epoch 75/100\n",
      "38/38 [==============================] - 0s 2ms/step - loss: 0.0550 - accuracy: 0.9900\n",
      "WARNING:tensorflow:Can save best model only with val_loss available, skipping.\n",
      "Epoch 76/100\n",
      "38/38 [==============================] - 0s 2ms/step - loss: 0.0342 - accuracy: 0.9908\n",
      "WARNING:tensorflow:Can save best model only with val_loss available, skipping.\n",
      "Epoch 77/100\n",
      "38/38 [==============================] - 0s 2ms/step - loss: 0.0304 - accuracy: 0.9892\n",
      "WARNING:tensorflow:Can save best model only with val_loss available, skipping.\n",
      "Epoch 78/100\n",
      "38/38 [==============================] - 0s 2ms/step - loss: 0.0251 - accuracy: 0.9900\n",
      "WARNING:tensorflow:Can save best model only with val_loss available, skipping.\n",
      "Epoch 79/100\n",
      "38/38 [==============================] - 0s 2ms/step - loss: 0.0482 - accuracy: 0.9858\n",
      "WARNING:tensorflow:Can save best model only with val_loss available, skipping.\n",
      "Epoch 80/100\n",
      "38/38 [==============================] - 0s 2ms/step - loss: 0.0342 - accuracy: 0.9908\n",
      "WARNING:tensorflow:Can save best model only with val_loss available, skipping.\n",
      "Epoch 81/100\n",
      "38/38 [==============================] - 0s 2ms/step - loss: 0.0365 - accuracy: 0.9908\n",
      "WARNING:tensorflow:Can save best model only with val_loss available, skipping.\n",
      "Epoch 82/100\n",
      "38/38 [==============================] - 0s 2ms/step - loss: 0.0377 - accuracy: 0.9908\n",
      "WARNING:tensorflow:Can save best model only with val_loss available, skipping.\n",
      "Epoch 83/100\n",
      "38/38 [==============================] - 0s 2ms/step - loss: 0.0269 - accuracy: 0.9908\n",
      "WARNING:tensorflow:Can save best model only with val_loss available, skipping.\n",
      "Epoch 84/100\n",
      "38/38 [==============================] - 0s 2ms/step - loss: 0.0321 - accuracy: 0.9900\n",
      "WARNING:tensorflow:Can save best model only with val_loss available, skipping.\n",
      "Epoch 85/100\n",
      "38/38 [==============================] - 0s 2ms/step - loss: 0.0252 - accuracy: 0.9908\n",
      "WARNING:tensorflow:Can save best model only with val_loss available, skipping.\n",
      "Epoch 86/100\n",
      "38/38 [==============================] - 0s 2ms/step - loss: 0.0337 - accuracy: 0.9908\n",
      "WARNING:tensorflow:Can save best model only with val_loss available, skipping.\n",
      "Epoch 87/100\n",
      "38/38 [==============================] - 0s 2ms/step - loss: 0.0324 - accuracy: 0.9908\n",
      "WARNING:tensorflow:Can save best model only with val_loss available, skipping.\n",
      "Epoch 88/100\n",
      "38/38 [==============================] - 0s 2ms/step - loss: 0.0326 - accuracy: 0.9892\n",
      "WARNING:tensorflow:Can save best model only with val_loss available, skipping.\n",
      "Epoch 89/100\n",
      "38/38 [==============================] - 0s 2ms/step - loss: 0.0311 - accuracy: 0.9908\n",
      "WARNING:tensorflow:Can save best model only with val_loss available, skipping.\n",
      "Epoch 90/100\n",
      "38/38 [==============================] - 0s 2ms/step - loss: 0.0311 - accuracy: 0.9908\n",
      "WARNING:tensorflow:Can save best model only with val_loss available, skipping.\n",
      "Epoch 91/100\n",
      "38/38 [==============================] - 0s 2ms/step - loss: 0.0662 - accuracy: 0.9875\n",
      "WARNING:tensorflow:Can save best model only with val_loss available, skipping.\n",
      "Epoch 92/100\n",
      "38/38 [==============================] - 0s 2ms/step - loss: 0.0591 - accuracy: 0.9883\n",
      "WARNING:tensorflow:Can save best model only with val_loss available, skipping.\n",
      "Epoch 93/100\n",
      "38/38 [==============================] - 0s 2ms/step - loss: 0.0439 - accuracy: 0.9908\n",
      "WARNING:tensorflow:Can save best model only with val_loss available, skipping.\n",
      "Epoch 94/100\n",
      "38/38 [==============================] - 0s 2ms/step - loss: 0.0300 - accuracy: 0.9908\n",
      "WARNING:tensorflow:Can save best model only with val_loss available, skipping.\n",
      "Epoch 95/100\n",
      "38/38 [==============================] - 0s 2ms/step - loss: 0.0334 - accuracy: 0.9908\n",
      "WARNING:tensorflow:Can save best model only with val_loss available, skipping.\n",
      "Epoch 96/100\n",
      "38/38 [==============================] - 0s 2ms/step - loss: 0.0347 - accuracy: 0.9908\n",
      "WARNING:tensorflow:Can save best model only with val_loss available, skipping.\n",
      "Epoch 97/100\n",
      "38/38 [==============================] - 0s 2ms/step - loss: 0.0286 - accuracy: 0.9908\n",
      "WARNING:tensorflow:Can save best model only with val_loss available, skipping.\n",
      "Epoch 98/100\n",
      "38/38 [==============================] - 0s 2ms/step - loss: 0.0289 - accuracy: 0.9908\n",
      "WARNING:tensorflow:Can save best model only with val_loss available, skipping.\n",
      "Epoch 99/100\n",
      "38/38 [==============================] - 0s 2ms/step - loss: 0.0266 - accuracy: 0.9908\n",
      "WARNING:tensorflow:Can save best model only with val_loss available, skipping.\n",
      "Epoch 100/100\n",
      "38/38 [==============================] - 0s 2ms/step - loss: 0.0467 - accuracy: 0.9892\n",
      "WARNING:tensorflow:Can save best model only with val_loss available, skipping.\n"
     ]
    }
   ],
   "source": [
    "history = model.fit(X_train, y_train, \n",
    "                    epochs=100, \n",
    "                    callbacks=[callback_checkpoint])"
   ]
  },
  {
   "cell_type": "code",
   "execution_count": 162,
   "metadata": {},
   "outputs": [
    {
     "name": "stdout",
     "output_type": "stream",
     "text": [
      "INFO:tensorflow:Assets written to: ./checkpoints/initial_model\\assets\n"
     ]
    }
   ],
   "source": [
    "model.save(\"./checkpoints/initial_model\")"
   ]
  },
  {
   "cell_type": "markdown",
   "metadata": {},
   "source": [
    "---\n",
    "\n",
    "## **Metrics**"
   ]
  },
  {
   "cell_type": "code",
   "execution_count": 154,
   "metadata": {},
   "outputs": [],
   "source": [
    "from sklearn.metrics import classification_report, confusion_matrix\n",
    "import matplotlib.pyplot as plt\n",
    "import seaborn as sns"
   ]
  },
  {
   "cell_type": "code",
   "execution_count": 157,
   "metadata": {},
   "outputs": [
    {
     "name": "stdout",
     "output_type": "stream",
     "text": [
      "[1 1 0 0 0 1 1 0 1 0]\n"
     ]
    }
   ],
   "source": [
    "y_pred = model.predict(X_test)\n",
    "y_preds = np.argmax(y_pred, axis=1)\n",
    "print(y_preds[:10])"
   ]
  },
  {
   "cell_type": "code",
   "execution_count": 158,
   "metadata": {},
   "outputs": [
    {
     "name": "stdout",
     "output_type": "stream",
     "text": [
      "{0: 149, 1: 151}\n"
     ]
    }
   ],
   "source": [
    "unique, counts = np.unique(y_preds, return_counts=True)\n",
    "print(dict(zip(unique, counts)))"
   ]
  },
  {
   "cell_type": "code",
   "execution_count": 159,
   "metadata": {},
   "outputs": [],
   "source": [
    "def evaluate_model(history,X_test,y_test,model):\n",
    "  \"\"\"\n",
    "    Input: \n",
    "      history - Model history variable\n",
    "      X_test - Test features\n",
    "      y_test - Target test variables\n",
    "      model - Keras Model \n",
    "\n",
    "    Output:\n",
    "      Accuracy Plot (Training + Validation)\n",
    "      Loss Plot (Training + Validation)\n",
    "      Confusion matrix\n",
    "      Accuracy\n",
    "      Classification Report \n",
    "  \"\"\"  \n",
    "  scores = model.evaluate((X_test),y_test, verbose=0)\n",
    "  \n",
    "  fig, axs = plt.subplots(1,3, figsize=(18,5))\n",
    "  fig.tight_layout()\n",
    "\n",
    "  axs[0].plot(history.history['accuracy'])\n",
    "  axs[0].set_xlabel('Epoch')\n",
    "  axs[0].set_ylabel('Accuracy')\n",
    "  axs[0].set_title('Model - Accuracy')\n",
    "  axs[0].legend(['Training'], loc='lower right')\n",
    "\n",
    "  axs[1].plot(history.history['loss'])\n",
    "  axs[1].set_xlabel('Epoch')\n",
    "  axs[1].set_ylabel('Model Loss')\n",
    "  axs[1].set_title('Model - Loss')\n",
    "  axs[1].legend(['Training'], loc='upper right')\n",
    "\n",
    "  target_names=[\"Hello\", \"Love\"]\n",
    "  \n",
    "  y_true=[]\n",
    "  for element in y_test:\n",
    "      y_true.append(np.argmax(element))\n",
    "  prediction_proba = model.predict(X_test)\n",
    "  prediction = np.argmax(prediction_proba,axis=1)\n",
    "  cnf_matrix = confusion_matrix(y_true, prediction)    \n",
    "  g = sns.heatmap(cnf_matrix, annot=True, cmap='Blues', fmt='g', ax=axs[2],\n",
    "                  xticklabels=target_names, yticklabels=target_names)\n",
    "  plt.show()\n",
    "\n",
    "  print(\"\\nAccuracy: %.2f%% \\n\" % (scores[1]*100))\n",
    "  print(classification_report(y_true, prediction, target_names=target_names))\n",
    "    "
   ]
  },
  {
   "cell_type": "code",
   "execution_count": 160,
   "metadata": {},
   "outputs": [
    {
     "data": {
      "image/png": "[encoded data removed]",
      "text/plain": [
       "<Figure size 1296x360 with 4 Axes>"
      ]
     },
     "metadata": {
      "needs_background": "light"
     },
     "output_type": "display_data"
    },
    {
     "name": "stdout",
     "output_type": "stream",
     "text": [
      "\n",
      "Accuracy: 99.00% \n",
      "\n",
      "              precision    recall  f1-score   support\n",
      "\n",
      "       Hello       0.98      1.00      0.99       146\n",
      "        Love       1.00      0.98      0.99       154\n",
      "\n",
      "    accuracy                           0.99       300\n",
      "   macro avg       0.99      0.99      0.99       300\n",
      "weighted avg       0.99      0.99      0.99       300\n",
      "\n"
     ]
    }
   ],
   "source": [
    "evaluate_model(history, X_test, y_test, model)"
   ]
  },
  {
   "cell_type": "markdown",
   "metadata": {},
   "source": [
    "---\n",
    "\n",
    "## **Testing Video**"
   ]
  },
  {
   "cell_type": "code",
   "execution_count": 165,
   "metadata": {},
   "outputs": [
    {
     "name": "stdout",
     "output_type": "stream",
     "text": [
      "['Hello', 'Love']\n"
     ]
    }
   ],
   "source": [
    "# import necessary packages\n",
    "\n",
    "import cv2\n",
    "import numpy as np\n",
    "import mediapipe as mp\n",
    "import tensorflow as tf\n",
    "from tensorflow.keras.models import load_model\n",
    "\n",
    "# initialize mediapipe\n",
    "mpHands = mp.solutions.hands\n",
    "hands = mpHands.Hands(max_num_hands=1, min_detection_confidence=0.7)\n",
    "mpDraw = mp.solutions.drawing_utils\n",
    "\n",
    "# Load the gesture recognizer model\n",
    "model = load_model('checkpoints\\initial_model')\n",
    "\n",
    "# Load class names\n",
    "# f = open('gesture.names', 'r')\n",
    "# classNames = f.read().split('\\n')\n",
    "# f.close()\n",
    "classNames = [\"Hello\", \"Love You\"]\n",
    "print(classNames)\n",
    "\n",
    "\n",
    "# Initialize the webcam\n",
    "cap = cv2.VideoCapture(0)\n",
    "\n",
    "while True:\n",
    "    # Read each frame from the webcam\n",
    "    _, frame = cap.read()\n",
    "\n",
    "    x, y, c = frame.shape\n",
    "\n",
    "    # Flip the frame vertically\n",
    "    frame = cv2.flip(frame, 1)\n",
    "    framergb = cv2.cvtColor(frame, cv2.COLOR_BGR2RGB)\n",
    "\n",
    "    # Get hand landmark prediction\n",
    "    result = hands.process(framergb)\n",
    "\n",
    "    # print(result)\n",
    "    \n",
    "    className = ''\n",
    "\n",
    "    # post process the result\n",
    "    if result.multi_hand_landmarks:\n",
    "        landmarks = []\n",
    "        for handslms in result.multi_hand_landmarks:\n",
    "            for lm in handslms.landmark:\n",
    "                # print(id, lm)\n",
    "                lmx = int(lm.x * x)\n",
    "                lmy = int(lm.y * y)\n",
    "\n",
    "                landmarks.append([lmx, lmy])\n",
    "\n",
    "            # Drawing landmarks on frames\n",
    "            mpDraw.draw_landmarks(frame, handslms, mpHands.HAND_CONNECTIONS)\n",
    "\n",
    "            # Predict gesture\n",
    "            prediction = model.predict([landmarks])\n",
    "            # print(prediction)\n",
    "            classID = np.argmax(prediction)\n",
    "            className = classNames[classID]\n",
    "\n",
    "    # show the prediction on the frame\n",
    "    cv2.putText(frame, className, (10, 50), cv2.FONT_HERSHEY_SIMPLEX, \n",
    "                   1, (0,0,255), 2, cv2.LINE_AA)\n",
    "\n",
    "    # Show the final output\n",
    "    cv2.imshow(\"Output\", frame) \n",
    "\n",
    "    if cv2.waitKey(1) == ord('q'):\n",
    "        break\n",
    "\n",
    "# release the webcam and destroy all active windows\n",
    "cap.release()\n",
    "\n",
    "cv2.destroyAllWindows()"
   ]
  }
 ],
 "metadata": {
  "interpreter": {
   "hash": "bff6b25a10b852318755d46bc5b4c8001116bec713b71f82f988afda0a77c275"
  },
  "kernelspec": {
   "display_name": "Python 3.6.13 ('UI')",
   "language": "python",
   "name": "python3"
  },
  "language_info": {
   "codemirror_mode": {
    "name": "ipython",
    "version": 3
   },
   "file_extension": ".py",
   "mimetype": "text/x-python",
   "name": "python",
   "nbconvert_exporter": "python",
   "pygments_lexer": "ipython3",
   "version": "3.6.13"
  },
  "orig_nbformat": 4
 },
 "nbformat": 4,
 "nbformat_minor": 2
}
